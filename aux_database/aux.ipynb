{
 "cells": [
  {
   "cell_type": "code",
   "execution_count": 1,
   "metadata": {},
   "outputs": [],
   "source": [
    "import boto3"
   ]
  },
  {
   "cell_type": "code",
   "execution_count": 8,
   "metadata": {},
   "outputs": [
    {
     "name": "stdout",
     "output_type": "stream",
     "text": [
      "put_item response: {'ResponseMetadata': {'RequestId': 'BA79J71FQI47HKMNK45RU5PNJFVV4KQNSO5AEMVJF66Q9ASUAAJG', 'HTTPStatusCode': 200, 'HTTPHeaders': {'server': 'Server', 'date': 'Fri, 05 May 2023 14:55:21 GMT', 'content-type': 'application/x-amz-json-1.0', 'content-length': '2', 'connection': 'keep-alive', 'x-amzn-requestid': 'BA79J71FQI47HKMNK45RU5PNJFVV4KQNSO5AEMVJF66Q9ASUAAJG', 'x-amz-crc32': '2745614147'}, 'RetryAttempts': 0}}\n",
      "get_item response:  {'Item': {'occ_sensor': {'S': '#biotech/biotech_4th_floor/fourth_floor_fume_hood_lab_spaces/lab_433_control/occ'}, 'id': {'S': 'Biotech.Floor_4.Lab_433.Hood_1'}, 'flow_sensor': {'S': '#biotech/biotech_4th_floor/fourth_floor_fume_hood_lab_spaces/lab_433_control/hoodvalve_flow/trend_log'}, 'temp_sensor': {'S': '#biotech/biotech_4th_floor/fourth_floor_fume_hood_lab_spaces/lab_433_control/zone/zone_temp/trend_log'}, 'sash_sensor': {'S': '#biotech/biotech_4th_floor/fourth_floor_fume_hood_lab_spaces/lab_433_control/hood_sash'}}, 'ResponseMetadata': {'RequestId': '5JROML2PHIJ19NJMTAOA3L256NVV4KQNSO5AEMVJF66Q9ASUAAJG', 'HTTPStatusCode': 200, 'HTTPHeaders': {'server': 'Server', 'date': 'Fri, 05 May 2023 14:55:21 GMT', 'content-type': 'application/x-amz-json-1.0', 'content-length': '513', 'connection': 'keep-alive', 'x-amzn-requestid': '5JROML2PHIJ19NJMTAOA3L256NVV4KQNSO5AEMVJF66Q9ASUAAJG', 'x-amz-crc32': '2303673067'}, 'RetryAttempts': 0}}\n"
     ]
    }
   ],
   "source": [
    "TABLE_NAME = \"fumehoods\"\n",
    "\n",
    "# Creating the DynamoDB Client\n",
    "# make sure to set the AWS_ACCESS_KEY_ID and\n",
    "# AWS_SECRET_ACCESS_KEY environment variables\n",
    "# OR pass credentials when creating the client:\n",
    "dynamodb_client = boto3.client('dynamodb',\n",
    "   region_name=\"us-east-1\",\n",
    "   aws_access_key_id=\"TODO\",\n",
    "   aws_secret_access_key=\"TODO\"\n",
    ")\n",
    "\n",
    "hood = {\n",
    "    \"id\": {\"S\": \"Biotech.Floor_4.Lab_433.Hood_1\"},\n",
    "    \"sash_sensor\": {\n",
    "        \"S\": \"#biotech/biotech_4th_floor/fourth_floor_fume_hood_lab_spaces/lab_433_control/hood_sash\"\n",
    "    },\n",
    "    \"occ_sensor\": {\n",
    "        \"S\": \"#biotech/biotech_4th_floor/fourth_floor_fume_hood_lab_spaces/lab_433_control/occ\"\n",
    "    },\n",
    "    \"temp_sensor\": {\n",
    "        \"S\": \"#biotech/biotech_4th_floor/fourth_floor_fume_hood_lab_spaces/lab_433_control/zone/zone_temp/trend_log\"\n",
    "    },\n",
    "    \"flow_sensor\": {\n",
    "        \"S\": \"#biotech/biotech_4th_floor/fourth_floor_fume_hood_lab_spaces/lab_433_control/hoodvalve_flow/trend_log\"\n",
    "    },\n",
    "}\n",
    "response = dynamodb_client.put_item(TableName=TABLE_NAME, Item=hood)\n",
    "\n",
    "print(\"put_item response:\", response)\n",
    "response = dynamodb_client.get_item(\n",
    "    TableName=TABLE_NAME, Key={\"id\": {\"S\": \"Biotech.Floor_4.Lab_433.Hood_1\"}}\n",
    ")\n",
    "print(\"get_item response: \", response)"
   ]
  }
 ],
 "metadata": {
  "kernelspec": {
   "display_name": "base",
   "language": "python",
   "name": "python3"
  },
  "language_info": {
   "codemirror_mode": {
    "name": "ipython",
    "version": 3
   },
   "file_extension": ".py",
   "mimetype": "text/x-python",
   "name": "python",
   "nbconvert_exporter": "python",
   "pygments_lexer": "ipython3",
   "version": "3.9.13"
  },
  "orig_nbformat": 4
 },
 "nbformat": 4,
 "nbformat_minor": 2
}
