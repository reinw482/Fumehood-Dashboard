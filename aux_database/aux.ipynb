{
 "cells": [
  {
   "cell_type": "code",
   "execution_count": 2,
   "metadata": {},
   "outputs": [],
   "source": [
    "import boto3"
   ]
  },
  {
   "cell_type": "code",
   "execution_count": 12,
   "metadata": {},
   "outputs": [
    {
     "name": "stdout",
     "output_type": "stream",
     "text": [
      "put_item response:\n"
     ]
    },
    {
     "data": {
      "text/plain": [
       "{'ResponseMetadata': {'RequestId': 'NCVBDTLKLVBVQ8IVLGE8FINP1VVV4KQNSO5AEMVJF66Q9ASUAAJG',\n",
       "  'HTTPStatusCode': 200,\n",
       "  'HTTPHeaders': {'server': 'Server',\n",
       "   'date': 'Thu, 21 Sep 2023 20:02:48 GMT',\n",
       "   'content-type': 'application/x-amz-json-1.0',\n",
       "   'content-length': '2',\n",
       "   'connection': 'keep-alive',\n",
       "   'x-amzn-requestid': 'NCVBDTLKLVBVQ8IVLGE8FINP1VVV4KQNSO5AEMVJF66Q9ASUAAJG',\n",
       "   'x-amz-crc32': '2745614147'},\n",
       "  'RetryAttempts': 0}}"
      ]
     },
     "metadata": {},
     "output_type": "display_data"
    },
    {
     "name": "stdout",
     "output_type": "stream",
     "text": [
      "get_item response:\n"
     ]
    },
    {
     "data": {
      "text/plain": [
       "{'occ_sensor': {'S': '#biotech/biotech_4th_floor/fourth_floor_fume_hood_lab_spaces/lab_433_control/occ'},\n",
       " 'id': {'S': 'Biotech.Floor_4.Lab_433.Hood_1'},\n",
       " 'flow_sensor': {'S': '#biotech/biotech_4th_floor/fourth_floor_fume_hood_lab_spaces/lab_433_control/hoodvalve_flow/trend_log'},\n",
       " 'temp_sensor': {'S': '#biotech/biotech_4th_floor/fourth_floor_fume_hood_lab_spaces/lab_433_control/zone/zone_temp/trend_log'},\n",
       " 'sash_sensor': {'S': '#biotech/biotech_4th_floor/fourth_floor_fume_hood_lab_spaces/lab_433_control/hood_sash'}}"
      ]
     },
     "metadata": {},
     "output_type": "display_data"
    }
   ],
   "source": [
    "TABLE_NAME = \"fumehoods\"\n",
    "\n",
    "# Creating the DynamoDB Client\n",
    "# make sure to set the AWS_ACCESS_KEY_ID and\n",
    "# AWS_SECRET_ACCESS_KEY environment variables\n",
    "# OR pass credentials when creating the client:\n",
    "dynamodb_client = boto3.client('dynamodb',\n",
    "   region_name=\"us-east-1\",\n",
    "   aws_access_key_id=\"TODO\",\n",
    "   aws_secret_access_key=\"TODO\"\n",
    ")\n",
    "\n",
    "hood = {\n",
    "    \"id\": {\"S\": \"Biotech.Floor_4.Lab_433.Hood_1\"},\n",
    "    \"sash_sensor\": {\n",
    "        \"S\": \"#biotech/biotech_4th_floor/fourth_floor_fume_hood_lab_spaces/lab_433_control/hood_sash\"\n",
    "    },\n",
    "    \"occ_sensor\": {\n",
    "        \"S\": \"#biotech/biotech_4th_floor/fourth_floor_fume_hood_lab_spaces/lab_433_control/occ\"\n",
    "    },\n",
    "    \"temp_sensor\": {\n",
    "        \"S\": \"#biotech/biotech_4th_floor/fourth_floor_fume_hood_lab_spaces/lab_433_control/zone/zone_temp/trend_log\"\n",
    "    },\n",
    "    \"flow_sensor\": {\n",
    "        \"S\": \"#biotech/biotech_4th_floor/fourth_floor_fume_hood_lab_spaces/lab_433_control/hoodvalve_flow/trend_log\"\n",
    "    },\n",
    "}\n",
    "response = dynamodb_client.put_item(TableName=TABLE_NAME, Item=hood)\n",
    "\n",
    "print(\"put_item response:\")\n",
    "display(response)\n",
    "response = dynamodb_client.get_item(\n",
    "    TableName=TABLE_NAME, Key={\"id\": {\"S\": \"Biotech.Floor_4.Lab_433.Hood_1\"}}\n",
    ")\n",
    "print(\"get_item response:\")\n",
    "display(response[\"Item\"])"
   ]
  },
  {
   "cell_type": "code",
   "execution_count": null,
   "metadata": {},
   "outputs": [],
   "source": []
  }
 ],
 "metadata": {
  "kernelspec": {
   "display_name": "base",
   "language": "python",
   "name": "python3"
  },
  "language_info": {
   "codemirror_mode": {
    "name": "ipython",
    "version": 3
   },
   "file_extension": ".py",
   "mimetype": "text/x-python",
   "name": "python",
   "nbconvert_exporter": "python",
   "pygments_lexer": "ipython3",
   "version": "3.11.4"
  },
  "orig_nbformat": 4
 },
 "nbformat": 4,
 "nbformat_minor": 2
}
