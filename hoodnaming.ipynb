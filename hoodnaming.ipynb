{
 "cells": [
  {
   "cell_type": "code",
   "execution_count": 2,
   "metadata": {
    "collapsed": true
   },
   "outputs": [
    {
     "data": {
      "text/plain": "    Unnamed: 0   Lab   Floor        Server  \\\n0            0   g54  ground  biotech_main   \n1            1   141     1st  biotech_main   \n2            2   143     1st  biotech_main   \n3            3  147b     1st  biotech_main   \n4            4   153     1st  biotech_main   \n..         ...   ...     ...           ...   \n61          61  445b     4th  biotech_main   \n62          62   453     4th  biotech_main   \n63          63  453b     4th  biotech_main   \n64          64   457     4th  biotech_main   \n65          65  457b     4th  biotech_main   \n\n                                                 Hood  \\\n0   #biotech/biotech_ground_floor/ground_floor_fum...   \n1   #biotech/biotech_1st_floor/first_floor_fume_ho...   \n2   #biotech/biotech_1st_floor/first_floor_fume_ho...   \n3   #biotech/biotech_1st_floor/first_floor_fume_ho...   \n4   #biotech/biotech_1st_floor/first_floor_fume_ho...   \n..                                                ...   \n61  #biotech/biotech_4th_floor/fourth_floor_fume_h...   \n62  #biotech/biotech_4th_floor/fourth_floor_fume_h...   \n63  #biotech/biotech_4th_floor/fourth_floor_fume_h...   \n64  #biotech/biotech_4th_floor/fourth_floor_fume_h...   \n65  #biotech/biotech_4th_floor/fourth_floor_fume_h...   \n\n                                                 Sash  \\\n0   #biotech/biotech_ground_floor/ground_floor_fum...   \n1   #biotech/biotech_1st_floor/first_floor_fume_ho...   \n2   #biotech/biotech_1st_floor/first_floor_fume_ho...   \n3   #biotech/biotech_1st_floor/first_floor_fume_ho...   \n4   #biotech/biotech_1st_floor/first_floor_fume_ho...   \n..                                                ...   \n61  #biotech/biotech_4th_floor/fourth_floor_fume_h...   \n62  #biotech/biotech_4th_floor/fourth_floor_fume_h...   \n63  #biotech/biotech_4th_floor/fourth_floor_fume_h...   \n64  #biotech/biotech_4th_floor/fourth_floor_fume_h...   \n65  #biotech/biotech_4th_floor/fourth_floor_fume_h...   \n\n                                            Occupancy  \\\n0   #biotech/biotech_ground_floor/ground_floor_fum...   \n1   #biotech/biotech_1st_floor/first_floor_fume_ho...   \n2   #biotech/biotech_1st_floor/first_floor_fume_ho...   \n3   #biotech/biotech_1st_floor/first_floor_fume_ho...   \n4   #biotech/biotech_1st_floor/first_floor_fume_ho...   \n..                                                ...   \n61  #biotech/biotech_4th_floor/fourth_floor_fume_h...   \n62  #biotech/biotech_4th_floor/fourth_floor_fume_h...   \n63  #biotech/biotech_4th_floor/fourth_floor_fume_h...   \n64  #biotech/biotech_4th_floor/fourth_floor_fume_h...   \n65  #biotech/biotech_4th_floor/fourth_floor_fume_h...   \n\n                                        Internal Temp  \\\n0   #biotech/biotech_ground_floor/ground_floor_fum...   \n1   #biotech/biotech_1st_floor/first_floor_fume_ho...   \n2   #biotech/biotech_1st_floor/first_floor_fume_ho...   \n3   #biotech/biotech_1st_floor/first_floor_fume_ho...   \n4   #biotech/biotech_1st_floor/first_floor_fume_ho...   \n..                                                ...   \n61  #biotech/biotech_4th_floor/fourth_floor_fume_h...   \n62  #biotech/biotech_4th_floor/fourth_floor_fume_h...   \n63  #biotech/biotech_4th_floor/fourth_floor_fume_h...   \n64  #biotech/biotech_4th_floor/fourth_floor_fume_h...   \n65  #biotech/biotech_4th_floor/fourth_floor_fume_h...   \n\n                                        External Temp  \n0   #biotech/ground_flr_mech/building_hydronic_hea...  \n1   #biotech/ground_flr_mech/building_hydronic_hea...  \n2   #biotech/ground_flr_mech/building_hydronic_hea...  \n3   #biotech/ground_flr_mech/building_hydronic_hea...  \n4   #biotech/ground_flr_mech/building_hydronic_hea...  \n..                                                ...  \n61  #biotech/ground_flr_mech/building_hydronic_hea...  \n62  #biotech/ground_flr_mech/building_hydronic_hea...  \n63  #biotech/ground_flr_mech/building_hydronic_hea...  \n64  #biotech/ground_flr_mech/building_hydronic_hea...  \n65  #biotech/ground_flr_mech/building_hydronic_hea...  \n\n[66 rows x 9 columns]",
      "text/html": "<div>\n<style scoped>\n    .dataframe tbody tr th:only-of-type {\n        vertical-align: middle;\n    }\n\n    .dataframe tbody tr th {\n        vertical-align: top;\n    }\n\n    .dataframe thead th {\n        text-align: right;\n    }\n</style>\n<table border=\"1\" class=\"dataframe\">\n  <thead>\n    <tr style=\"text-align: right;\">\n      <th></th>\n      <th>Unnamed: 0</th>\n      <th>Lab</th>\n      <th>Floor</th>\n      <th>Server</th>\n      <th>Hood</th>\n      <th>Sash</th>\n      <th>Occupancy</th>\n      <th>Internal Temp</th>\n      <th>External Temp</th>\n    </tr>\n  </thead>\n  <tbody>\n    <tr>\n      <th>0</th>\n      <td>0</td>\n      <td>g54</td>\n      <td>ground</td>\n      <td>biotech_main</td>\n      <td>#biotech/biotech_ground_floor/ground_floor_fum...</td>\n      <td>#biotech/biotech_ground_floor/ground_floor_fum...</td>\n      <td>#biotech/biotech_ground_floor/ground_floor_fum...</td>\n      <td>#biotech/biotech_ground_floor/ground_floor_fum...</td>\n      <td>#biotech/ground_flr_mech/building_hydronic_hea...</td>\n    </tr>\n    <tr>\n      <th>1</th>\n      <td>1</td>\n      <td>141</td>\n      <td>1st</td>\n      <td>biotech_main</td>\n      <td>#biotech/biotech_1st_floor/first_floor_fume_ho...</td>\n      <td>#biotech/biotech_1st_floor/first_floor_fume_ho...</td>\n      <td>#biotech/biotech_1st_floor/first_floor_fume_ho...</td>\n      <td>#biotech/biotech_1st_floor/first_floor_fume_ho...</td>\n      <td>#biotech/ground_flr_mech/building_hydronic_hea...</td>\n    </tr>\n    <tr>\n      <th>2</th>\n      <td>2</td>\n      <td>143</td>\n      <td>1st</td>\n      <td>biotech_main</td>\n      <td>#biotech/biotech_1st_floor/first_floor_fume_ho...</td>\n      <td>#biotech/biotech_1st_floor/first_floor_fume_ho...</td>\n      <td>#biotech/biotech_1st_floor/first_floor_fume_ho...</td>\n      <td>#biotech/biotech_1st_floor/first_floor_fume_ho...</td>\n      <td>#biotech/ground_flr_mech/building_hydronic_hea...</td>\n    </tr>\n    <tr>\n      <th>3</th>\n      <td>3</td>\n      <td>147b</td>\n      <td>1st</td>\n      <td>biotech_main</td>\n      <td>#biotech/biotech_1st_floor/first_floor_fume_ho...</td>\n      <td>#biotech/biotech_1st_floor/first_floor_fume_ho...</td>\n      <td>#biotech/biotech_1st_floor/first_floor_fume_ho...</td>\n      <td>#biotech/biotech_1st_floor/first_floor_fume_ho...</td>\n      <td>#biotech/ground_flr_mech/building_hydronic_hea...</td>\n    </tr>\n    <tr>\n      <th>4</th>\n      <td>4</td>\n      <td>153</td>\n      <td>1st</td>\n      <td>biotech_main</td>\n      <td>#biotech/biotech_1st_floor/first_floor_fume_ho...</td>\n      <td>#biotech/biotech_1st_floor/first_floor_fume_ho...</td>\n      <td>#biotech/biotech_1st_floor/first_floor_fume_ho...</td>\n      <td>#biotech/biotech_1st_floor/first_floor_fume_ho...</td>\n      <td>#biotech/ground_flr_mech/building_hydronic_hea...</td>\n    </tr>\n    <tr>\n      <th>...</th>\n      <td>...</td>\n      <td>...</td>\n      <td>...</td>\n      <td>...</td>\n      <td>...</td>\n      <td>...</td>\n      <td>...</td>\n      <td>...</td>\n      <td>...</td>\n    </tr>\n    <tr>\n      <th>61</th>\n      <td>61</td>\n      <td>445b</td>\n      <td>4th</td>\n      <td>biotech_main</td>\n      <td>#biotech/biotech_4th_floor/fourth_floor_fume_h...</td>\n      <td>#biotech/biotech_4th_floor/fourth_floor_fume_h...</td>\n      <td>#biotech/biotech_4th_floor/fourth_floor_fume_h...</td>\n      <td>#biotech/biotech_4th_floor/fourth_floor_fume_h...</td>\n      <td>#biotech/ground_flr_mech/building_hydronic_hea...</td>\n    </tr>\n    <tr>\n      <th>62</th>\n      <td>62</td>\n      <td>453</td>\n      <td>4th</td>\n      <td>biotech_main</td>\n      <td>#biotech/biotech_4th_floor/fourth_floor_fume_h...</td>\n      <td>#biotech/biotech_4th_floor/fourth_floor_fume_h...</td>\n      <td>#biotech/biotech_4th_floor/fourth_floor_fume_h...</td>\n      <td>#biotech/biotech_4th_floor/fourth_floor_fume_h...</td>\n      <td>#biotech/ground_flr_mech/building_hydronic_hea...</td>\n    </tr>\n    <tr>\n      <th>63</th>\n      <td>63</td>\n      <td>453b</td>\n      <td>4th</td>\n      <td>biotech_main</td>\n      <td>#biotech/biotech_4th_floor/fourth_floor_fume_h...</td>\n      <td>#biotech/biotech_4th_floor/fourth_floor_fume_h...</td>\n      <td>#biotech/biotech_4th_floor/fourth_floor_fume_h...</td>\n      <td>#biotech/biotech_4th_floor/fourth_floor_fume_h...</td>\n      <td>#biotech/ground_flr_mech/building_hydronic_hea...</td>\n    </tr>\n    <tr>\n      <th>64</th>\n      <td>64</td>\n      <td>457</td>\n      <td>4th</td>\n      <td>biotech_main</td>\n      <td>#biotech/biotech_4th_floor/fourth_floor_fume_h...</td>\n      <td>#biotech/biotech_4th_floor/fourth_floor_fume_h...</td>\n      <td>#biotech/biotech_4th_floor/fourth_floor_fume_h...</td>\n      <td>#biotech/biotech_4th_floor/fourth_floor_fume_h...</td>\n      <td>#biotech/ground_flr_mech/building_hydronic_hea...</td>\n    </tr>\n    <tr>\n      <th>65</th>\n      <td>65</td>\n      <td>457b</td>\n      <td>4th</td>\n      <td>biotech_main</td>\n      <td>#biotech/biotech_4th_floor/fourth_floor_fume_h...</td>\n      <td>#biotech/biotech_4th_floor/fourth_floor_fume_h...</td>\n      <td>#biotech/biotech_4th_floor/fourth_floor_fume_h...</td>\n      <td>#biotech/biotech_4th_floor/fourth_floor_fume_h...</td>\n      <td>#biotech/ground_flr_mech/building_hydronic_hea...</td>\n    </tr>\n  </tbody>\n</table>\n<p>66 rows × 9 columns</p>\n</div>"
     },
     "metadata": {},
     "output_type": "display_data"
    }
   ],
   "source": [
    "import pandas as pd\n",
    "\n",
    "df = pd.read_csv(\"pointnames.csv\")\n",
    "display(df)"
   ]
  },
  {
   "cell_type": "code",
   "execution_count": null,
   "outputs": [],
   "source": [],
   "metadata": {
    "collapsed": false
   }
  }
 ],
 "metadata": {
  "kernelspec": {
   "display_name": "Python 3",
   "language": "python",
   "name": "python3"
  },
  "language_info": {
   "codemirror_mode": {
    "name": "ipython",
    "version": 2
   },
   "file_extension": ".py",
   "mimetype": "text/x-python",
   "name": "python",
   "nbconvert_exporter": "python",
   "pygments_lexer": "ipython2",
   "version": "2.7.6"
  }
 },
 "nbformat": 4,
 "nbformat_minor": 0
}
