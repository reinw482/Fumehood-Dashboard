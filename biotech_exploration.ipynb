{
 "cells": [
  {
   "cell_type": "code",
   "execution_count": 10,
   "metadata": {
    "collapsed": true
   },
   "outputs": [],
   "source": [
    "import pandas as pd\n",
    "import numpy as np\n",
    "from datetime import datetime, timezone\n",
    "import requests\n",
    "import json\n",
    "import matplotlib.pyplot as plt\n",
    "import math\n",
    "import scipy.stats as st\n",
    "\n",
    "from dateutil import parser\n",
    "import matplotlib.dates as mdates"
   ]
  },
  {
   "cell_type": "code",
   "execution_count": 11,
   "outputs": [],
   "source": [
    "def create_tuple(response):\n",
    "    response_data = response.json()\n",
    "    response_datum = response_data[0]\n",
    "    response_target = response_datum['target']\n",
    "    response_datapoints = response_datum['datapoints']\n",
    "    tuple_array = [tuple(x) for x in response_datapoints]\n",
    "    npa = np.array(tuple_array, dtype=[\n",
    "        ('value', np.double), ('ts', 'datetime64[ms]')])\n",
    "    return npa"
   ],
   "metadata": {
    "collapsed": false
   }
  },
  {
   "cell_type": "code",
   "execution_count": 12,
   "outputs": [],
   "source": [
    "\"\"\"\n",
    "Returns an array of tuples where tuple[0] is the metric, and tuple[1] is the time\n",
    "of measurement\n",
    "\n",
    "Target: a WebCTRL point name in the form of a string\n",
    "Example: \"#biotech/biotech_4th_floor/fourth_floor_fume_hood_lab_spaces/lab_433_control/zone/zone_temp/trend_log\"\n",
    "\n",
    "Server: a string representing the WebCTRL server our point exists in\n",
    "Example: \"biotech_main\"\n",
    "\n",
    "Start: the start time we wish to be querying data about (in string format)\n",
    "Example: \"2021-12-31T11:00Z\"\n",
    "\n",
    "End: The end time we wish to be querying data about\n",
    "Example: \"2022-12-31T11:00Z\"\n",
    "\"\"\"\n",
    "def fume_query(target,server, start,end):\n",
    "    url = \"https://ypsu0n34jc.execute-api.us-east-1.amazonaws.com/dev/query\"\n",
    "    data = {\n",
    "        \"range\": {\n",
    "            \"from\": start,\n",
    "            \"to\": end,\n",
    "        },\n",
    "        \"targets\": [\n",
    "            {\n",
    "                \"payload\": {\n",
    "                    \"schema\": server,\n",
    "                },\n",
    "                \"target\": target\n",
    "            }\n",
    "        ],\n",
    "\n",
    "    }\n",
    "    request = requests.post(url, json=data)\n",
    "    print(request)\n",
    "    # print(request.json())\n",
    "    return create_tuple(request)\n",
    "\n",
    "# fume_query(target=\"#biotech/biotech_4th_floor/fourth_floor_fume_hood_lab_spaces/lab_433_control/hood_sash\", server=\"biotech_main\", start=\"2021-12-25T00:00:00.000\", end=\"2021-12-25T00:00:00.000\")\n",
    "# fume_query(target=\"#biotech_weather/temperature_tn\", server=\"biotech_main\", star\n"
   ],
   "metadata": {
    "collapsed": false
   }
  },
  {
   "cell_type": "code",
   "execution_count": 13,
   "outputs": [],
   "source": [
    "def query_to_list(point, server, start, end):\n",
    "    master = fume_query(point, server, start, end)\n",
    "\n",
    "    list = pd.Series(data=[i[0] for i in master], index=[i[1] for i in master])\n",
    "    print(\"\\n\", point, \"\\n\", list)\n",
    "\n",
    "    list = list[~list.index.duplicated()]\n",
    "    print(\"\\n\", point, \" new\\n\", list)\n",
    "\n",
    "    return list"
   ],
   "metadata": {
    "collapsed": false
   }
  },
  {
   "cell_type": "code",
   "execution_count": 14,
   "outputs": [
    {
     "name": "stdout",
     "output_type": "stream",
     "text": [
      "<Response [200]>\n",
      "\n",
      " #biotech/biotech_4th_floor/fourth_floor_fume_hood_lab_spaces/lab_433_control/hood_sash \n",
      " 2021-11-17 05:00:00    3.3\n",
      "2021-11-17 05:05:00    3.3\n",
      "2021-11-17 05:10:00    3.3\n",
      "2021-11-17 05:15:00    3.3\n",
      "2021-11-17 05:20:00    3.3\n",
      "                      ... \n",
      "2021-11-18 04:35:00    1.8\n",
      "2021-11-18 04:40:00    1.8\n",
      "2021-11-18 04:45:00    1.8\n",
      "2021-11-18 04:50:00    1.8\n",
      "2021-11-18 04:55:00    1.8\n",
      "Length: 288, dtype: float64\n",
      "\n",
      " #biotech/biotech_4th_floor/fourth_floor_fume_hood_lab_spaces/lab_433_control/hood_sash  new\n",
      " 2021-11-17 05:00:00    3.3\n",
      "2021-11-17 05:05:00    3.3\n",
      "2021-11-17 05:10:00    3.3\n",
      "2021-11-17 05:15:00    3.3\n",
      "2021-11-17 05:20:00    3.3\n",
      "                      ... \n",
      "2021-11-18 04:35:00    1.8\n",
      "2021-11-18 04:40:00    1.8\n",
      "2021-11-18 04:45:00    1.8\n",
      "2021-11-18 04:50:00    1.8\n",
      "2021-11-18 04:55:00    1.8\n",
      "Length: 288, dtype: float64\n",
      "<Response [200]>\n",
      "\n",
      " #biotech/biotech_4th_floor/fourth_floor_fume_hood_lab_spaces/lab_433_control/occ_trend \n",
      " 2021-11-17 05:00:00    1.0\n",
      "2021-11-17 05:05:00    1.0\n",
      "2021-11-17 05:10:00    1.0\n",
      "2021-11-17 05:15:00    1.0\n",
      "2021-11-17 05:20:00    1.0\n",
      "                      ... \n",
      "2021-11-18 04:35:00    0.0\n",
      "2021-11-18 04:40:00    0.0\n",
      "2021-11-18 04:45:00    0.0\n",
      "2021-11-18 04:50:00    0.0\n",
      "2021-11-18 04:55:00    0.0\n",
      "Length: 288, dtype: float64\n",
      "\n",
      " #biotech/biotech_4th_floor/fourth_floor_fume_hood_lab_spaces/lab_433_control/occ_trend  new\n",
      " 2021-11-17 05:00:00    1.0\n",
      "2021-11-17 05:05:00    1.0\n",
      "2021-11-17 05:10:00    1.0\n",
      "2021-11-17 05:15:00    1.0\n",
      "2021-11-17 05:20:00    1.0\n",
      "                      ... \n",
      "2021-11-18 04:35:00    0.0\n",
      "2021-11-18 04:40:00    0.0\n",
      "2021-11-18 04:45:00    0.0\n",
      "2021-11-18 04:50:00    0.0\n",
      "2021-11-18 04:55:00    0.0\n",
      "Length: 288, dtype: float64\n"
     ]
    },
    {
     "data": {
      "text/plain": "                     sash  occ\n2021-11-17 05:00:00   3.3  1.0\n2021-11-17 05:05:00   3.3  1.0\n2021-11-17 05:10:00   3.3  1.0\n2021-11-17 05:15:00   3.3  1.0\n2021-11-17 05:20:00   3.3  1.0\n...                   ...  ...\n2021-11-18 04:35:00   1.8  0.0\n2021-11-18 04:40:00   1.8  0.0\n2021-11-18 04:45:00   1.8  0.0\n2021-11-18 04:50:00   1.8  0.0\n2021-11-18 04:55:00   1.8  0.0\n\n[288 rows x 2 columns]",
      "text/html": "<div>\n<style scoped>\n    .dataframe tbody tr th:only-of-type {\n        vertical-align: middle;\n    }\n\n    .dataframe tbody tr th {\n        vertical-align: top;\n    }\n\n    .dataframe thead th {\n        text-align: right;\n    }\n</style>\n<table border=\"1\" class=\"dataframe\">\n  <thead>\n    <tr style=\"text-align: right;\">\n      <th></th>\n      <th>sash</th>\n      <th>occ</th>\n    </tr>\n  </thead>\n  <tbody>\n    <tr>\n      <th>2021-11-17 05:00:00</th>\n      <td>3.3</td>\n      <td>1.0</td>\n    </tr>\n    <tr>\n      <th>2021-11-17 05:05:00</th>\n      <td>3.3</td>\n      <td>1.0</td>\n    </tr>\n    <tr>\n      <th>2021-11-17 05:10:00</th>\n      <td>3.3</td>\n      <td>1.0</td>\n    </tr>\n    <tr>\n      <th>2021-11-17 05:15:00</th>\n      <td>3.3</td>\n      <td>1.0</td>\n    </tr>\n    <tr>\n      <th>2021-11-17 05:20:00</th>\n      <td>3.3</td>\n      <td>1.0</td>\n    </tr>\n    <tr>\n      <th>...</th>\n      <td>...</td>\n      <td>...</td>\n    </tr>\n    <tr>\n      <th>2021-11-18 04:35:00</th>\n      <td>1.8</td>\n      <td>0.0</td>\n    </tr>\n    <tr>\n      <th>2021-11-18 04:40:00</th>\n      <td>1.8</td>\n      <td>0.0</td>\n    </tr>\n    <tr>\n      <th>2021-11-18 04:45:00</th>\n      <td>1.8</td>\n      <td>0.0</td>\n    </tr>\n    <tr>\n      <th>2021-11-18 04:50:00</th>\n      <td>1.8</td>\n      <td>0.0</td>\n    </tr>\n    <tr>\n      <th>2021-11-18 04:55:00</th>\n      <td>1.8</td>\n      <td>0.0</td>\n    </tr>\n  </tbody>\n</table>\n<p>288 rows × 2 columns</p>\n</div>"
     },
     "metadata": {},
     "output_type": "display_data"
    },
    {
     "data": {
      "text/plain": "                     sash  occ  time_open_mins\n2021-11-17 05:00:00   3.3  1.0               0\n2021-11-17 05:05:00   3.3  1.0               0\n2021-11-17 05:10:00   3.3  1.0               0\n2021-11-17 05:15:00   3.3  1.0               0\n2021-11-17 05:20:00   3.3  1.0               0\n...                   ...  ...             ...\n2021-11-18 04:35:00   1.8  0.0               5\n2021-11-18 04:40:00   1.8  0.0               5\n2021-11-18 04:45:00   1.8  0.0               5\n2021-11-18 04:50:00   1.8  0.0               5\n2021-11-18 04:55:00   1.8  0.0               5\n\n[288 rows x 3 columns]",
      "text/html": "<div>\n<style scoped>\n    .dataframe tbody tr th:only-of-type {\n        vertical-align: middle;\n    }\n\n    .dataframe tbody tr th {\n        vertical-align: top;\n    }\n\n    .dataframe thead th {\n        text-align: right;\n    }\n</style>\n<table border=\"1\" class=\"dataframe\">\n  <thead>\n    <tr style=\"text-align: right;\">\n      <th></th>\n      <th>sash</th>\n      <th>occ</th>\n      <th>time_open_mins</th>\n    </tr>\n  </thead>\n  <tbody>\n    <tr>\n      <th>2021-11-17 05:00:00</th>\n      <td>3.3</td>\n      <td>1.0</td>\n      <td>0</td>\n    </tr>\n    <tr>\n      <th>2021-11-17 05:05:00</th>\n      <td>3.3</td>\n      <td>1.0</td>\n      <td>0</td>\n    </tr>\n    <tr>\n      <th>2021-11-17 05:10:00</th>\n      <td>3.3</td>\n      <td>1.0</td>\n      <td>0</td>\n    </tr>\n    <tr>\n      <th>2021-11-17 05:15:00</th>\n      <td>3.3</td>\n      <td>1.0</td>\n      <td>0</td>\n    </tr>\n    <tr>\n      <th>2021-11-17 05:20:00</th>\n      <td>3.3</td>\n      <td>1.0</td>\n      <td>0</td>\n    </tr>\n    <tr>\n      <th>...</th>\n      <td>...</td>\n      <td>...</td>\n      <td>...</td>\n    </tr>\n    <tr>\n      <th>2021-11-18 04:35:00</th>\n      <td>1.8</td>\n      <td>0.0</td>\n      <td>5</td>\n    </tr>\n    <tr>\n      <th>2021-11-18 04:40:00</th>\n      <td>1.8</td>\n      <td>0.0</td>\n      <td>5</td>\n    </tr>\n    <tr>\n      <th>2021-11-18 04:45:00</th>\n      <td>1.8</td>\n      <td>0.0</td>\n      <td>5</td>\n    </tr>\n    <tr>\n      <th>2021-11-18 04:50:00</th>\n      <td>1.8</td>\n      <td>0.0</td>\n      <td>5</td>\n    </tr>\n    <tr>\n      <th>2021-11-18 04:55:00</th>\n      <td>1.8</td>\n      <td>0.0</td>\n      <td>5</td>\n    </tr>\n  </tbody>\n</table>\n<p>288 rows × 3 columns</p>\n</div>"
     },
     "metadata": {},
     "output_type": "display_data"
    },
    {
     "data": {
      "text/plain": "2021-11-17 06:00:00     0\n2021-11-17 07:00:00    10\n2021-11-17 08:00:00    50\n2021-11-17 09:00:00     0\n2021-11-17 10:00:00    30\n2021-11-17 11:00:00    40\n2021-11-17 12:00:00    15\n2021-11-17 13:00:00    40\n2021-11-17 14:00:00    10\n2021-11-17 15:00:00     0\n2021-11-17 16:00:00     0\n2021-11-17 17:00:00     0\n2021-11-17 18:00:00     0\n2021-11-17 19:00:00     0\n2021-11-17 20:00:00     0\n2021-11-17 21:00:00     0\n2021-11-17 22:00:00     0\n2021-11-17 23:00:00     0\n2021-11-18 00:00:00     0\n2021-11-18 01:00:00     0\n2021-11-18 02:00:00     0\n2021-11-18 03:00:00    55\n2021-11-18 04:00:00    25\n2021-11-18 05:00:00    30\nFreq: 60T, Name: time_open_mins, dtype: int32"
     },
     "execution_count": 14,
     "metadata": {},
     "output_type": "execute_result"
    }
   ],
   "source": [
    "# Arguments: Sash Point, Occ Point, Server Name, Start Time, End Time\n",
    "# Returns: Total time that hood sash was open when room is unoccupied, aggregated by hour\n",
    "\n",
    "\n",
    "def total_time_sash_open_unoccupied(sash_point, occ_point, server, start, end):\n",
    "    sash_list = query_to_list(sash_point, server, start, end)\n",
    "    occ_list = query_to_list(occ_point, server, start, end)\n",
    "\n",
    "    df = pd.concat([sash_list, occ_list], axis=1)\n",
    "    df.columns = [\"sash\", \"occ\"]\n",
    "    display(df)\n",
    "\n",
    "    time_interval = df.index[1].minute - df.index[0].minute\n",
    "\n",
    "    # Figure out closed sash position\n",
    "    # display(df[\"sash\"].value_counts())\n",
    "\n",
    "    # from running the above on a large time difference, 1.2 inches is the most common smallest value\n",
    "    df[\"time_open_mins\"] = np.where((df[\"sash\"] > 1.2) & (df[\"occ\"] == 0), time_interval, 0)\n",
    "\n",
    "    df = df.dropna()\n",
    "    display(df)\n",
    "\n",
    "    df = df.groupby(pd.Grouper(freq='60Min', label='right')).sum()\n",
    "\n",
    "    return df[\"time_open_mins\"]\n",
    "\n",
    "total_time_sash_open_unoccupied(sash_point=\"#biotech/biotech_4th_floor/fourth_floor_fume_hood_lab_spaces/lab_433_control/hood_sash\",\n",
    "                                occ_point=\"#biotech/biotech_4th_floor/fourth_floor_fume_hood_lab_spaces/lab_433_control/occ_trend\",\n",
    "                                server=\"biotech_main\",\n",
    "                                start = str(datetime(2021, 11, 17, 1)),\n",
    "                                end = str(datetime(2021, 11, 17, 2)))"
   ],
   "metadata": {
    "collapsed": false
   }
  },
  {
   "cell_type": "code",
   "execution_count": 15,
   "outputs": [
    {
     "name": "stdout",
     "output_type": "stream",
     "text": [
      "<Response [200]>\n",
      "\n",
      " #biotech/biotech_4th_floor/fourth_floor_fume_hood_lab_spaces/lab_433_control/hoodvalve_flow/trend_log \n",
      " 2021-11-17 05:00:00    224.62\n",
      "2021-11-17 05:05:00    223.15\n",
      "2021-11-17 05:10:00    224.13\n",
      "2021-11-17 05:15:00    224.13\n",
      "2021-11-17 05:20:00    224.62\n",
      "                        ...  \n",
      "2021-11-19 04:35:00    222.66\n",
      "2021-11-19 04:40:00    224.13\n",
      "2021-11-19 04:45:00    225.10\n",
      "2021-11-19 04:50:00    223.64\n",
      "2021-11-19 04:55:00    224.13\n",
      "Length: 576, dtype: float64\n",
      "\n",
      " #biotech/biotech_4th_floor/fourth_floor_fume_hood_lab_spaces/lab_433_control/hoodvalve_flow/trend_log  new\n",
      " 2021-11-17 05:00:00    224.62\n",
      "2021-11-17 05:05:00    223.15\n",
      "2021-11-17 05:10:00    224.13\n",
      "2021-11-17 05:15:00    224.13\n",
      "2021-11-17 05:20:00    224.62\n",
      "                        ...  \n",
      "2021-11-19 04:35:00    222.66\n",
      "2021-11-19 04:40:00    224.13\n",
      "2021-11-19 04:45:00    225.10\n",
      "2021-11-19 04:50:00    223.64\n",
      "2021-11-19 04:55:00    224.13\n",
      "Length: 576, dtype: float64\n",
      "<Response [200]>\n",
      "\n",
      " #biotech/biotech_4th_floor/fourth_floor_fume_hood_lab_spaces/lab_433_control/hood_sash \n",
      " 2021-11-17 05:00:00    3.3\n",
      "2021-11-17 05:05:00    3.3\n",
      "2021-11-17 05:10:00    3.3\n",
      "2021-11-17 05:15:00    3.3\n",
      "2021-11-17 05:20:00    3.3\n",
      "                      ... \n",
      "2021-11-19 04:35:00    2.4\n",
      "2021-11-19 04:40:00    2.4\n",
      "2021-11-19 04:45:00    2.4\n",
      "2021-11-19 04:50:00    2.4\n",
      "2021-11-19 04:55:00    2.4\n",
      "Length: 576, dtype: float64\n",
      "\n",
      " #biotech/biotech_4th_floor/fourth_floor_fume_hood_lab_spaces/lab_433_control/hood_sash  new\n",
      " 2021-11-17 05:00:00    3.3\n",
      "2021-11-17 05:05:00    3.3\n",
      "2021-11-17 05:10:00    3.3\n",
      "2021-11-17 05:15:00    3.3\n",
      "2021-11-17 05:20:00    3.3\n",
      "                      ... \n",
      "2021-11-19 04:35:00    2.4\n",
      "2021-11-19 04:40:00    2.4\n",
      "2021-11-19 04:45:00    2.4\n",
      "2021-11-19 04:50:00    2.4\n",
      "2021-11-19 04:55:00    2.4\n",
      "Length: 576, dtype: float64\n",
      "<Response [200]>\n",
      "\n",
      " #biotech/biotech_4th_floor/fourth_floor_fume_hood_lab_spaces/lab_433_control/occ_trend \n",
      " 2021-11-17 05:00:00    1.0\n",
      "2021-11-17 05:05:00    1.0\n",
      "2021-11-17 05:10:00    1.0\n",
      "2021-11-17 05:15:00    1.0\n",
      "2021-11-17 05:20:00    1.0\n",
      "                      ... \n",
      "2021-11-19 04:35:00    0.0\n",
      "2021-11-19 04:40:00    0.0\n",
      "2021-11-19 04:45:00    0.0\n",
      "2021-11-19 04:50:00    0.0\n",
      "2021-11-19 04:55:00    0.0\n",
      "Length: 576, dtype: float64\n",
      "\n",
      " #biotech/biotech_4th_floor/fourth_floor_fume_hood_lab_spaces/lab_433_control/occ_trend  new\n",
      " 2021-11-17 05:00:00    1.0\n",
      "2021-11-17 05:05:00    1.0\n",
      "2021-11-17 05:10:00    1.0\n",
      "2021-11-17 05:15:00    1.0\n",
      "2021-11-17 05:20:00    1.0\n",
      "                      ... \n",
      "2021-11-19 04:35:00    0.0\n",
      "2021-11-19 04:40:00    0.0\n",
      "2021-11-19 04:45:00    0.0\n",
      "2021-11-19 04:50:00    0.0\n",
      "2021-11-19 04:55:00    0.0\n",
      "Length: 576, dtype: float64\n",
      "<Response [200]>\n",
      "\n",
      " #biotech/biotech_4th_floor/fourth_floor_fume_hood_lab_spaces/lab_433_control/zone/zone_temp/trend_log \n",
      " 2021-11-17 05:00:00    72.2\n",
      "2021-11-17 05:05:00    72.2\n",
      "2021-11-17 05:10:00    72.2\n",
      "2021-11-17 05:15:00    72.2\n",
      "2021-11-17 05:20:00    72.2\n",
      "                       ... \n",
      "2021-11-19 04:35:00    70.3\n",
      "2021-11-19 04:40:00    70.3\n",
      "2021-11-19 04:45:00    70.3\n",
      "2021-11-19 04:50:00    70.3\n",
      "2021-11-19 04:55:00    70.2\n",
      "Length: 576, dtype: float64\n",
      "\n",
      " #biotech/biotech_4th_floor/fourth_floor_fume_hood_lab_spaces/lab_433_control/zone/zone_temp/trend_log  new\n",
      " 2021-11-17 05:00:00    72.2\n",
      "2021-11-17 05:05:00    72.2\n",
      "2021-11-17 05:10:00    72.2\n",
      "2021-11-17 05:15:00    72.2\n",
      "2021-11-17 05:20:00    72.2\n",
      "                       ... \n",
      "2021-11-19 04:35:00    70.3\n",
      "2021-11-19 04:40:00    70.3\n",
      "2021-11-19 04:45:00    70.3\n",
      "2021-11-19 04:50:00    70.3\n",
      "2021-11-19 04:55:00    70.2\n",
      "Length: 576, dtype: float64\n",
      "<Response [200]>\n",
      "\n",
      " #biotech/ground_flr_mech/building_hydronic_heating_syatems/reheat_heat_exchanger/oat \n",
      " 2021-11-17 05:00:00    35.2\n",
      "2021-11-17 05:15:00    35.3\n",
      "2021-11-17 05:30:00    35.5\n",
      "2021-11-17 05:45:00    35.6\n",
      "2021-11-17 06:00:00    35.3\n",
      "                       ... \n",
      "2021-11-19 03:45:00    43.4\n",
      "2021-11-19 04:00:00    43.2\n",
      "2021-11-19 04:15:00    43.1\n",
      "2021-11-19 04:30:00    43.0\n",
      "2021-11-19 04:45:00    42.7\n",
      "Length: 192, dtype: float64\n",
      "\n",
      " #biotech/ground_flr_mech/building_hydronic_heating_syatems/reheat_heat_exchanger/oat  new\n",
      " 2021-11-17 05:00:00    35.2\n",
      "2021-11-17 05:15:00    35.3\n",
      "2021-11-17 05:30:00    35.5\n",
      "2021-11-17 05:45:00    35.6\n",
      "2021-11-17 06:00:00    35.3\n",
      "                       ... \n",
      "2021-11-19 03:45:00    43.4\n",
      "2021-11-19 04:00:00    43.2\n",
      "2021-11-19 04:15:00    43.1\n",
      "2021-11-19 04:30:00    43.0\n",
      "2021-11-19 04:45:00    42.7\n",
      "Length: 192, dtype: float64\n",
      "\n",
      "Final Data Frame: \n"
     ]
    },
    {
     "data": {
      "text/plain": "                        cfm  sash  occ  internal_temp  external_temp  \\\n2021-11-17 05:00:00  224.62   3.3  1.0           72.2      35.200000   \n2021-11-17 05:05:00  223.15   3.3  1.0           72.2      35.233333   \n2021-11-17 05:10:00  224.13   3.3  1.0           72.2      35.266667   \n2021-11-17 05:15:00  224.13   3.3  1.0           72.2      35.300000   \n2021-11-17 05:20:00  224.62   3.3  1.0           72.2      35.366667   \n...                     ...   ...  ...            ...            ...   \n2021-11-19 04:35:00  222.66   2.4  0.0           70.3      42.900000   \n2021-11-19 04:40:00  224.13   2.4  0.0           70.3      42.800000   \n2021-11-19 04:45:00  225.10   2.4  0.0           70.3      42.700000   \n2021-11-19 04:50:00  223.64   2.4  0.0           70.3      42.700000   \n2021-11-19 04:55:00  224.13   2.4  0.0           70.2      42.700000   \n\n                           BTU  \n2021-11-17 05:00:00  747.98460  \n2021-11-17 05:05:00  742.42005  \n2021-11-17 05:10:00  745.00812  \n2021-11-17 05:15:00  744.33573  \n2021-11-17 05:20:00  744.61530  \n...                        ...  \n2021-11-19 04:35:00  549.07956  \n2021-11-19 04:40:00  554.72175  \n2021-11-19 04:45:00  559.14840  \n2021-11-19 04:50:00  555.52176  \n2021-11-19 04:55:00  554.72175  \n\n[576 rows x 6 columns]",
      "text/html": "<div>\n<style scoped>\n    .dataframe tbody tr th:only-of-type {\n        vertical-align: middle;\n    }\n\n    .dataframe tbody tr th {\n        vertical-align: top;\n    }\n\n    .dataframe thead th {\n        text-align: right;\n    }\n</style>\n<table border=\"1\" class=\"dataframe\">\n  <thead>\n    <tr style=\"text-align: right;\">\n      <th></th>\n      <th>cfm</th>\n      <th>sash</th>\n      <th>occ</th>\n      <th>internal_temp</th>\n      <th>external_temp</th>\n      <th>BTU</th>\n    </tr>\n  </thead>\n  <tbody>\n    <tr>\n      <th>2021-11-17 05:00:00</th>\n      <td>224.62</td>\n      <td>3.3</td>\n      <td>1.0</td>\n      <td>72.2</td>\n      <td>35.200000</td>\n      <td>747.98460</td>\n    </tr>\n    <tr>\n      <th>2021-11-17 05:05:00</th>\n      <td>223.15</td>\n      <td>3.3</td>\n      <td>1.0</td>\n      <td>72.2</td>\n      <td>35.233333</td>\n      <td>742.42005</td>\n    </tr>\n    <tr>\n      <th>2021-11-17 05:10:00</th>\n      <td>224.13</td>\n      <td>3.3</td>\n      <td>1.0</td>\n      <td>72.2</td>\n      <td>35.266667</td>\n      <td>745.00812</td>\n    </tr>\n    <tr>\n      <th>2021-11-17 05:15:00</th>\n      <td>224.13</td>\n      <td>3.3</td>\n      <td>1.0</td>\n      <td>72.2</td>\n      <td>35.300000</td>\n      <td>744.33573</td>\n    </tr>\n    <tr>\n      <th>2021-11-17 05:20:00</th>\n      <td>224.62</td>\n      <td>3.3</td>\n      <td>1.0</td>\n      <td>72.2</td>\n      <td>35.366667</td>\n      <td>744.61530</td>\n    </tr>\n    <tr>\n      <th>...</th>\n      <td>...</td>\n      <td>...</td>\n      <td>...</td>\n      <td>...</td>\n      <td>...</td>\n      <td>...</td>\n    </tr>\n    <tr>\n      <th>2021-11-19 04:35:00</th>\n      <td>222.66</td>\n      <td>2.4</td>\n      <td>0.0</td>\n      <td>70.3</td>\n      <td>42.900000</td>\n      <td>549.07956</td>\n    </tr>\n    <tr>\n      <th>2021-11-19 04:40:00</th>\n      <td>224.13</td>\n      <td>2.4</td>\n      <td>0.0</td>\n      <td>70.3</td>\n      <td>42.800000</td>\n      <td>554.72175</td>\n    </tr>\n    <tr>\n      <th>2021-11-19 04:45:00</th>\n      <td>225.10</td>\n      <td>2.4</td>\n      <td>0.0</td>\n      <td>70.3</td>\n      <td>42.700000</td>\n      <td>559.14840</td>\n    </tr>\n    <tr>\n      <th>2021-11-19 04:50:00</th>\n      <td>223.64</td>\n      <td>2.4</td>\n      <td>0.0</td>\n      <td>70.3</td>\n      <td>42.700000</td>\n      <td>555.52176</td>\n    </tr>\n    <tr>\n      <th>2021-11-19 04:55:00</th>\n      <td>224.13</td>\n      <td>2.4</td>\n      <td>0.0</td>\n      <td>70.2</td>\n      <td>42.700000</td>\n      <td>554.72175</td>\n    </tr>\n  </tbody>\n</table>\n<p>576 rows × 6 columns</p>\n</div>"
     },
     "metadata": {},
     "output_type": "display_data"
    },
    {
     "data": {
      "text/plain": "2021-11-17 06:00:00    8897.68611\n2021-11-17 07:00:00    8894.77461\n2021-11-17 08:00:00    8835.30861\n2021-11-17 09:00:00    8783.13078\n2021-11-17 10:00:00    8987.19759\n2021-11-17 11:00:00    8544.53253\n2021-11-17 12:00:00    8110.01574\n2021-11-17 13:00:00    8001.60912\n2021-11-17 14:00:00    7649.42160\n2021-11-17 15:00:00    7317.14085\n2021-11-17 16:00:00    7134.71613\n2021-11-17 17:00:00    6813.28503\n2021-11-17 18:00:00    6341.22387\n2021-11-17 19:00:00    6029.75880\n2021-11-17 20:00:00    5692.98126\n2021-11-17 21:00:00    7604.98143\n2021-11-17 22:00:00    7453.21290\n2021-11-17 23:00:00    7449.60969\n2021-11-18 00:00:00    7380.94521\n2021-11-18 01:00:00    7247.46801\n2021-11-18 02:00:00    5845.40184\n2021-11-18 03:00:00    5097.14043\n2021-11-18 04:00:00    5082.45864\n2021-11-18 05:00:00    5084.66550\n2021-11-18 06:00:00    4933.91175\n2021-11-18 07:00:00    4769.72898\n2021-11-18 08:00:00    4646.37774\n2021-11-18 09:00:00    4172.63094\n2021-11-18 10:00:00    3894.46179\n2021-11-18 11:00:00    3892.84986\n2021-11-18 12:00:00    3894.43371\n2021-11-18 13:00:00    3750.55764\n2021-11-18 14:00:00    3402.94710\n2021-11-18 15:00:00    3161.26956\n2021-11-18 16:00:00    3142.49031\n2021-11-18 17:00:00    3488.50323\n2021-11-18 18:00:00    4903.15788\n2021-11-18 19:00:00    5337.27108\n2021-11-18 20:00:00    5739.28368\n2021-11-18 21:00:00    5858.02242\n2021-11-18 22:00:00    5820.73674\n2021-11-18 23:00:00    5816.91642\n2021-11-19 00:00:00    5830.29738\n2021-11-19 01:00:00    6111.29463\n2021-11-19 02:00:00    6127.79388\n2021-11-19 03:00:00    6264.94581\n2021-11-19 04:00:00    6512.95002\n2021-11-19 05:00:00    6625.14321\nFreq: 60T, Name: BTU, dtype: float64"
     },
     "execution_count": 15,
     "metadata": {},
     "output_type": "execute_result"
    }
   ],
   "source": [
    "# Arguments: CFM Point, Sash Point, Occ Point, Internal Temp Point, External Temp Point, Server Name, Start Time, End Time\n",
    "# Returns: Total energy from hume hood, aggregated by hour.  Can be adapted later on to only show energy when unoccupied\n",
    "\n",
    "# A switch in the energy calculations that allows us to avoid issues between times of years where it is hotter/colder outside.\n",
    "def coldorhot(cfm, external, internal, time_interval):\n",
    "    if external<=internal:\n",
    "        #sensible heating equation\n",
    "        return 1.08 * cfm * (internal - external) / (60 / time_interval)\n",
    "    if external>internal:\n",
    "        #enthalpy of air\n",
    "        return 0.24 * cfm /13.333 * 60 * (external - internal) / (60 / time_interval)\n",
    "\n",
    "def total_energy(cfm_point, sash_point, occ_point, internal_temp_point, external_temp_point, server, start, end):\n",
    "    #external_temp_master = outside_temp(start,end)\n",
    "    cfm_list = query_to_list(cfm_point, server, start, end)\n",
    "    sash_list = query_to_list(sash_point, server, start, end)\n",
    "    occ_list = query_to_list(occ_point, server, start, end)\n",
    "    internal_temp_list = query_to_list(internal_temp_point, server, start, end)\n",
    "    external_temp_list = query_to_list(external_temp_point, server, start, end)\n",
    "\n",
    "    df = pd.concat([cfm_list, sash_list, occ_list, internal_temp_list, external_temp_list], axis=1)\n",
    "    df.columns = [\"cfm\", \"sash\", \"occ\", \"internal_temp\", \"external_temp\"]\n",
    "    #display(df)\n",
    "\n",
    "    df[\"external_temp\"] = df[\"external_temp\"].interpolate()\n",
    "    #display(df)\n",
    "\n",
    "    time_interval = df.index[1].minute - df.index[0].minute\n",
    "\n",
    "    df['BTU'] = df.apply(lambda df: coldorhot(df['cfm'], df['external_temp'], df['internal_temp'], time_interval=time_interval), axis=1)\n",
    "    print(\"\\nFinal Data Frame: \")\n",
    "    display(df)\n",
    "\n",
    "    df = df.groupby(pd.Grouper(freq='60Min', label='right')).sum()\n",
    "    #display(df)\n",
    "\n",
    "    return df[\"BTU\"]\n",
    "\n",
    "total_energy(cfm_point=\"#biotech/biotech_4th_floor/fourth_floor_fume_hood_lab_spaces/lab_433_control/hoodvalve_flow/trend_log\",\n",
    "             sash_point=\"#biotech/biotech_4th_floor/fourth_floor_fume_hood_lab_spaces/lab_433_control/hood_sash\",\n",
    "             occ_point=\"#biotech/biotech_4th_floor/fourth_floor_fume_hood_lab_spaces/lab_433_control/occ_trend\",\n",
    "             internal_temp_point=\"#biotech/biotech_4th_floor/fourth_floor_fume_hood_lab_spaces/lab_433_control/zone/zone_temp/trend_log\",\n",
    "             external_temp_point=\"#biotech/ground_flr_mech/building_hydronic_heating_syatems/reheat_heat_exchanger/oat\",\n",
    "             server = \"biotech_main\",\n",
    "             start=str(datetime(2021, 11,17)),\n",
    "             end=str(datetime(2021, 11, 18)))"
   ],
   "metadata": {
    "collapsed": false
   }
  },
  {
   "cell_type": "code",
   "execution_count": 16,
   "outputs": [
    {
     "data": {
      "text/plain": "                       C1                                           Room  \\\n0              Point List                                            NaN   \n1               Location:  Cornell University / Biotech Server / Biotech   \n2  report_progress_step()                                            NaN   \n3  report_progress_step()                                            NaN   \n4  report_progress_step()                                            NaN   \n\n  Pointname Acronym Point  \n0       NaN     NaN   NaN  \n1       NaN     NaN   NaN  \n2       NaN     NaN   NaN  \n3       NaN     NaN   NaN  \n4       NaN     NaN   NaN  ",
      "text/html": "<div>\n<style scoped>\n    .dataframe tbody tr th:only-of-type {\n        vertical-align: middle;\n    }\n\n    .dataframe tbody tr th {\n        vertical-align: top;\n    }\n\n    .dataframe thead th {\n        text-align: right;\n    }\n</style>\n<table border=\"1\" class=\"dataframe\">\n  <thead>\n    <tr style=\"text-align: right;\">\n      <th></th>\n      <th>C1</th>\n      <th>Room</th>\n      <th>Pointname</th>\n      <th>Acronym</th>\n      <th>Point</th>\n    </tr>\n  </thead>\n  <tbody>\n    <tr>\n      <th>0</th>\n      <td>Point List</td>\n      <td>NaN</td>\n      <td>NaN</td>\n      <td>NaN</td>\n      <td>NaN</td>\n    </tr>\n    <tr>\n      <th>1</th>\n      <td>Location:</td>\n      <td>Cornell University / Biotech Server / Biotech</td>\n      <td>NaN</td>\n      <td>NaN</td>\n      <td>NaN</td>\n    </tr>\n    <tr>\n      <th>2</th>\n      <td>report_progress_step()</td>\n      <td>NaN</td>\n      <td>NaN</td>\n      <td>NaN</td>\n      <td>NaN</td>\n    </tr>\n    <tr>\n      <th>3</th>\n      <td>report_progress_step()</td>\n      <td>NaN</td>\n      <td>NaN</td>\n      <td>NaN</td>\n      <td>NaN</td>\n    </tr>\n    <tr>\n      <th>4</th>\n      <td>report_progress_step()</td>\n      <td>NaN</td>\n      <td>NaN</td>\n      <td>NaN</td>\n      <td>NaN</td>\n    </tr>\n  </tbody>\n</table>\n</div>"
     },
     "execution_count": 16,
     "metadata": {},
     "output_type": "execute_result"
    }
   ],
   "source": [
    "url = 'https://github.com/thereidfleish/fume-hood-dashboard/blob/Robbie/report1678804296452.csv?raw=true'\n",
    "pointnames = pd.read_csv(url)\n",
    "pointnames.head()"
   ],
   "metadata": {
    "collapsed": false
   }
  },
  {
   "cell_type": "code",
   "execution_count": 41,
   "outputs": [
    {
     "data": {
      "text/plain": "                                            Occupancy  \\\n0   #biotech/biotech_ground_floor/ground_floor_fum...   \n1   #biotech/biotech_1st_floor/first_floor_fume_ho...   \n2   #biotech/biotech_1st_floor/first_floor_fume_ho...   \n3   #biotech/biotech_1st_floor/first_floor_fume_ho...   \n4   #biotech/biotech_1st_floor/first_floor_fume_ho...   \n..                                                ...   \n65  #biotech/biotech_4th_floor/fourth_floor_fume_h...   \n66  #biotech/biotech_4th_floor/fourth_floor_fume_h...   \n67  #biotech/biotech_4th_floor/fourth_floor_fume_h...   \n68  #biotech/biotech_4th_floor/fourth_floor_fume_h...   \n69  #biotech/biotech_4th_floor/fourth_floor_fume_h...   \n\n                                        Internal Temp  \n0   #biotech/biotech_ground_floor/ground_floor_fum...  \n1   #biotech/biotech_1st_floor/first_floor_fume_ho...  \n2   #biotech/biotech_1st_floor/first_floor_fume_ho...  \n3   #biotech/biotech_1st_floor/first_floor_fume_ho...  \n4   #biotech/biotech_1st_floor/first_floor_fume_ho...  \n..                                                ...  \n65  #biotech/biotech_4th_floor/fourth_floor_fume_h...  \n66  #biotech/biotech_4th_floor/fourth_floor_fume_h...  \n67  #biotech/biotech_4th_floor/fourth_floor_fume_h...  \n68  #biotech/biotech_4th_floor/fourth_floor_fume_h...  \n69  #biotech/biotech_4th_floor/fourth_floor_fume_h...  \n\n[70 rows x 2 columns]",
      "text/html": "<div>\n<style scoped>\n    .dataframe tbody tr th:only-of-type {\n        vertical-align: middle;\n    }\n\n    .dataframe tbody tr th {\n        vertical-align: top;\n    }\n\n    .dataframe thead th {\n        text-align: right;\n    }\n</style>\n<table border=\"1\" class=\"dataframe\">\n  <thead>\n    <tr style=\"text-align: right;\">\n      <th></th>\n      <th>Occupancy</th>\n      <th>Internal Temp</th>\n    </tr>\n  </thead>\n  <tbody>\n    <tr>\n      <th>0</th>\n      <td>#biotech/biotech_ground_floor/ground_floor_fum...</td>\n      <td>#biotech/biotech_ground_floor/ground_floor_fum...</td>\n    </tr>\n    <tr>\n      <th>1</th>\n      <td>#biotech/biotech_1st_floor/first_floor_fume_ho...</td>\n      <td>#biotech/biotech_1st_floor/first_floor_fume_ho...</td>\n    </tr>\n    <tr>\n      <th>2</th>\n      <td>#biotech/biotech_1st_floor/first_floor_fume_ho...</td>\n      <td>#biotech/biotech_1st_floor/first_floor_fume_ho...</td>\n    </tr>\n    <tr>\n      <th>3</th>\n      <td>#biotech/biotech_1st_floor/first_floor_fume_ho...</td>\n      <td>#biotech/biotech_1st_floor/first_floor_fume_ho...</td>\n    </tr>\n    <tr>\n      <th>4</th>\n      <td>#biotech/biotech_1st_floor/first_floor_fume_ho...</td>\n      <td>#biotech/biotech_1st_floor/first_floor_fume_ho...</td>\n    </tr>\n    <tr>\n      <th>...</th>\n      <td>...</td>\n      <td>...</td>\n    </tr>\n    <tr>\n      <th>65</th>\n      <td>#biotech/biotech_4th_floor/fourth_floor_fume_h...</td>\n      <td>#biotech/biotech_4th_floor/fourth_floor_fume_h...</td>\n    </tr>\n    <tr>\n      <th>66</th>\n      <td>#biotech/biotech_4th_floor/fourth_floor_fume_h...</td>\n      <td>#biotech/biotech_4th_floor/fourth_floor_fume_h...</td>\n    </tr>\n    <tr>\n      <th>67</th>\n      <td>#biotech/biotech_4th_floor/fourth_floor_fume_h...</td>\n      <td>#biotech/biotech_4th_floor/fourth_floor_fume_h...</td>\n    </tr>\n    <tr>\n      <th>68</th>\n      <td>#biotech/biotech_4th_floor/fourth_floor_fume_h...</td>\n      <td>#biotech/biotech_4th_floor/fourth_floor_fume_h...</td>\n    </tr>\n    <tr>\n      <th>69</th>\n      <td>#biotech/biotech_4th_floor/fourth_floor_fume_h...</td>\n      <td>#biotech/biotech_4th_floor/fourth_floor_fume_h...</td>\n    </tr>\n  </tbody>\n</table>\n<p>70 rows × 2 columns</p>\n</div>"
     },
     "execution_count": 41,
     "metadata": {},
     "output_type": "execute_result"
    }
   ],
   "source": [
    "#We want to collect the following:\n",
    "#Air Flow Point, e.g: \"#biotech/biotech_4th_floor/fourth_floor_fume_hood_lab_spaces/lab_433_control/hoodvalve_flow/trend_log\", HOOD FLOW\n",
    "\n",
    "#Sash Opening Point, e.g: \"#biotech/biotech_4th_floor/fourth_floor_fume_hood_lab_spaces/lab_433_control/hood_sash\", HOOD SASH POS\n",
    "\n",
    "#Occupancy Point, e.g: \"#biotech/biotech_4th_floor/fourth_floor_fume_hood_lab_spaces/lab_433_control/occ_trend\", OCC SENSOR\n",
    "\n",
    "#Internal Temperature Point, e.g: \"#biotech/biotech_4th_floor/fourth_floor_fume_hood_lab_spaces/lab_433_control/zone/zone_temp/trend_log\", ZONE TEMP\n",
    "\n",
    "import re\n",
    "\"\"\"\n",
    "The goal of this function is to output an organized collection of point names corresponding to specific fume hoods throughout the Biotechnology building. It is unclear the best path forward at the moment, however, we will try to start small and then expand upwards. There will probably be a lot of edge cases to handle, but we will see. Using regular expressions seems to have helped quite a bit.\n",
    "\"\"\"\n",
    "\n",
    "\n",
    "def csv_parser(df):\n",
    "    #df['name_match'] = df['first_name'].apply(lambda x: 'Match' if x == 'Bill' else 'Mismatch')\n",
    "    #print(True and df[\"Point\"].str.contains(\"_control\"))\n",
    "    hood_flows = np.array(df[df[\"Pointname\"]== \"HOOD FLOW\" ][\"Point\"])\n",
    "    sash_pos = np.array(df[df[\"Pointname\"]== \"HOOD SASH POS\"][\"Point\"])\n",
    "    occ_sens = df[df[\"Pointname\"]== \"OCC SENSOR\"][\"Point\"]\n",
    "    occ_sens = [i for i in occ_sens if re.search(\"lab_[A-Za-z]*[0-9]+[A-Za-z]*_control\",i)]\n",
    "    zone_temps = df[df[\"Pointname\"]== \"ZONE TEMP\"][\"Point\"]\n",
    "    zone_temps = [i for i in zone_temps if re.search(\"lab_[A-Za-z]*[0-9]+[A-Za-z]*_control/zonetemp\",i)]\n",
    "\n",
    "    vals= {\"Hood\":hood_flows, \"Sash\":sash_pos}\n",
    "    odf = pd.DataFrame(data = vals)\n",
    "    #display(ndf)\n",
    "    # print(len(hood_flows))\n",
    "    # print(len(sash_pos))\n",
    "    # print(len(occ_sens))\n",
    "    # print(len(zone_temps))\n",
    "\n",
    "    ovals= {\"Occupancy\":occ_sens, \"Internal Temp\":zone_temps}\n",
    "    ndf = pd.DataFrame(data = ovals)\n",
    "\n",
    "    return [ndf,odf]\n",
    "csv_parser(pointnames)[0]\n",
    "\n"
   ],
   "metadata": {
    "collapsed": false
   }
  },
  {
   "cell_type": "code",
   "execution_count": 42,
   "outputs": [
    {
     "data": {
      "text/plain": "                                                 Hood  \\\n0   #biotech/biotech_ground_floor/ground_floor_fum...   \n1   #biotech/biotech_1st_floor/first_floor_fume_ho...   \n2   #biotech/biotech_1st_floor/first_floor_fume_ho...   \n3   #biotech/biotech_1st_floor/first_floor_fume_ho...   \n4   #biotech/biotech_1st_floor/first_floor_fume_ho...   \n..                                                ...   \n61  #biotech/biotech_4th_floor/fourth_floor_fume_h...   \n62  #biotech/biotech_4th_floor/fourth_floor_fume_h...   \n63  #biotech/biotech_4th_floor/fourth_floor_fume_h...   \n64  #biotech/biotech_4th_floor/fourth_floor_fume_h...   \n65  #biotech/biotech_4th_floor/fourth_floor_fume_h...   \n\n                                                 Sash  \n0   #biotech/biotech_ground_floor/ground_floor_fum...  \n1   #biotech/biotech_1st_floor/first_floor_fume_ho...  \n2   #biotech/biotech_1st_floor/first_floor_fume_ho...  \n3   #biotech/biotech_1st_floor/first_floor_fume_ho...  \n4   #biotech/biotech_1st_floor/first_floor_fume_ho...  \n..                                                ...  \n61  #biotech/biotech_4th_floor/fourth_floor_fume_h...  \n62  #biotech/biotech_4th_floor/fourth_floor_fume_h...  \n63  #biotech/biotech_4th_floor/fourth_floor_fume_h...  \n64  #biotech/biotech_4th_floor/fourth_floor_fume_h...  \n65  #biotech/biotech_4th_floor/fourth_floor_fume_h...  \n\n[66 rows x 2 columns]",
      "text/html": "<div>\n<style scoped>\n    .dataframe tbody tr th:only-of-type {\n        vertical-align: middle;\n    }\n\n    .dataframe tbody tr th {\n        vertical-align: top;\n    }\n\n    .dataframe thead th {\n        text-align: right;\n    }\n</style>\n<table border=\"1\" class=\"dataframe\">\n  <thead>\n    <tr style=\"text-align: right;\">\n      <th></th>\n      <th>Hood</th>\n      <th>Sash</th>\n    </tr>\n  </thead>\n  <tbody>\n    <tr>\n      <th>0</th>\n      <td>#biotech/biotech_ground_floor/ground_floor_fum...</td>\n      <td>#biotech/biotech_ground_floor/ground_floor_fum...</td>\n    </tr>\n    <tr>\n      <th>1</th>\n      <td>#biotech/biotech_1st_floor/first_floor_fume_ho...</td>\n      <td>#biotech/biotech_1st_floor/first_floor_fume_ho...</td>\n    </tr>\n    <tr>\n      <th>2</th>\n      <td>#biotech/biotech_1st_floor/first_floor_fume_ho...</td>\n      <td>#biotech/biotech_1st_floor/first_floor_fume_ho...</td>\n    </tr>\n    <tr>\n      <th>3</th>\n      <td>#biotech/biotech_1st_floor/first_floor_fume_ho...</td>\n      <td>#biotech/biotech_1st_floor/first_floor_fume_ho...</td>\n    </tr>\n    <tr>\n      <th>4</th>\n      <td>#biotech/biotech_1st_floor/first_floor_fume_ho...</td>\n      <td>#biotech/biotech_1st_floor/first_floor_fume_ho...</td>\n    </tr>\n    <tr>\n      <th>...</th>\n      <td>...</td>\n      <td>...</td>\n    </tr>\n    <tr>\n      <th>61</th>\n      <td>#biotech/biotech_4th_floor/fourth_floor_fume_h...</td>\n      <td>#biotech/biotech_4th_floor/fourth_floor_fume_h...</td>\n    </tr>\n    <tr>\n      <th>62</th>\n      <td>#biotech/biotech_4th_floor/fourth_floor_fume_h...</td>\n      <td>#biotech/biotech_4th_floor/fourth_floor_fume_h...</td>\n    </tr>\n    <tr>\n      <th>63</th>\n      <td>#biotech/biotech_4th_floor/fourth_floor_fume_h...</td>\n      <td>#biotech/biotech_4th_floor/fourth_floor_fume_h...</td>\n    </tr>\n    <tr>\n      <th>64</th>\n      <td>#biotech/biotech_4th_floor/fourth_floor_fume_h...</td>\n      <td>#biotech/biotech_4th_floor/fourth_floor_fume_h...</td>\n    </tr>\n    <tr>\n      <th>65</th>\n      <td>#biotech/biotech_4th_floor/fourth_floor_fume_h...</td>\n      <td>#biotech/biotech_4th_floor/fourth_floor_fume_h...</td>\n    </tr>\n  </tbody>\n</table>\n<p>66 rows × 2 columns</p>\n</div>"
     },
     "execution_count": 42,
     "metadata": {},
     "output_type": "execute_result"
    }
   ],
   "source": [
    "csv_parser(pointnames)[1]\n"
   ],
   "metadata": {
    "collapsed": false
   }
  },
  {
   "cell_type": "code",
   "execution_count": 43,
   "outputs": [
    {
     "data": {
      "text/plain": "                                            Occupancy  \\\n0   #biotech/biotech_ground_floor/ground_floor_fum...   \n1   #biotech/biotech_1st_floor/first_floor_fume_ho...   \n2   #biotech/biotech_1st_floor/first_floor_fume_ho...   \n3   #biotech/biotech_1st_floor/first_floor_fume_ho...   \n4   #biotech/biotech_1st_floor/first_floor_fume_ho...   \n..                                                ...   \n61  #biotech/biotech_4th_floor/fourth_floor_fume_h...   \n62  #biotech/biotech_4th_floor/fourth_floor_fume_h...   \n63  #biotech/biotech_4th_floor/fourth_floor_fume_h...   \n64  #biotech/biotech_4th_floor/fourth_floor_fume_h...   \n65  #biotech/biotech_4th_floor/fourth_floor_fume_h...   \n\n                                        Internal Temp  \n0   #biotech/biotech_ground_floor/ground_floor_fum...  \n1   #biotech/biotech_1st_floor/first_floor_fume_ho...  \n2   #biotech/biotech_1st_floor/first_floor_fume_ho...  \n3   #biotech/biotech_1st_floor/first_floor_fume_ho...  \n4   #biotech/biotech_1st_floor/first_floor_fume_ho...  \n..                                                ...  \n61  #biotech/biotech_4th_floor/fourth_floor_fume_h...  \n62  #biotech/biotech_4th_floor/fourth_floor_fume_h...  \n63  #biotech/biotech_4th_floor/fourth_floor_fume_h...  \n64  #biotech/biotech_4th_floor/fourth_floor_fume_h...  \n65  #biotech/biotech_4th_floor/fourth_floor_fume_h...  \n\n[66 rows x 2 columns]",
      "text/html": "<div>\n<style scoped>\n    .dataframe tbody tr th:only-of-type {\n        vertical-align: middle;\n    }\n\n    .dataframe tbody tr th {\n        vertical-align: top;\n    }\n\n    .dataframe thead th {\n        text-align: right;\n    }\n</style>\n<table border=\"1\" class=\"dataframe\">\n  <thead>\n    <tr style=\"text-align: right;\">\n      <th></th>\n      <th>Occupancy</th>\n      <th>Internal Temp</th>\n    </tr>\n  </thead>\n  <tbody>\n    <tr>\n      <th>0</th>\n      <td>#biotech/biotech_ground_floor/ground_floor_fum...</td>\n      <td>#biotech/biotech_ground_floor/ground_floor_fum...</td>\n    </tr>\n    <tr>\n      <th>1</th>\n      <td>#biotech/biotech_1st_floor/first_floor_fume_ho...</td>\n      <td>#biotech/biotech_1st_floor/first_floor_fume_ho...</td>\n    </tr>\n    <tr>\n      <th>2</th>\n      <td>#biotech/biotech_1st_floor/first_floor_fume_ho...</td>\n      <td>#biotech/biotech_1st_floor/first_floor_fume_ho...</td>\n    </tr>\n    <tr>\n      <th>3</th>\n      <td>#biotech/biotech_1st_floor/first_floor_fume_ho...</td>\n      <td>#biotech/biotech_1st_floor/first_floor_fume_ho...</td>\n    </tr>\n    <tr>\n      <th>4</th>\n      <td>#biotech/biotech_1st_floor/first_floor_fume_ho...</td>\n      <td>#biotech/biotech_1st_floor/first_floor_fume_ho...</td>\n    </tr>\n    <tr>\n      <th>...</th>\n      <td>...</td>\n      <td>...</td>\n    </tr>\n    <tr>\n      <th>61</th>\n      <td>#biotech/biotech_4th_floor/fourth_floor_fume_h...</td>\n      <td>#biotech/biotech_4th_floor/fourth_floor_fume_h...</td>\n    </tr>\n    <tr>\n      <th>62</th>\n      <td>#biotech/biotech_4th_floor/fourth_floor_fume_h...</td>\n      <td>#biotech/biotech_4th_floor/fourth_floor_fume_h...</td>\n    </tr>\n    <tr>\n      <th>63</th>\n      <td>#biotech/biotech_4th_floor/fourth_floor_fume_h...</td>\n      <td>#biotech/biotech_4th_floor/fourth_floor_fume_h...</td>\n    </tr>\n    <tr>\n      <th>64</th>\n      <td>#biotech/biotech_4th_floor/fourth_floor_fume_h...</td>\n      <td>#biotech/biotech_4th_floor/fourth_floor_fume_h...</td>\n    </tr>\n    <tr>\n      <th>65</th>\n      <td>#biotech/biotech_4th_floor/fourth_floor_fume_h...</td>\n      <td>#biotech/biotech_4th_floor/fourth_floor_fume_h...</td>\n    </tr>\n  </tbody>\n</table>\n<p>66 rows × 2 columns</p>\n</div>"
     },
     "execution_count": 43,
     "metadata": {},
     "output_type": "execute_result"
    }
   ],
   "source": [
    "#Notice how the dataframes are not equal sizes; this is because certain labs are missing hood and sash points\n",
    "#By looking at an excel file I found the following:\n",
    "#Lab 147, Lab 217, Lab 218, Lab 427 are all missing hood and sash points\n",
    "#We will remove these from the dataset\n",
    "\n",
    "dfs = csv_parser(pointnames)\n",
    "occ_temp = dfs[0]\n",
    "hood_sash = dfs[1]\n",
    "\n",
    "occ_temp = occ_temp.drop([3,9,11,58])\n",
    "occ_temp = occ_temp.reset_index()\n",
    "occ_temp = occ_temp.drop([\"index\"],axis=1)\n",
    "occ_temp"
   ],
   "metadata": {
    "collapsed": false
   }
  },
  {
   "cell_type": "code",
   "execution_count": 44,
   "outputs": [
    {
     "data": {
      "text/plain": "                                                 Hood  \\\n0   #biotech/biotech_ground_floor/ground_floor_fum...   \n1   #biotech/biotech_1st_floor/first_floor_fume_ho...   \n2   #biotech/biotech_1st_floor/first_floor_fume_ho...   \n3   #biotech/biotech_1st_floor/first_floor_fume_ho...   \n4   #biotech/biotech_1st_floor/first_floor_fume_ho...   \n..                                                ...   \n61  #biotech/biotech_4th_floor/fourth_floor_fume_h...   \n62  #biotech/biotech_4th_floor/fourth_floor_fume_h...   \n63  #biotech/biotech_4th_floor/fourth_floor_fume_h...   \n64  #biotech/biotech_4th_floor/fourth_floor_fume_h...   \n65  #biotech/biotech_4th_floor/fourth_floor_fume_h...   \n\n                                                 Sash  \\\n0   #biotech/biotech_ground_floor/ground_floor_fum...   \n1   #biotech/biotech_1st_floor/first_floor_fume_ho...   \n2   #biotech/biotech_1st_floor/first_floor_fume_ho...   \n3   #biotech/biotech_1st_floor/first_floor_fume_ho...   \n4   #biotech/biotech_1st_floor/first_floor_fume_ho...   \n..                                                ...   \n61  #biotech/biotech_4th_floor/fourth_floor_fume_h...   \n62  #biotech/biotech_4th_floor/fourth_floor_fume_h...   \n63  #biotech/biotech_4th_floor/fourth_floor_fume_h...   \n64  #biotech/biotech_4th_floor/fourth_floor_fume_h...   \n65  #biotech/biotech_4th_floor/fourth_floor_fume_h...   \n\n                                            Occupancy  \\\n0   #biotech/biotech_ground_floor/ground_floor_fum...   \n1   #biotech/biotech_1st_floor/first_floor_fume_ho...   \n2   #biotech/biotech_1st_floor/first_floor_fume_ho...   \n3   #biotech/biotech_1st_floor/first_floor_fume_ho...   \n4   #biotech/biotech_1st_floor/first_floor_fume_ho...   \n..                                                ...   \n61  #biotech/biotech_4th_floor/fourth_floor_fume_h...   \n62  #biotech/biotech_4th_floor/fourth_floor_fume_h...   \n63  #biotech/biotech_4th_floor/fourth_floor_fume_h...   \n64  #biotech/biotech_4th_floor/fourth_floor_fume_h...   \n65  #biotech/biotech_4th_floor/fourth_floor_fume_h...   \n\n                                        Internal Temp  \n0   #biotech/biotech_ground_floor/ground_floor_fum...  \n1   #biotech/biotech_1st_floor/first_floor_fume_ho...  \n2   #biotech/biotech_1st_floor/first_floor_fume_ho...  \n3   #biotech/biotech_1st_floor/first_floor_fume_ho...  \n4   #biotech/biotech_1st_floor/first_floor_fume_ho...  \n..                                                ...  \n61  #biotech/biotech_4th_floor/fourth_floor_fume_h...  \n62  #biotech/biotech_4th_floor/fourth_floor_fume_h...  \n63  #biotech/biotech_4th_floor/fourth_floor_fume_h...  \n64  #biotech/biotech_4th_floor/fourth_floor_fume_h...  \n65  #biotech/biotech_4th_floor/fourth_floor_fume_h...  \n\n[66 rows x 4 columns]",
      "text/html": "<div>\n<style scoped>\n    .dataframe tbody tr th:only-of-type {\n        vertical-align: middle;\n    }\n\n    .dataframe tbody tr th {\n        vertical-align: top;\n    }\n\n    .dataframe thead th {\n        text-align: right;\n    }\n</style>\n<table border=\"1\" class=\"dataframe\">\n  <thead>\n    <tr style=\"text-align: right;\">\n      <th></th>\n      <th>Hood</th>\n      <th>Sash</th>\n      <th>Occupancy</th>\n      <th>Internal Temp</th>\n    </tr>\n  </thead>\n  <tbody>\n    <tr>\n      <th>0</th>\n      <td>#biotech/biotech_ground_floor/ground_floor_fum...</td>\n      <td>#biotech/biotech_ground_floor/ground_floor_fum...</td>\n      <td>#biotech/biotech_ground_floor/ground_floor_fum...</td>\n      <td>#biotech/biotech_ground_floor/ground_floor_fum...</td>\n    </tr>\n    <tr>\n      <th>1</th>\n      <td>#biotech/biotech_1st_floor/first_floor_fume_ho...</td>\n      <td>#biotech/biotech_1st_floor/first_floor_fume_ho...</td>\n      <td>#biotech/biotech_1st_floor/first_floor_fume_ho...</td>\n      <td>#biotech/biotech_1st_floor/first_floor_fume_ho...</td>\n    </tr>\n    <tr>\n      <th>2</th>\n      <td>#biotech/biotech_1st_floor/first_floor_fume_ho...</td>\n      <td>#biotech/biotech_1st_floor/first_floor_fume_ho...</td>\n      <td>#biotech/biotech_1st_floor/first_floor_fume_ho...</td>\n      <td>#biotech/biotech_1st_floor/first_floor_fume_ho...</td>\n    </tr>\n    <tr>\n      <th>3</th>\n      <td>#biotech/biotech_1st_floor/first_floor_fume_ho...</td>\n      <td>#biotech/biotech_1st_floor/first_floor_fume_ho...</td>\n      <td>#biotech/biotech_1st_floor/first_floor_fume_ho...</td>\n      <td>#biotech/biotech_1st_floor/first_floor_fume_ho...</td>\n    </tr>\n    <tr>\n      <th>4</th>\n      <td>#biotech/biotech_1st_floor/first_floor_fume_ho...</td>\n      <td>#biotech/biotech_1st_floor/first_floor_fume_ho...</td>\n      <td>#biotech/biotech_1st_floor/first_floor_fume_ho...</td>\n      <td>#biotech/biotech_1st_floor/first_floor_fume_ho...</td>\n    </tr>\n    <tr>\n      <th>...</th>\n      <td>...</td>\n      <td>...</td>\n      <td>...</td>\n      <td>...</td>\n    </tr>\n    <tr>\n      <th>61</th>\n      <td>#biotech/biotech_4th_floor/fourth_floor_fume_h...</td>\n      <td>#biotech/biotech_4th_floor/fourth_floor_fume_h...</td>\n      <td>#biotech/biotech_4th_floor/fourth_floor_fume_h...</td>\n      <td>#biotech/biotech_4th_floor/fourth_floor_fume_h...</td>\n    </tr>\n    <tr>\n      <th>62</th>\n      <td>#biotech/biotech_4th_floor/fourth_floor_fume_h...</td>\n      <td>#biotech/biotech_4th_floor/fourth_floor_fume_h...</td>\n      <td>#biotech/biotech_4th_floor/fourth_floor_fume_h...</td>\n      <td>#biotech/biotech_4th_floor/fourth_floor_fume_h...</td>\n    </tr>\n    <tr>\n      <th>63</th>\n      <td>#biotech/biotech_4th_floor/fourth_floor_fume_h...</td>\n      <td>#biotech/biotech_4th_floor/fourth_floor_fume_h...</td>\n      <td>#biotech/biotech_4th_floor/fourth_floor_fume_h...</td>\n      <td>#biotech/biotech_4th_floor/fourth_floor_fume_h...</td>\n    </tr>\n    <tr>\n      <th>64</th>\n      <td>#biotech/biotech_4th_floor/fourth_floor_fume_h...</td>\n      <td>#biotech/biotech_4th_floor/fourth_floor_fume_h...</td>\n      <td>#biotech/biotech_4th_floor/fourth_floor_fume_h...</td>\n      <td>#biotech/biotech_4th_floor/fourth_floor_fume_h...</td>\n    </tr>\n    <tr>\n      <th>65</th>\n      <td>#biotech/biotech_4th_floor/fourth_floor_fume_h...</td>\n      <td>#biotech/biotech_4th_floor/fourth_floor_fume_h...</td>\n      <td>#biotech/biotech_4th_floor/fourth_floor_fume_h...</td>\n      <td>#biotech/biotech_4th_floor/fourth_floor_fume_h...</td>\n    </tr>\n  </tbody>\n</table>\n<p>66 rows × 4 columns</p>\n</div>"
     },
     "execution_count": 44,
     "metadata": {},
     "output_type": "execute_result"
    }
   ],
   "source": [
    "#Now we can just combine the dataframes together and we can begin working on a hierarchical structure\n",
    "\n",
    "combined = hood_sash.join(occ_temp)\n",
    "combined"
   ],
   "metadata": {
    "collapsed": false
   }
  },
  {
   "cell_type": "code",
   "execution_count": 45,
   "outputs": [
    {
     "data": {
      "text/plain": "                                                 Hood  \\\n0   #biotech/biotech_ground_floor/ground_floor_fum...   \n1   #biotech/biotech_1st_floor/first_floor_fume_ho...   \n2   #biotech/biotech_1st_floor/first_floor_fume_ho...   \n3   #biotech/biotech_1st_floor/first_floor_fume_ho...   \n4   #biotech/biotech_1st_floor/first_floor_fume_ho...   \n..                                                ...   \n61  #biotech/biotech_4th_floor/fourth_floor_fume_h...   \n62  #biotech/biotech_4th_floor/fourth_floor_fume_h...   \n63  #biotech/biotech_4th_floor/fourth_floor_fume_h...   \n64  #biotech/biotech_4th_floor/fourth_floor_fume_h...   \n65  #biotech/biotech_4th_floor/fourth_floor_fume_h...   \n\n                                                 Sash  \\\n0   #biotech/biotech_ground_floor/ground_floor_fum...   \n1   #biotech/biotech_1st_floor/first_floor_fume_ho...   \n2   #biotech/biotech_1st_floor/first_floor_fume_ho...   \n3   #biotech/biotech_1st_floor/first_floor_fume_ho...   \n4   #biotech/biotech_1st_floor/first_floor_fume_ho...   \n..                                                ...   \n61  #biotech/biotech_4th_floor/fourth_floor_fume_h...   \n62  #biotech/biotech_4th_floor/fourth_floor_fume_h...   \n63  #biotech/biotech_4th_floor/fourth_floor_fume_h...   \n64  #biotech/biotech_4th_floor/fourth_floor_fume_h...   \n65  #biotech/biotech_4th_floor/fourth_floor_fume_h...   \n\n                                            Occupancy  \\\n0   #biotech/biotech_ground_floor/ground_floor_fum...   \n1   #biotech/biotech_1st_floor/first_floor_fume_ho...   \n2   #biotech/biotech_1st_floor/first_floor_fume_ho...   \n3   #biotech/biotech_1st_floor/first_floor_fume_ho...   \n4   #biotech/biotech_1st_floor/first_floor_fume_ho...   \n..                                                ...   \n61  #biotech/biotech_4th_floor/fourth_floor_fume_h...   \n62  #biotech/biotech_4th_floor/fourth_floor_fume_h...   \n63  #biotech/biotech_4th_floor/fourth_floor_fume_h...   \n64  #biotech/biotech_4th_floor/fourth_floor_fume_h...   \n65  #biotech/biotech_4th_floor/fourth_floor_fume_h...   \n\n                                        Internal Temp   Floor   Lab  \n0   #biotech/biotech_ground_floor/ground_floor_fum...  ground   g54  \n1   #biotech/biotech_1st_floor/first_floor_fume_ho...     1st   141  \n2   #biotech/biotech_1st_floor/first_floor_fume_ho...     1st   143  \n3   #biotech/biotech_1st_floor/first_floor_fume_ho...     1st  147b  \n4   #biotech/biotech_1st_floor/first_floor_fume_ho...     1st   153  \n..                                                ...     ...   ...  \n61  #biotech/biotech_4th_floor/fourth_floor_fume_h...     4th  445b  \n62  #biotech/biotech_4th_floor/fourth_floor_fume_h...     4th   453  \n63  #biotech/biotech_4th_floor/fourth_floor_fume_h...     4th  453b  \n64  #biotech/biotech_4th_floor/fourth_floor_fume_h...     4th   457  \n65  #biotech/biotech_4th_floor/fourth_floor_fume_h...     4th  457b  \n\n[66 rows x 6 columns]",
      "text/html": "<div>\n<style scoped>\n    .dataframe tbody tr th:only-of-type {\n        vertical-align: middle;\n    }\n\n    .dataframe tbody tr th {\n        vertical-align: top;\n    }\n\n    .dataframe thead th {\n        text-align: right;\n    }\n</style>\n<table border=\"1\" class=\"dataframe\">\n  <thead>\n    <tr style=\"text-align: right;\">\n      <th></th>\n      <th>Hood</th>\n      <th>Sash</th>\n      <th>Occupancy</th>\n      <th>Internal Temp</th>\n      <th>Floor</th>\n      <th>Lab</th>\n    </tr>\n  </thead>\n  <tbody>\n    <tr>\n      <th>0</th>\n      <td>#biotech/biotech_ground_floor/ground_floor_fum...</td>\n      <td>#biotech/biotech_ground_floor/ground_floor_fum...</td>\n      <td>#biotech/biotech_ground_floor/ground_floor_fum...</td>\n      <td>#biotech/biotech_ground_floor/ground_floor_fum...</td>\n      <td>ground</td>\n      <td>g54</td>\n    </tr>\n    <tr>\n      <th>1</th>\n      <td>#biotech/biotech_1st_floor/first_floor_fume_ho...</td>\n      <td>#biotech/biotech_1st_floor/first_floor_fume_ho...</td>\n      <td>#biotech/biotech_1st_floor/first_floor_fume_ho...</td>\n      <td>#biotech/biotech_1st_floor/first_floor_fume_ho...</td>\n      <td>1st</td>\n      <td>141</td>\n    </tr>\n    <tr>\n      <th>2</th>\n      <td>#biotech/biotech_1st_floor/first_floor_fume_ho...</td>\n      <td>#biotech/biotech_1st_floor/first_floor_fume_ho...</td>\n      <td>#biotech/biotech_1st_floor/first_floor_fume_ho...</td>\n      <td>#biotech/biotech_1st_floor/first_floor_fume_ho...</td>\n      <td>1st</td>\n      <td>143</td>\n    </tr>\n    <tr>\n      <th>3</th>\n      <td>#biotech/biotech_1st_floor/first_floor_fume_ho...</td>\n      <td>#biotech/biotech_1st_floor/first_floor_fume_ho...</td>\n      <td>#biotech/biotech_1st_floor/first_floor_fume_ho...</td>\n      <td>#biotech/biotech_1st_floor/first_floor_fume_ho...</td>\n      <td>1st</td>\n      <td>147b</td>\n    </tr>\n    <tr>\n      <th>4</th>\n      <td>#biotech/biotech_1st_floor/first_floor_fume_ho...</td>\n      <td>#biotech/biotech_1st_floor/first_floor_fume_ho...</td>\n      <td>#biotech/biotech_1st_floor/first_floor_fume_ho...</td>\n      <td>#biotech/biotech_1st_floor/first_floor_fume_ho...</td>\n      <td>1st</td>\n      <td>153</td>\n    </tr>\n    <tr>\n      <th>...</th>\n      <td>...</td>\n      <td>...</td>\n      <td>...</td>\n      <td>...</td>\n      <td>...</td>\n      <td>...</td>\n    </tr>\n    <tr>\n      <th>61</th>\n      <td>#biotech/biotech_4th_floor/fourth_floor_fume_h...</td>\n      <td>#biotech/biotech_4th_floor/fourth_floor_fume_h...</td>\n      <td>#biotech/biotech_4th_floor/fourth_floor_fume_h...</td>\n      <td>#biotech/biotech_4th_floor/fourth_floor_fume_h...</td>\n      <td>4th</td>\n      <td>445b</td>\n    </tr>\n    <tr>\n      <th>62</th>\n      <td>#biotech/biotech_4th_floor/fourth_floor_fume_h...</td>\n      <td>#biotech/biotech_4th_floor/fourth_floor_fume_h...</td>\n      <td>#biotech/biotech_4th_floor/fourth_floor_fume_h...</td>\n      <td>#biotech/biotech_4th_floor/fourth_floor_fume_h...</td>\n      <td>4th</td>\n      <td>453</td>\n    </tr>\n    <tr>\n      <th>63</th>\n      <td>#biotech/biotech_4th_floor/fourth_floor_fume_h...</td>\n      <td>#biotech/biotech_4th_floor/fourth_floor_fume_h...</td>\n      <td>#biotech/biotech_4th_floor/fourth_floor_fume_h...</td>\n      <td>#biotech/biotech_4th_floor/fourth_floor_fume_h...</td>\n      <td>4th</td>\n      <td>453b</td>\n    </tr>\n    <tr>\n      <th>64</th>\n      <td>#biotech/biotech_4th_floor/fourth_floor_fume_h...</td>\n      <td>#biotech/biotech_4th_floor/fourth_floor_fume_h...</td>\n      <td>#biotech/biotech_4th_floor/fourth_floor_fume_h...</td>\n      <td>#biotech/biotech_4th_floor/fourth_floor_fume_h...</td>\n      <td>4th</td>\n      <td>457</td>\n    </tr>\n    <tr>\n      <th>65</th>\n      <td>#biotech/biotech_4th_floor/fourth_floor_fume_h...</td>\n      <td>#biotech/biotech_4th_floor/fourth_floor_fume_h...</td>\n      <td>#biotech/biotech_4th_floor/fourth_floor_fume_h...</td>\n      <td>#biotech/biotech_4th_floor/fourth_floor_fume_h...</td>\n      <td>4th</td>\n      <td>457b</td>\n    </tr>\n  </tbody>\n</table>\n<p>66 rows × 6 columns</p>\n</div>"
     },
     "execution_count": 45,
     "metadata": {},
     "output_type": "execute_result"
    }
   ],
   "source": [
    "def get_floor(text):\n",
    "    blocks = text.split(\"/\")\n",
    "    floor_block = blocks[1]\n",
    "    floor = floor_block.split(\"_\")[1]\n",
    "    return floor\n",
    "\n",
    "combined['Floor'] = [get_floor(i) for i in combined[\"Hood\"]]\n",
    "#combined\n",
    "\n",
    "def get_lab(text):\n",
    "    blocks = text.split(\"/\")\n",
    "    lab_block = blocks[3]\n",
    "    lab = lab_block.split(\"_\")[1]\n",
    "    return lab\n",
    "\n",
    "combined[\"Lab\"] = [get_lab(i) for i in combined[\"Hood\"]]\n",
    "combined"
   ],
   "metadata": {
    "collapsed": false
   }
  },
  {
   "cell_type": "code",
   "execution_count": 54,
   "outputs": [
    {
     "data": {
      "text/plain": "     Lab   Floor        Server  \\\n0    g54  ground  biotech_main   \n1    141     1st  biotech_main   \n2    143     1st  biotech_main   \n3   147b     1st  biotech_main   \n4    153     1st  biotech_main   \n..   ...     ...           ...   \n61  445b     4th  biotech_main   \n62   453     4th  biotech_main   \n63  453b     4th  biotech_main   \n64   457     4th  biotech_main   \n65  457b     4th  biotech_main   \n\n                                                 Hood  \\\n0   #biotech/biotech_ground_floor/ground_floor_fum...   \n1   #biotech/biotech_1st_floor/first_floor_fume_ho...   \n2   #biotech/biotech_1st_floor/first_floor_fume_ho...   \n3   #biotech/biotech_1st_floor/first_floor_fume_ho...   \n4   #biotech/biotech_1st_floor/first_floor_fume_ho...   \n..                                                ...   \n61  #biotech/biotech_4th_floor/fourth_floor_fume_h...   \n62  #biotech/biotech_4th_floor/fourth_floor_fume_h...   \n63  #biotech/biotech_4th_floor/fourth_floor_fume_h...   \n64  #biotech/biotech_4th_floor/fourth_floor_fume_h...   \n65  #biotech/biotech_4th_floor/fourth_floor_fume_h...   \n\n                                                 Sash  \\\n0   #biotech/biotech_ground_floor/ground_floor_fum...   \n1   #biotech/biotech_1st_floor/first_floor_fume_ho...   \n2   #biotech/biotech_1st_floor/first_floor_fume_ho...   \n3   #biotech/biotech_1st_floor/first_floor_fume_ho...   \n4   #biotech/biotech_1st_floor/first_floor_fume_ho...   \n..                                                ...   \n61  #biotech/biotech_4th_floor/fourth_floor_fume_h...   \n62  #biotech/biotech_4th_floor/fourth_floor_fume_h...   \n63  #biotech/biotech_4th_floor/fourth_floor_fume_h...   \n64  #biotech/biotech_4th_floor/fourth_floor_fume_h...   \n65  #biotech/biotech_4th_floor/fourth_floor_fume_h...   \n\n                                            Occupancy  \\\n0   #biotech/biotech_ground_floor/ground_floor_fum...   \n1   #biotech/biotech_1st_floor/first_floor_fume_ho...   \n2   #biotech/biotech_1st_floor/first_floor_fume_ho...   \n3   #biotech/biotech_1st_floor/first_floor_fume_ho...   \n4   #biotech/biotech_1st_floor/first_floor_fume_ho...   \n..                                                ...   \n61  #biotech/biotech_4th_floor/fourth_floor_fume_h...   \n62  #biotech/biotech_4th_floor/fourth_floor_fume_h...   \n63  #biotech/biotech_4th_floor/fourth_floor_fume_h...   \n64  #biotech/biotech_4th_floor/fourth_floor_fume_h...   \n65  #biotech/biotech_4th_floor/fourth_floor_fume_h...   \n\n                                        Internal Temp  \\\n0   #biotech/biotech_ground_floor/ground_floor_fum...   \n1   #biotech/biotech_1st_floor/first_floor_fume_ho...   \n2   #biotech/biotech_1st_floor/first_floor_fume_ho...   \n3   #biotech/biotech_1st_floor/first_floor_fume_ho...   \n4   #biotech/biotech_1st_floor/first_floor_fume_ho...   \n..                                                ...   \n61  #biotech/biotech_4th_floor/fourth_floor_fume_h...   \n62  #biotech/biotech_4th_floor/fourth_floor_fume_h...   \n63  #biotech/biotech_4th_floor/fourth_floor_fume_h...   \n64  #biotech/biotech_4th_floor/fourth_floor_fume_h...   \n65  #biotech/biotech_4th_floor/fourth_floor_fume_h...   \n\n                                        External Temp  \n0   #biotech/ground_flr_mech/building_hydronic_hea...  \n1   #biotech/ground_flr_mech/building_hydronic_hea...  \n2   #biotech/ground_flr_mech/building_hydronic_hea...  \n3   #biotech/ground_flr_mech/building_hydronic_hea...  \n4   #biotech/ground_flr_mech/building_hydronic_hea...  \n..                                                ...  \n61  #biotech/ground_flr_mech/building_hydronic_hea...  \n62  #biotech/ground_flr_mech/building_hydronic_hea...  \n63  #biotech/ground_flr_mech/building_hydronic_hea...  \n64  #biotech/ground_flr_mech/building_hydronic_hea...  \n65  #biotech/ground_flr_mech/building_hydronic_hea...  \n\n[66 rows x 8 columns]",
      "text/html": "<div>\n<style scoped>\n    .dataframe tbody tr th:only-of-type {\n        vertical-align: middle;\n    }\n\n    .dataframe tbody tr th {\n        vertical-align: top;\n    }\n\n    .dataframe thead th {\n        text-align: right;\n    }\n</style>\n<table border=\"1\" class=\"dataframe\">\n  <thead>\n    <tr style=\"text-align: right;\">\n      <th></th>\n      <th>Lab</th>\n      <th>Floor</th>\n      <th>Server</th>\n      <th>Hood</th>\n      <th>Sash</th>\n      <th>Occupancy</th>\n      <th>Internal Temp</th>\n      <th>External Temp</th>\n    </tr>\n  </thead>\n  <tbody>\n    <tr>\n      <th>0</th>\n      <td>g54</td>\n      <td>ground</td>\n      <td>biotech_main</td>\n      <td>#biotech/biotech_ground_floor/ground_floor_fum...</td>\n      <td>#biotech/biotech_ground_floor/ground_floor_fum...</td>\n      <td>#biotech/biotech_ground_floor/ground_floor_fum...</td>\n      <td>#biotech/biotech_ground_floor/ground_floor_fum...</td>\n      <td>#biotech/ground_flr_mech/building_hydronic_hea...</td>\n    </tr>\n    <tr>\n      <th>1</th>\n      <td>141</td>\n      <td>1st</td>\n      <td>biotech_main</td>\n      <td>#biotech/biotech_1st_floor/first_floor_fume_ho...</td>\n      <td>#biotech/biotech_1st_floor/first_floor_fume_ho...</td>\n      <td>#biotech/biotech_1st_floor/first_floor_fume_ho...</td>\n      <td>#biotech/biotech_1st_floor/first_floor_fume_ho...</td>\n      <td>#biotech/ground_flr_mech/building_hydronic_hea...</td>\n    </tr>\n    <tr>\n      <th>2</th>\n      <td>143</td>\n      <td>1st</td>\n      <td>biotech_main</td>\n      <td>#biotech/biotech_1st_floor/first_floor_fume_ho...</td>\n      <td>#biotech/biotech_1st_floor/first_floor_fume_ho...</td>\n      <td>#biotech/biotech_1st_floor/first_floor_fume_ho...</td>\n      <td>#biotech/biotech_1st_floor/first_floor_fume_ho...</td>\n      <td>#biotech/ground_flr_mech/building_hydronic_hea...</td>\n    </tr>\n    <tr>\n      <th>3</th>\n      <td>147b</td>\n      <td>1st</td>\n      <td>biotech_main</td>\n      <td>#biotech/biotech_1st_floor/first_floor_fume_ho...</td>\n      <td>#biotech/biotech_1st_floor/first_floor_fume_ho...</td>\n      <td>#biotech/biotech_1st_floor/first_floor_fume_ho...</td>\n      <td>#biotech/biotech_1st_floor/first_floor_fume_ho...</td>\n      <td>#biotech/ground_flr_mech/building_hydronic_hea...</td>\n    </tr>\n    <tr>\n      <th>4</th>\n      <td>153</td>\n      <td>1st</td>\n      <td>biotech_main</td>\n      <td>#biotech/biotech_1st_floor/first_floor_fume_ho...</td>\n      <td>#biotech/biotech_1st_floor/first_floor_fume_ho...</td>\n      <td>#biotech/biotech_1st_floor/first_floor_fume_ho...</td>\n      <td>#biotech/biotech_1st_floor/first_floor_fume_ho...</td>\n      <td>#biotech/ground_flr_mech/building_hydronic_hea...</td>\n    </tr>\n    <tr>\n      <th>...</th>\n      <td>...</td>\n      <td>...</td>\n      <td>...</td>\n      <td>...</td>\n      <td>...</td>\n      <td>...</td>\n      <td>...</td>\n      <td>...</td>\n    </tr>\n    <tr>\n      <th>61</th>\n      <td>445b</td>\n      <td>4th</td>\n      <td>biotech_main</td>\n      <td>#biotech/biotech_4th_floor/fourth_floor_fume_h...</td>\n      <td>#biotech/biotech_4th_floor/fourth_floor_fume_h...</td>\n      <td>#biotech/biotech_4th_floor/fourth_floor_fume_h...</td>\n      <td>#biotech/biotech_4th_floor/fourth_floor_fume_h...</td>\n      <td>#biotech/ground_flr_mech/building_hydronic_hea...</td>\n    </tr>\n    <tr>\n      <th>62</th>\n      <td>453</td>\n      <td>4th</td>\n      <td>biotech_main</td>\n      <td>#biotech/biotech_4th_floor/fourth_floor_fume_h...</td>\n      <td>#biotech/biotech_4th_floor/fourth_floor_fume_h...</td>\n      <td>#biotech/biotech_4th_floor/fourth_floor_fume_h...</td>\n      <td>#biotech/biotech_4th_floor/fourth_floor_fume_h...</td>\n      <td>#biotech/ground_flr_mech/building_hydronic_hea...</td>\n    </tr>\n    <tr>\n      <th>63</th>\n      <td>453b</td>\n      <td>4th</td>\n      <td>biotech_main</td>\n      <td>#biotech/biotech_4th_floor/fourth_floor_fume_h...</td>\n      <td>#biotech/biotech_4th_floor/fourth_floor_fume_h...</td>\n      <td>#biotech/biotech_4th_floor/fourth_floor_fume_h...</td>\n      <td>#biotech/biotech_4th_floor/fourth_floor_fume_h...</td>\n      <td>#biotech/ground_flr_mech/building_hydronic_hea...</td>\n    </tr>\n    <tr>\n      <th>64</th>\n      <td>457</td>\n      <td>4th</td>\n      <td>biotech_main</td>\n      <td>#biotech/biotech_4th_floor/fourth_floor_fume_h...</td>\n      <td>#biotech/biotech_4th_floor/fourth_floor_fume_h...</td>\n      <td>#biotech/biotech_4th_floor/fourth_floor_fume_h...</td>\n      <td>#biotech/biotech_4th_floor/fourth_floor_fume_h...</td>\n      <td>#biotech/ground_flr_mech/building_hydronic_hea...</td>\n    </tr>\n    <tr>\n      <th>65</th>\n      <td>457b</td>\n      <td>4th</td>\n      <td>biotech_main</td>\n      <td>#biotech/biotech_4th_floor/fourth_floor_fume_h...</td>\n      <td>#biotech/biotech_4th_floor/fourth_floor_fume_h...</td>\n      <td>#biotech/biotech_4th_floor/fourth_floor_fume_h...</td>\n      <td>#biotech/biotech_4th_floor/fourth_floor_fume_h...</td>\n      <td>#biotech/ground_flr_mech/building_hydronic_hea...</td>\n    </tr>\n  </tbody>\n</table>\n<p>66 rows × 8 columns</p>\n</div>"
     },
     "execution_count": 54,
     "metadata": {},
     "output_type": "execute_result"
    }
   ],
   "source": [
    "#Rearranging the column orders :)\n",
    "\n",
    "\n",
    "combined[\"External Temp\"] = \"#biotech/ground_flr_mech/building_hydronic_heating_syatems/reheat_heat_exchanger/oat\"\n",
    "combined[\"Server\"] = \"biotech_main\"\n",
    "cols = [\"Lab\",\"Floor\",\"Server\", \"Hood\",\"Sash\",\"Occupancy\",\"Internal Temp\", \"External Temp\"]\n",
    "combined = combined[cols]\n",
    "#combined.to_csv('C:\\\\Users\\\\Rob\\\\Documents\\\\GitHub\\\\fume-hood-dashboard\\\\pointnames.csv')\n",
    "combined"
   ],
   "metadata": {
    "collapsed": false
   }
  },
  {
   "cell_type": "code",
   "execution_count": 53,
   "outputs": [
    {
     "name": "stdout",
     "output_type": "stream",
     "text": [
      "<Response [200]>\n",
      "\n",
      " #biotech/biotech_2nd_floor/second_floor_fume_hood_lab_spaces/lab_257b_control/hoodvalve_flow \n",
      " 2021-11-17 05:00:00    317.28\n",
      "2021-11-17 05:15:00    310.40\n",
      "2021-11-17 05:30:00    309.82\n",
      "2021-11-17 05:45:00    309.25\n",
      "2021-11-17 06:00:00    309.25\n",
      "                        ...  \n",
      "2021-11-19 03:45:00    316.71\n",
      "2021-11-19 04:00:00    316.71\n",
      "2021-11-19 04:15:00    315.56\n",
      "2021-11-19 04:30:00    314.41\n",
      "2021-11-19 04:45:00    315.56\n",
      "Length: 192, dtype: float64\n",
      "\n",
      " #biotech/biotech_2nd_floor/second_floor_fume_hood_lab_spaces/lab_257b_control/hoodvalve_flow  new\n",
      " 2021-11-17 05:00:00    317.28\n",
      "2021-11-17 05:15:00    310.40\n",
      "2021-11-17 05:30:00    309.82\n",
      "2021-11-17 05:45:00    309.25\n",
      "2021-11-17 06:00:00    309.25\n",
      "                        ...  \n",
      "2021-11-19 03:45:00    316.71\n",
      "2021-11-19 04:00:00    316.71\n",
      "2021-11-19 04:15:00    315.56\n",
      "2021-11-19 04:30:00    314.41\n",
      "2021-11-19 04:45:00    315.56\n",
      "Length: 192, dtype: float64\n",
      "<Response [200]>\n",
      "\n",
      " #biotech/biotech_2nd_floor/second_floor_fume_hood_lab_spaces/lab_257b_control/hood_sash \n",
      " 2021-11-17 05:00:00    1.2\n",
      "2021-11-17 05:15:00    1.2\n",
      "2021-11-17 05:30:00    1.2\n",
      "2021-11-17 05:45:00    1.2\n",
      "2021-11-17 06:00:00    1.2\n",
      "                      ... \n",
      "2021-11-19 03:45:00    1.2\n",
      "2021-11-19 04:00:00    1.2\n",
      "2021-11-19 04:15:00    1.2\n",
      "2021-11-19 04:30:00    1.2\n",
      "2021-11-19 04:45:00    1.2\n",
      "Length: 192, dtype: float64\n",
      "\n",
      " #biotech/biotech_2nd_floor/second_floor_fume_hood_lab_spaces/lab_257b_control/hood_sash  new\n",
      " 2021-11-17 05:00:00    1.2\n",
      "2021-11-17 05:15:00    1.2\n",
      "2021-11-17 05:30:00    1.2\n",
      "2021-11-17 05:45:00    1.2\n",
      "2021-11-17 06:00:00    1.2\n",
      "                      ... \n",
      "2021-11-19 03:45:00    1.2\n",
      "2021-11-19 04:00:00    1.2\n",
      "2021-11-19 04:15:00    1.2\n",
      "2021-11-19 04:30:00    1.2\n",
      "2021-11-19 04:45:00    1.2\n",
      "Length: 192, dtype: float64\n",
      "<Response [200]>\n",
      "\n",
      " #biotech/biotech_2nd_floor/second_floor_fume_hood_lab_spaces/lab_257b_control/occ \n",
      " 2021-11-17 05:00:00    0.0\n",
      "2021-11-17 05:15:00    0.0\n",
      "2021-11-17 05:30:00    0.0\n",
      "2021-11-17 05:45:00    0.0\n",
      "2021-11-17 06:00:00    0.0\n",
      "                      ... \n",
      "2021-11-19 03:45:00    0.0\n",
      "2021-11-19 04:00:00    0.0\n",
      "2021-11-19 04:15:00    0.0\n",
      "2021-11-19 04:30:00    0.0\n",
      "2021-11-19 04:45:00    0.0\n",
      "Length: 192, dtype: float64\n",
      "\n",
      " #biotech/biotech_2nd_floor/second_floor_fume_hood_lab_spaces/lab_257b_control/occ  new\n",
      " 2021-11-17 05:00:00    0.0\n",
      "2021-11-17 05:15:00    0.0\n",
      "2021-11-17 05:30:00    0.0\n",
      "2021-11-17 05:45:00    0.0\n",
      "2021-11-17 06:00:00    0.0\n",
      "                      ... \n",
      "2021-11-19 03:45:00    0.0\n",
      "2021-11-19 04:00:00    0.0\n",
      "2021-11-19 04:15:00    0.0\n",
      "2021-11-19 04:30:00    0.0\n",
      "2021-11-19 04:45:00    0.0\n",
      "Length: 192, dtype: float64\n",
      "<Response [400]>\n"
     ]
    },
    {
     "ename": "KeyError",
     "evalue": "0",
     "output_type": "error",
     "traceback": [
      "\u001B[1;31m---------------------------------------------------------------------------\u001B[0m",
      "\u001B[1;31mKeyError\u001B[0m                                  Traceback (most recent call last)",
      "\u001B[1;32m<ipython-input-53-c92bd5b10957>\u001B[0m in \u001B[0;36m<module>\u001B[1;34m\u001B[0m\n\u001B[0;32m      3\u001B[0m \u001B[0mi\u001B[0m\u001B[1;33m=\u001B[0m \u001B[1;36m20\u001B[0m\u001B[1;33m\u001B[0m\u001B[1;33m\u001B[0m\u001B[0m\n\u001B[0;32m      4\u001B[0m \u001B[1;33m\u001B[0m\u001B[0m\n\u001B[1;32m----> 5\u001B[1;33m total_energy(cfm_point=combined[\"Hood\"][i],\n\u001B[0m\u001B[0;32m      6\u001B[0m              \u001B[0msash_point\u001B[0m\u001B[1;33m=\u001B[0m\u001B[0mcombined\u001B[0m\u001B[1;33m[\u001B[0m\u001B[1;34m\"Sash\"\u001B[0m\u001B[1;33m]\u001B[0m\u001B[1;33m[\u001B[0m\u001B[0mi\u001B[0m\u001B[1;33m]\u001B[0m\u001B[1;33m,\u001B[0m\u001B[1;33m\u001B[0m\u001B[1;33m\u001B[0m\u001B[0m\n\u001B[0;32m      7\u001B[0m              \u001B[0mocc_point\u001B[0m\u001B[1;33m=\u001B[0m\u001B[0mcombined\u001B[0m\u001B[1;33m[\u001B[0m\u001B[1;34m\"Occupancy\"\u001B[0m\u001B[1;33m]\u001B[0m\u001B[1;33m[\u001B[0m\u001B[0mi\u001B[0m\u001B[1;33m]\u001B[0m\u001B[1;33m,\u001B[0m\u001B[1;33m\u001B[0m\u001B[1;33m\u001B[0m\u001B[0m\n",
      "\u001B[1;32m<ipython-input-15-d2181f84aa58>\u001B[0m in \u001B[0;36mtotal_energy\u001B[1;34m(cfm_point, sash_point, occ_point, internal_temp_point, external_temp_point, server, start, end)\u001B[0m\n\u001B[0;32m     16\u001B[0m     \u001B[0msash_list\u001B[0m \u001B[1;33m=\u001B[0m \u001B[0mquery_to_list\u001B[0m\u001B[1;33m(\u001B[0m\u001B[0msash_point\u001B[0m\u001B[1;33m,\u001B[0m \u001B[0mserver\u001B[0m\u001B[1;33m,\u001B[0m \u001B[0mstart\u001B[0m\u001B[1;33m,\u001B[0m \u001B[0mend\u001B[0m\u001B[1;33m)\u001B[0m\u001B[1;33m\u001B[0m\u001B[1;33m\u001B[0m\u001B[0m\n\u001B[0;32m     17\u001B[0m     \u001B[0mocc_list\u001B[0m \u001B[1;33m=\u001B[0m \u001B[0mquery_to_list\u001B[0m\u001B[1;33m(\u001B[0m\u001B[0mocc_point\u001B[0m\u001B[1;33m,\u001B[0m \u001B[0mserver\u001B[0m\u001B[1;33m,\u001B[0m \u001B[0mstart\u001B[0m\u001B[1;33m,\u001B[0m \u001B[0mend\u001B[0m\u001B[1;33m)\u001B[0m\u001B[1;33m\u001B[0m\u001B[1;33m\u001B[0m\u001B[0m\n\u001B[1;32m---> 18\u001B[1;33m     \u001B[0minternal_temp_list\u001B[0m \u001B[1;33m=\u001B[0m \u001B[0mquery_to_list\u001B[0m\u001B[1;33m(\u001B[0m\u001B[0minternal_temp_point\u001B[0m\u001B[1;33m,\u001B[0m \u001B[0mserver\u001B[0m\u001B[1;33m,\u001B[0m \u001B[0mstart\u001B[0m\u001B[1;33m,\u001B[0m \u001B[0mend\u001B[0m\u001B[1;33m)\u001B[0m\u001B[1;33m\u001B[0m\u001B[1;33m\u001B[0m\u001B[0m\n\u001B[0m\u001B[0;32m     19\u001B[0m     \u001B[0mexternal_temp_list\u001B[0m \u001B[1;33m=\u001B[0m \u001B[0mquery_to_list\u001B[0m\u001B[1;33m(\u001B[0m\u001B[0mexternal_temp_point\u001B[0m\u001B[1;33m,\u001B[0m \u001B[0mserver\u001B[0m\u001B[1;33m,\u001B[0m \u001B[0mstart\u001B[0m\u001B[1;33m,\u001B[0m \u001B[0mend\u001B[0m\u001B[1;33m)\u001B[0m\u001B[1;33m\u001B[0m\u001B[1;33m\u001B[0m\u001B[0m\n\u001B[0;32m     20\u001B[0m \u001B[1;33m\u001B[0m\u001B[0m\n",
      "\u001B[1;32m<ipython-input-13-59ad3b114f13>\u001B[0m in \u001B[0;36mquery_to_list\u001B[1;34m(point, server, start, end)\u001B[0m\n\u001B[0;32m      1\u001B[0m \u001B[1;32mdef\u001B[0m \u001B[0mquery_to_list\u001B[0m\u001B[1;33m(\u001B[0m\u001B[0mpoint\u001B[0m\u001B[1;33m,\u001B[0m \u001B[0mserver\u001B[0m\u001B[1;33m,\u001B[0m \u001B[0mstart\u001B[0m\u001B[1;33m,\u001B[0m \u001B[0mend\u001B[0m\u001B[1;33m)\u001B[0m\u001B[1;33m:\u001B[0m\u001B[1;33m\u001B[0m\u001B[1;33m\u001B[0m\u001B[0m\n\u001B[1;32m----> 2\u001B[1;33m     \u001B[0mmaster\u001B[0m \u001B[1;33m=\u001B[0m \u001B[0mfume_query\u001B[0m\u001B[1;33m(\u001B[0m\u001B[0mpoint\u001B[0m\u001B[1;33m,\u001B[0m \u001B[0mserver\u001B[0m\u001B[1;33m,\u001B[0m \u001B[0mstart\u001B[0m\u001B[1;33m,\u001B[0m \u001B[0mend\u001B[0m\u001B[1;33m)\u001B[0m\u001B[1;33m\u001B[0m\u001B[1;33m\u001B[0m\u001B[0m\n\u001B[0m\u001B[0;32m      3\u001B[0m \u001B[1;33m\u001B[0m\u001B[0m\n\u001B[0;32m      4\u001B[0m     \u001B[0mlist\u001B[0m \u001B[1;33m=\u001B[0m \u001B[0mpd\u001B[0m\u001B[1;33m.\u001B[0m\u001B[0mSeries\u001B[0m\u001B[1;33m(\u001B[0m\u001B[0mdata\u001B[0m\u001B[1;33m=\u001B[0m\u001B[1;33m[\u001B[0m\u001B[0mi\u001B[0m\u001B[1;33m[\u001B[0m\u001B[1;36m0\u001B[0m\u001B[1;33m]\u001B[0m \u001B[1;32mfor\u001B[0m \u001B[0mi\u001B[0m \u001B[1;32min\u001B[0m \u001B[0mmaster\u001B[0m\u001B[1;33m]\u001B[0m\u001B[1;33m,\u001B[0m \u001B[0mindex\u001B[0m\u001B[1;33m=\u001B[0m\u001B[1;33m[\u001B[0m\u001B[0mi\u001B[0m\u001B[1;33m[\u001B[0m\u001B[1;36m1\u001B[0m\u001B[1;33m]\u001B[0m \u001B[1;32mfor\u001B[0m \u001B[0mi\u001B[0m \u001B[1;32min\u001B[0m \u001B[0mmaster\u001B[0m\u001B[1;33m]\u001B[0m\u001B[1;33m)\u001B[0m\u001B[1;33m\u001B[0m\u001B[1;33m\u001B[0m\u001B[0m\n\u001B[0;32m      5\u001B[0m     \u001B[0mprint\u001B[0m\u001B[1;33m(\u001B[0m\u001B[1;34m\"\\n\"\u001B[0m\u001B[1;33m,\u001B[0m \u001B[0mpoint\u001B[0m\u001B[1;33m,\u001B[0m \u001B[1;34m\"\\n\"\u001B[0m\u001B[1;33m,\u001B[0m \u001B[0mlist\u001B[0m\u001B[1;33m)\u001B[0m\u001B[1;33m\u001B[0m\u001B[1;33m\u001B[0m\u001B[0m\n",
      "\u001B[1;32m<ipython-input-12-77f65ce50679>\u001B[0m in \u001B[0;36mfume_query\u001B[1;34m(target, server, start, end)\u001B[0m\n\u001B[0;32m     35\u001B[0m     \u001B[0mprint\u001B[0m\u001B[1;33m(\u001B[0m\u001B[0mrequest\u001B[0m\u001B[1;33m)\u001B[0m\u001B[1;33m\u001B[0m\u001B[1;33m\u001B[0m\u001B[0m\n\u001B[0;32m     36\u001B[0m     \u001B[1;31m# print(request.json())\u001B[0m\u001B[1;33m\u001B[0m\u001B[1;33m\u001B[0m\u001B[1;33m\u001B[0m\u001B[0m\n\u001B[1;32m---> 37\u001B[1;33m     \u001B[1;32mreturn\u001B[0m \u001B[0mcreate_tuple\u001B[0m\u001B[1;33m(\u001B[0m\u001B[0mrequest\u001B[0m\u001B[1;33m)\u001B[0m\u001B[1;33m\u001B[0m\u001B[1;33m\u001B[0m\u001B[0m\n\u001B[0m\u001B[0;32m     38\u001B[0m \u001B[1;33m\u001B[0m\u001B[0m\n\u001B[0;32m     39\u001B[0m \u001B[1;31m# fume_query(target=\"#biotech/biotech_4th_floor/fourth_floor_fume_hood_lab_spaces/lab_433_control/hood_sash\", server=\"biotech_main\", start=\"2021-12-25T00:00:00.000\", end=\"2021-12-25T00:00:00.000\")\u001B[0m\u001B[1;33m\u001B[0m\u001B[1;33m\u001B[0m\u001B[1;33m\u001B[0m\u001B[0m\n",
      "\u001B[1;32m<ipython-input-11-58417026253c>\u001B[0m in \u001B[0;36mcreate_tuple\u001B[1;34m(response)\u001B[0m\n\u001B[0;32m      1\u001B[0m \u001B[1;32mdef\u001B[0m \u001B[0mcreate_tuple\u001B[0m\u001B[1;33m(\u001B[0m\u001B[0mresponse\u001B[0m\u001B[1;33m)\u001B[0m\u001B[1;33m:\u001B[0m\u001B[1;33m\u001B[0m\u001B[1;33m\u001B[0m\u001B[0m\n\u001B[0;32m      2\u001B[0m     \u001B[0mresponse_data\u001B[0m \u001B[1;33m=\u001B[0m \u001B[0mresponse\u001B[0m\u001B[1;33m.\u001B[0m\u001B[0mjson\u001B[0m\u001B[1;33m(\u001B[0m\u001B[1;33m)\u001B[0m\u001B[1;33m\u001B[0m\u001B[1;33m\u001B[0m\u001B[0m\n\u001B[1;32m----> 3\u001B[1;33m     \u001B[0mresponse_datum\u001B[0m \u001B[1;33m=\u001B[0m \u001B[0mresponse_data\u001B[0m\u001B[1;33m[\u001B[0m\u001B[1;36m0\u001B[0m\u001B[1;33m]\u001B[0m\u001B[1;33m\u001B[0m\u001B[1;33m\u001B[0m\u001B[0m\n\u001B[0m\u001B[0;32m      4\u001B[0m     \u001B[0mresponse_target\u001B[0m \u001B[1;33m=\u001B[0m \u001B[0mresponse_datum\u001B[0m\u001B[1;33m[\u001B[0m\u001B[1;34m'target'\u001B[0m\u001B[1;33m]\u001B[0m\u001B[1;33m\u001B[0m\u001B[1;33m\u001B[0m\u001B[0m\n\u001B[0;32m      5\u001B[0m     \u001B[0mresponse_datapoints\u001B[0m \u001B[1;33m=\u001B[0m \u001B[0mresponse_datum\u001B[0m\u001B[1;33m[\u001B[0m\u001B[1;34m'datapoints'\u001B[0m\u001B[1;33m]\u001B[0m\u001B[1;33m\u001B[0m\u001B[1;33m\u001B[0m\u001B[0m\n",
      "\u001B[1;31mKeyError\u001B[0m: 0"
     ]
    }
   ],
   "source": [
    "#Generalize the energy quantification so that it works across any set of points\n",
    "\n",
    "i= 20\n",
    "\n",
    "total_energy(cfm_point=combined[\"Hood\"][i],\n",
    "             sash_point=combined[\"Sash\"][i],\n",
    "             occ_point=combined[\"Occupancy\"][i],\n",
    "             internal_temp_point=combined[\"Internal Temp\"][i],\n",
    "             external_temp_point=combined[\"External Temp\"][i],\n",
    "             server = combined[\"Server\"][i],\n",
    "             start=str(datetime(2021, 11,17)),\n",
    "             end=str(datetime(2021, 11, 18)))"
   ],
   "metadata": {
    "collapsed": false
   }
  },
  {
   "cell_type": "code",
   "execution_count": null,
   "outputs": [],
   "source": [],
   "metadata": {
    "collapsed": false
   }
  }
 ],
 "metadata": {
  "kernelspec": {
   "display_name": "Python 3",
   "language": "python",
   "name": "python3"
  },
  "language_info": {
   "codemirror_mode": {
    "name": "ipython",
    "version": 2
   },
   "file_extension": ".py",
   "mimetype": "text/x-python",
   "name": "python",
   "nbconvert_exporter": "python",
   "pygments_lexer": "ipython2",
   "version": "2.7.6"
  }
 },
 "nbformat": 4,
 "nbformat_minor": 0
}
