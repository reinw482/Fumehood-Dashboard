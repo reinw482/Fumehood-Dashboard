{
 "cells": [
  {
   "cell_type": "code",
   "execution_count": 40,
   "metadata": {
    "collapsed": true
   },
   "outputs": [],
   "source": [
    "import pandas as pd\n",
    "import numpy as np\n",
    "from datetime import datetime, timezone\n",
    "import requests\n",
    "import json\n",
    "import matplotlib.pyplot as plt\n",
    "import math\n",
    "import scipy.stats as st\n",
    "\n",
    "from dateutil import parser\n",
    "import matplotlib.dates as mdates"
   ]
  },
  {
   "cell_type": "code",
   "execution_count": 41,
   "outputs": [],
   "source": [
    "def create_tuple(response):\n",
    "    response_data = response.json()\n",
    "    response_datum = response_data[0]\n",
    "    response_target = response_datum['target']\n",
    "    response_datapoints = response_datum['datapoints']\n",
    "    tuple_array = [tuple(x) for x in response_datapoints]\n",
    "    npa = np.array(tuple_array, dtype=[\n",
    "        ('value', np.double), ('ts', 'datetime64[ms]')])\n",
    "    return npa"
   ],
   "metadata": {
    "collapsed": false
   }
  },
  {
   "cell_type": "code",
   "execution_count": 42,
   "outputs": [],
   "source": [
    "\"\"\"\n",
    "Returns an array of tuples where tuple[0] is the metric, and tuple[1] is the time\n",
    "of measurement\n",
    "\n",
    "Target: a WebCTRL point name in the form of a string\n",
    "Example: \"#biotech/biotech_4th_floor/fourth_floor_fume_hood_lab_spaces/lab_433_control/zone/zone_temp/trend_log\"\n",
    "\n",
    "Server: a string representing the WebCTRL server our point exists in\n",
    "Example: \"biotech_main\"\n",
    "\n",
    "Start: the start time we wish to be querying data about (in string format)\n",
    "Example: \"2021-12-31T11:00Z\"\n",
    "\n",
    "End: The end time we wish to be querying data about\n",
    "Example: \"2022-12-31T11:00Z\"\n",
    "\"\"\"\n",
    "def fume_query(target,server, start,end):\n",
    "    url = \"https://ypsu0n34jc.execute-api.us-east-1.amazonaws.com/dev/query\"\n",
    "    data = {\n",
    "        \"range\": {\n",
    "            \"from\": start,\n",
    "            \"to\": end,\n",
    "        },\n",
    "        \"targets\": [\n",
    "            {\n",
    "                \"payload\": {\n",
    "                    \"schema\": server,\n",
    "                },\n",
    "                \"target\": target\n",
    "            }\n",
    "        ],\n",
    "\n",
    "    }\n",
    "    request = requests.post(url, json=data)\n",
    "    #print(request)\n",
    "    #print(request.json())\n",
    "    return create_tuple(request)\n",
    "\n",
    "# fume_query(target=\"#biotech/biotech_4th_floor/fourth_floor_fume_hood_lab_spaces/lab_433_control/hood_sash\", server=\"biotech_main\", start=\"2021-12-25T00:00:00.000\", end=\"2021-12-25T00:00:00.000\")\n",
    "# fume_query(target=\"#biotech_weather/temperature_tn\", server=\"biotech_main\", star\n"
   ],
   "metadata": {
    "collapsed": false
   }
  },
  {
   "cell_type": "code",
   "execution_count": 43,
   "outputs": [],
   "source": [
    "def query_to_list(point, server, start, end):\n",
    "    master = fume_query(point, server, start, end)\n",
    "\n",
    "    list = pd.Series(data=[i[0] for i in master], index=[i[1] for i in master])\n",
    "    #print(\"\\n\", point, \"\\n\", list)\n",
    "\n",
    "    list = list[~list.index.duplicated()]\n",
    "    #print(\"\\n\", point, \" new\\n\", list)\n",
    "\n",
    "    return list"
   ],
   "metadata": {
    "collapsed": false
   }
  },
  {
   "cell_type": "code",
   "execution_count": 44,
   "outputs": [
    {
     "data": {
      "text/plain": "2021-11-17 06:00:00     0\n2021-11-17 07:00:00    10\n2021-11-17 08:00:00    50\n2021-11-17 09:00:00     0\n2021-11-17 10:00:00    30\n2021-11-17 11:00:00    40\n2021-11-17 12:00:00    15\n2021-11-17 13:00:00    40\n2021-11-17 14:00:00    10\n2021-11-17 15:00:00     0\n2021-11-17 16:00:00     0\n2021-11-17 17:00:00     0\n2021-11-17 18:00:00     0\n2021-11-17 19:00:00     0\n2021-11-17 20:00:00     0\n2021-11-17 21:00:00     0\n2021-11-17 22:00:00     0\n2021-11-17 23:00:00     0\n2021-11-18 00:00:00     0\n2021-11-18 01:00:00     0\n2021-11-18 02:00:00     0\n2021-11-18 03:00:00    55\n2021-11-18 04:00:00    25\n2021-11-18 05:00:00    30\nFreq: 60T, Name: time_open_mins, dtype: int32"
     },
     "execution_count": 44,
     "metadata": {},
     "output_type": "execute_result"
    }
   ],
   "source": [
    "# Arguments: Sash Point, Occ Point, Server Name, Start Time, End Time\n",
    "# Returns: Total time that hood sash was open when room is unoccupied, aggregated by hour\n",
    "\n",
    "\n",
    "def total_time_sash_open_unoccupied(sash_point, occ_point, server, start, end):\n",
    "    sash_list = query_to_list(sash_point, server, start, end)\n",
    "    occ_list = query_to_list(occ_point, server, start, end)\n",
    "\n",
    "    df = pd.concat([sash_list, occ_list], axis=1)\n",
    "    df.columns = [\"sash\", \"occ\"]\n",
    "    #display(df)\n",
    "\n",
    "    time_interval = df.index[1].minute - df.index[0].minute\n",
    "\n",
    "    # Figure out closed sash position\n",
    "    # display(df[\"sash\"].value_counts())\n",
    "\n",
    "    # from running the above on a large time difference, 1.2 inches is the most common smallest value\n",
    "    df[\"time_open_mins\"] = np.where((df[\"sash\"] > 1.2) & (df[\"occ\"] == 0), time_interval, 0)\n",
    "\n",
    "    df = df.dropna()\n",
    "    #display(df)\n",
    "\n",
    "    df = df.groupby(pd.Grouper(freq='60Min', label='right')).sum()\n",
    "\n",
    "    return df[\"time_open_mins\"]\n",
    "\n",
    "total_time_sash_open_unoccupied(sash_point=\"#biotech/biotech_4th_floor/fourth_floor_fume_hood_lab_spaces/lab_433_control/hood_sash\",\n",
    "                                occ_point=\"#biotech/biotech_4th_floor/fourth_floor_fume_hood_lab_spaces/lab_433_control/occ_trend\",\n",
    "                                server=\"biotech_main\",\n",
    "                                start = str(datetime(2021, 11, 17, 1)),\n",
    "                                end = str(datetime(2021, 11, 17, 2)))"
   ],
   "metadata": {
    "collapsed": false
   }
  },
  {
   "cell_type": "code",
   "execution_count": 45,
   "outputs": [
    {
     "data": {
      "text/plain": "2021-11-17 06:00:00    8897.68611\n2021-11-17 07:00:00    8894.77461\n2021-11-17 08:00:00    8835.30861\n2021-11-17 09:00:00    8783.13078\n2021-11-17 10:00:00    8987.19759\n2021-11-17 11:00:00    8544.53253\n2021-11-17 12:00:00    8110.01574\n2021-11-17 13:00:00    8001.60912\n2021-11-17 14:00:00    7649.42160\n2021-11-17 15:00:00    7317.14085\n2021-11-17 16:00:00    7134.71613\n2021-11-17 17:00:00    6813.28503\n2021-11-17 18:00:00    6341.22387\n2021-11-17 19:00:00    6029.75880\n2021-11-17 20:00:00    5692.98126\n2021-11-17 21:00:00    7604.98143\n2021-11-17 22:00:00    7453.21290\n2021-11-17 23:00:00    7449.60969\n2021-11-18 00:00:00    7380.94521\n2021-11-18 01:00:00    7247.46801\n2021-11-18 02:00:00    5845.40184\n2021-11-18 03:00:00    5097.14043\n2021-11-18 04:00:00    5082.45864\n2021-11-18 05:00:00    5084.66550\n2021-11-18 06:00:00    4933.91175\n2021-11-18 07:00:00    4769.72898\n2021-11-18 08:00:00    4646.37774\n2021-11-18 09:00:00    4172.63094\n2021-11-18 10:00:00    3894.46179\n2021-11-18 11:00:00    3892.84986\n2021-11-18 12:00:00    3894.43371\n2021-11-18 13:00:00    3750.55764\n2021-11-18 14:00:00    3402.94710\n2021-11-18 15:00:00    3161.26956\n2021-11-18 16:00:00    3142.49031\n2021-11-18 17:00:00    3488.50323\n2021-11-18 18:00:00    4903.15788\n2021-11-18 19:00:00    5337.27108\n2021-11-18 20:00:00    5739.28368\n2021-11-18 21:00:00    5858.02242\n2021-11-18 22:00:00    5820.73674\n2021-11-18 23:00:00    5816.91642\n2021-11-19 00:00:00    5830.29738\n2021-11-19 01:00:00    6111.29463\n2021-11-19 02:00:00    6127.79388\n2021-11-19 03:00:00    6264.94581\n2021-11-19 04:00:00    6512.95002\n2021-11-19 05:00:00    6625.14321\nFreq: 60T, Name: BTU, dtype: float64"
     },
     "execution_count": 45,
     "metadata": {},
     "output_type": "execute_result"
    }
   ],
   "source": [
    "# Arguments: CFM Point, Sash Point, Occ Point, Internal Temp Point, External Temp Point, Server Name, Start Time, End Time\n",
    "# Returns: Total energy from hume hood, aggregated by hour.  Can be adapted later on to only show energy when unoccupied\n",
    "\n",
    "# A switch in the energy calculations that allows us to avoid issues between times of years where it is hotter/colder outside.\n",
    "def coldorhot(cfm, external, internal, time_interval):\n",
    "    if external<=internal:\n",
    "        #sensible heating equation\n",
    "        return 1.08 * cfm * (internal - external) / (60 / time_interval)\n",
    "    if external>internal:\n",
    "        #enthalpy of air\n",
    "        return 0.24 * cfm /13.333 * 60 * (external - internal) / (60 / time_interval)\n",
    "\n",
    "def total_energy(cfm_point, sash_point, occ_point, internal_temp_point, external_temp_point, server, start, end):\n",
    "    #external_temp_master = outside_temp(start,end)\n",
    "    cfm_list = query_to_list(cfm_point, server, start, end)\n",
    "    sash_list = query_to_list(sash_point, server, start, end)\n",
    "    occ_list = query_to_list(occ_point, server, start, end)\n",
    "    internal_temp_list = query_to_list(internal_temp_point, server, start, end)\n",
    "    external_temp_list = query_to_list(external_temp_point, server, start, end)\n",
    "\n",
    "    df = pd.concat([cfm_list, sash_list, occ_list, internal_temp_list, external_temp_list], axis=1)\n",
    "    df.columns = [\"cfm\", \"sash\", \"occ\", \"internal_temp\", \"external_temp\"]\n",
    "    #display(df)\n",
    "\n",
    "    df[\"external_temp\"] = df[\"external_temp\"].interpolate()\n",
    "    #display(df)\n",
    "\n",
    "    time_interval = df.index[1].minute - df.index[0].minute\n",
    "\n",
    "    df['BTU'] = df.apply(lambda df: coldorhot(df['cfm'], df['external_temp'], df['internal_temp'], time_interval=time_interval), axis=1)\n",
    "    #print(\"\\nFinal Data Frame: \")\n",
    "    #display(df)\n",
    "\n",
    "    df = df.groupby(pd.Grouper(freq='60Min', label='right')).sum()\n",
    "    #display(df)\n",
    "\n",
    "    return df[\"BTU\"]\n",
    "\n",
    "total_energy(cfm_point=\"#biotech/biotech_4th_floor/fourth_floor_fume_hood_lab_spaces/lab_433_control/hoodvalve_flow/trend_log\",\n",
    "             sash_point=\"#biotech/biotech_4th_floor/fourth_floor_fume_hood_lab_spaces/lab_433_control/hood_sash\",\n",
    "             occ_point=\"#biotech/biotech_4th_floor/fourth_floor_fume_hood_lab_spaces/lab_433_control/occ_trend\",\n",
    "             internal_temp_point=\"#biotech/biotech_4th_floor/fourth_floor_fume_hood_lab_spaces/lab_433_control/zone/zone_temp/trend_log\",\n",
    "             external_temp_point=\"#biotech/ground_flr_mech/building_hydronic_heating_syatems/reheat_heat_exchanger/oat\",\n",
    "             server = \"biotech_main\",\n",
    "             start=str(datetime(2021, 11,17)),\n",
    "             end=str(datetime(2021, 11, 18)))"
   ],
   "metadata": {
    "collapsed": false
   }
  },
  {
   "cell_type": "code",
   "execution_count": 46,
   "outputs": [
    {
     "data": {
      "text/plain": "                       C1                                           Room  \\\n0              Point List                                            NaN   \n1               Location:  Cornell University / Biotech Server / Biotech   \n2  report_progress_step()                                            NaN   \n3  report_progress_step()                                            NaN   \n4  report_progress_step()                                            NaN   \n\n  Pointname Acronym Point  \n0       NaN     NaN   NaN  \n1       NaN     NaN   NaN  \n2       NaN     NaN   NaN  \n3       NaN     NaN   NaN  \n4       NaN     NaN   NaN  ",
      "text/html": "<div>\n<style scoped>\n    .dataframe tbody tr th:only-of-type {\n        vertical-align: middle;\n    }\n\n    .dataframe tbody tr th {\n        vertical-align: top;\n    }\n\n    .dataframe thead th {\n        text-align: right;\n    }\n</style>\n<table border=\"1\" class=\"dataframe\">\n  <thead>\n    <tr style=\"text-align: right;\">\n      <th></th>\n      <th>C1</th>\n      <th>Room</th>\n      <th>Pointname</th>\n      <th>Acronym</th>\n      <th>Point</th>\n    </tr>\n  </thead>\n  <tbody>\n    <tr>\n      <th>0</th>\n      <td>Point List</td>\n      <td>NaN</td>\n      <td>NaN</td>\n      <td>NaN</td>\n      <td>NaN</td>\n    </tr>\n    <tr>\n      <th>1</th>\n      <td>Location:</td>\n      <td>Cornell University / Biotech Server / Biotech</td>\n      <td>NaN</td>\n      <td>NaN</td>\n      <td>NaN</td>\n    </tr>\n    <tr>\n      <th>2</th>\n      <td>report_progress_step()</td>\n      <td>NaN</td>\n      <td>NaN</td>\n      <td>NaN</td>\n      <td>NaN</td>\n    </tr>\n    <tr>\n      <th>3</th>\n      <td>report_progress_step()</td>\n      <td>NaN</td>\n      <td>NaN</td>\n      <td>NaN</td>\n      <td>NaN</td>\n    </tr>\n    <tr>\n      <th>4</th>\n      <td>report_progress_step()</td>\n      <td>NaN</td>\n      <td>NaN</td>\n      <td>NaN</td>\n      <td>NaN</td>\n    </tr>\n  </tbody>\n</table>\n</div>"
     },
     "execution_count": 46,
     "metadata": {},
     "output_type": "execute_result"
    }
   ],
   "source": [
    "url = 'https://github.com/thereidfleish/fume-hood-dashboard/blob/Robbie/report1678804296452.csv?raw=true'\n",
    "pointnames = pd.read_csv(url)\n",
    "pointnames.head()"
   ],
   "metadata": {
    "collapsed": false
   }
  },
  {
   "cell_type": "code",
   "execution_count": 47,
   "outputs": [
    {
     "data": {
      "text/plain": "                                            Occupancy  \\\n0   #biotech/biotech_ground_floor/ground_floor_fum...   \n1   #biotech/biotech_1st_floor/first_floor_fume_ho...   \n2   #biotech/biotech_1st_floor/first_floor_fume_ho...   \n3   #biotech/biotech_1st_floor/first_floor_fume_ho...   \n4   #biotech/biotech_1st_floor/first_floor_fume_ho...   \n..                                                ...   \n65  #biotech/biotech_4th_floor/fourth_floor_fume_h...   \n66  #biotech/biotech_4th_floor/fourth_floor_fume_h...   \n67  #biotech/biotech_4th_floor/fourth_floor_fume_h...   \n68  #biotech/biotech_4th_floor/fourth_floor_fume_h...   \n69  #biotech/biotech_4th_floor/fourth_floor_fume_h...   \n\n                                        Internal Temp  \n0   #biotech/biotech_ground_floor/ground_floor_fum...  \n1   #biotech/biotech_1st_floor/first_floor_fume_ho...  \n2   #biotech/biotech_1st_floor/first_floor_fume_ho...  \n3   #biotech/biotech_1st_floor/first_floor_fume_ho...  \n4   #biotech/biotech_1st_floor/first_floor_fume_ho...  \n..                                                ...  \n65  #biotech/biotech_4th_floor/fourth_floor_fume_h...  \n66  #biotech/biotech_4th_floor/fourth_floor_fume_h...  \n67  #biotech/biotech_4th_floor/fourth_floor_fume_h...  \n68  #biotech/biotech_4th_floor/fourth_floor_fume_h...  \n69  #biotech/biotech_4th_floor/fourth_floor_fume_h...  \n\n[70 rows x 2 columns]",
      "text/html": "<div>\n<style scoped>\n    .dataframe tbody tr th:only-of-type {\n        vertical-align: middle;\n    }\n\n    .dataframe tbody tr th {\n        vertical-align: top;\n    }\n\n    .dataframe thead th {\n        text-align: right;\n    }\n</style>\n<table border=\"1\" class=\"dataframe\">\n  <thead>\n    <tr style=\"text-align: right;\">\n      <th></th>\n      <th>Occupancy</th>\n      <th>Internal Temp</th>\n    </tr>\n  </thead>\n  <tbody>\n    <tr>\n      <th>0</th>\n      <td>#biotech/biotech_ground_floor/ground_floor_fum...</td>\n      <td>#biotech/biotech_ground_floor/ground_floor_fum...</td>\n    </tr>\n    <tr>\n      <th>1</th>\n      <td>#biotech/biotech_1st_floor/first_floor_fume_ho...</td>\n      <td>#biotech/biotech_1st_floor/first_floor_fume_ho...</td>\n    </tr>\n    <tr>\n      <th>2</th>\n      <td>#biotech/biotech_1st_floor/first_floor_fume_ho...</td>\n      <td>#biotech/biotech_1st_floor/first_floor_fume_ho...</td>\n    </tr>\n    <tr>\n      <th>3</th>\n      <td>#biotech/biotech_1st_floor/first_floor_fume_ho...</td>\n      <td>#biotech/biotech_1st_floor/first_floor_fume_ho...</td>\n    </tr>\n    <tr>\n      <th>4</th>\n      <td>#biotech/biotech_1st_floor/first_floor_fume_ho...</td>\n      <td>#biotech/biotech_1st_floor/first_floor_fume_ho...</td>\n    </tr>\n    <tr>\n      <th>...</th>\n      <td>...</td>\n      <td>...</td>\n    </tr>\n    <tr>\n      <th>65</th>\n      <td>#biotech/biotech_4th_floor/fourth_floor_fume_h...</td>\n      <td>#biotech/biotech_4th_floor/fourth_floor_fume_h...</td>\n    </tr>\n    <tr>\n      <th>66</th>\n      <td>#biotech/biotech_4th_floor/fourth_floor_fume_h...</td>\n      <td>#biotech/biotech_4th_floor/fourth_floor_fume_h...</td>\n    </tr>\n    <tr>\n      <th>67</th>\n      <td>#biotech/biotech_4th_floor/fourth_floor_fume_h...</td>\n      <td>#biotech/biotech_4th_floor/fourth_floor_fume_h...</td>\n    </tr>\n    <tr>\n      <th>68</th>\n      <td>#biotech/biotech_4th_floor/fourth_floor_fume_h...</td>\n      <td>#biotech/biotech_4th_floor/fourth_floor_fume_h...</td>\n    </tr>\n    <tr>\n      <th>69</th>\n      <td>#biotech/biotech_4th_floor/fourth_floor_fume_h...</td>\n      <td>#biotech/biotech_4th_floor/fourth_floor_fume_h...</td>\n    </tr>\n  </tbody>\n</table>\n<p>70 rows × 2 columns</p>\n</div>"
     },
     "execution_count": 47,
     "metadata": {},
     "output_type": "execute_result"
    }
   ],
   "source": [
    "#We want to collect the following:\n",
    "#Air Flow Point, e.g: \"#biotech/biotech_4th_floor/fourth_floor_fume_hood_lab_spaces/lab_433_control/hoodvalve_flow/trend_log\", HOOD FLOW\n",
    "\n",
    "#Sash Opening Point, e.g: \"#biotech/biotech_4th_floor/fourth_floor_fume_hood_lab_spaces/lab_433_control/hood_sash\", HOOD SASH POS\n",
    "\n",
    "#Occupancy Point, e.g: \"#biotech/biotech_4th_floor/fourth_floor_fume_hood_lab_spaces/lab_433_control/occ_trend\", OCC SENSOR\n",
    "\n",
    "#Internal Temperature Point, e.g: \"#biotech/biotech_4th_floor/fourth_floor_fume_hood_lab_spaces/lab_433_control/zone/zone_temp/trend_log\", ZONE TEMP\n",
    "\n",
    "import re\n",
    "\"\"\"\n",
    "The goal of this function is to output an organized collection of point names corresponding to specific fume hoods throughout the Biotechnology building. It is unclear the best path forward at the moment, however, we will try to start small and then expand upwards. There will probably be a lot of edge cases to handle, but we will see. Using regular expressions seems to have helped quite a bit.\n",
    "\"\"\"\n",
    "\n",
    "\n",
    "def csv_parser(df):\n",
    "    #df['name_match'] = df['first_name'].apply(lambda x: 'Match' if x == 'Bill' else 'Mismatch')\n",
    "    #print(True and df[\"Point\"].str.contains(\"_control\"))\n",
    "    hood_flows = np.array(df[df[\"Pointname\"]== \"HOOD FLOW\" ][\"Point\"])\n",
    "    sash_pos = np.array(df[df[\"Pointname\"]== \"HOOD SASH POS\"][\"Point\"])\n",
    "    occ_sens = df[df[\"Pointname\"]== \"OCC SENSOR\"][\"Point\"]\n",
    "    occ_sens = [i for i in occ_sens if re.search(\"lab_[A-Za-z]*[0-9]+[A-Za-z]*_control\",i)]\n",
    "    zone_temps = df[df[\"Pointname\"]== \"ZONE TEMP\"][\"Point\"]\n",
    "    zone_temps = [i for i in zone_temps if re.search(\"lab_[A-Za-z]*[0-9]+[A-Za-z]*_control/zonetemp\",i)]\n",
    "    ##biotech/biotech_4th_floor/fourth_floor_fume_hood_lab_spaces/lab_433_control/zone/zone_temp/trend_log\n",
    "    zone_temps = [i.split(\"/\")[:4] for i in zone_temps]\n",
    "    zone_temps = ['/'.join(i) for i in zone_temps]\n",
    "    zone_temps = [i + \"/zone/zone_temp/trend_log\" for i in zone_temps]\n",
    "\n",
    "    vals= {\"Hood\":hood_flows, \"Sash\":sash_pos}\n",
    "    odf = pd.DataFrame(data = vals)\n",
    "    #display(ndf)\n",
    "    # print(len(hood_flows))\n",
    "    # print(len(sash_pos))\n",
    "    # print(len(occ_sens))\n",
    "    # print(len(zone_temps))\n",
    "\n",
    "    ovals= {\"Occupancy\":occ_sens, \"Internal Temp\":zone_temps}\n",
    "    ndf = pd.DataFrame(data = ovals)\n",
    "\n",
    "    return [ndf,odf]\n",
    "csv_parser(pointnames)[0]\n",
    "\n"
   ],
   "metadata": {
    "collapsed": false
   }
  },
  {
   "cell_type": "code",
   "execution_count": 48,
   "outputs": [
    {
     "data": {
      "text/plain": "                                                 Hood  \\\n0   #biotech/biotech_ground_floor/ground_floor_fum...   \n1   #biotech/biotech_1st_floor/first_floor_fume_ho...   \n2   #biotech/biotech_1st_floor/first_floor_fume_ho...   \n3   #biotech/biotech_1st_floor/first_floor_fume_ho...   \n4   #biotech/biotech_1st_floor/first_floor_fume_ho...   \n..                                                ...   \n61  #biotech/biotech_4th_floor/fourth_floor_fume_h...   \n62  #biotech/biotech_4th_floor/fourth_floor_fume_h...   \n63  #biotech/biotech_4th_floor/fourth_floor_fume_h...   \n64  #biotech/biotech_4th_floor/fourth_floor_fume_h...   \n65  #biotech/biotech_4th_floor/fourth_floor_fume_h...   \n\n                                                 Sash  \n0   #biotech/biotech_ground_floor/ground_floor_fum...  \n1   #biotech/biotech_1st_floor/first_floor_fume_ho...  \n2   #biotech/biotech_1st_floor/first_floor_fume_ho...  \n3   #biotech/biotech_1st_floor/first_floor_fume_ho...  \n4   #biotech/biotech_1st_floor/first_floor_fume_ho...  \n..                                                ...  \n61  #biotech/biotech_4th_floor/fourth_floor_fume_h...  \n62  #biotech/biotech_4th_floor/fourth_floor_fume_h...  \n63  #biotech/biotech_4th_floor/fourth_floor_fume_h...  \n64  #biotech/biotech_4th_floor/fourth_floor_fume_h...  \n65  #biotech/biotech_4th_floor/fourth_floor_fume_h...  \n\n[66 rows x 2 columns]",
      "text/html": "<div>\n<style scoped>\n    .dataframe tbody tr th:only-of-type {\n        vertical-align: middle;\n    }\n\n    .dataframe tbody tr th {\n        vertical-align: top;\n    }\n\n    .dataframe thead th {\n        text-align: right;\n    }\n</style>\n<table border=\"1\" class=\"dataframe\">\n  <thead>\n    <tr style=\"text-align: right;\">\n      <th></th>\n      <th>Hood</th>\n      <th>Sash</th>\n    </tr>\n  </thead>\n  <tbody>\n    <tr>\n      <th>0</th>\n      <td>#biotech/biotech_ground_floor/ground_floor_fum...</td>\n      <td>#biotech/biotech_ground_floor/ground_floor_fum...</td>\n    </tr>\n    <tr>\n      <th>1</th>\n      <td>#biotech/biotech_1st_floor/first_floor_fume_ho...</td>\n      <td>#biotech/biotech_1st_floor/first_floor_fume_ho...</td>\n    </tr>\n    <tr>\n      <th>2</th>\n      <td>#biotech/biotech_1st_floor/first_floor_fume_ho...</td>\n      <td>#biotech/biotech_1st_floor/first_floor_fume_ho...</td>\n    </tr>\n    <tr>\n      <th>3</th>\n      <td>#biotech/biotech_1st_floor/first_floor_fume_ho...</td>\n      <td>#biotech/biotech_1st_floor/first_floor_fume_ho...</td>\n    </tr>\n    <tr>\n      <th>4</th>\n      <td>#biotech/biotech_1st_floor/first_floor_fume_ho...</td>\n      <td>#biotech/biotech_1st_floor/first_floor_fume_ho...</td>\n    </tr>\n    <tr>\n      <th>...</th>\n      <td>...</td>\n      <td>...</td>\n    </tr>\n    <tr>\n      <th>61</th>\n      <td>#biotech/biotech_4th_floor/fourth_floor_fume_h...</td>\n      <td>#biotech/biotech_4th_floor/fourth_floor_fume_h...</td>\n    </tr>\n    <tr>\n      <th>62</th>\n      <td>#biotech/biotech_4th_floor/fourth_floor_fume_h...</td>\n      <td>#biotech/biotech_4th_floor/fourth_floor_fume_h...</td>\n    </tr>\n    <tr>\n      <th>63</th>\n      <td>#biotech/biotech_4th_floor/fourth_floor_fume_h...</td>\n      <td>#biotech/biotech_4th_floor/fourth_floor_fume_h...</td>\n    </tr>\n    <tr>\n      <th>64</th>\n      <td>#biotech/biotech_4th_floor/fourth_floor_fume_h...</td>\n      <td>#biotech/biotech_4th_floor/fourth_floor_fume_h...</td>\n    </tr>\n    <tr>\n      <th>65</th>\n      <td>#biotech/biotech_4th_floor/fourth_floor_fume_h...</td>\n      <td>#biotech/biotech_4th_floor/fourth_floor_fume_h...</td>\n    </tr>\n  </tbody>\n</table>\n<p>66 rows × 2 columns</p>\n</div>"
     },
     "execution_count": 48,
     "metadata": {},
     "output_type": "execute_result"
    }
   ],
   "source": [
    "csv_parser(pointnames)[1]\n"
   ],
   "metadata": {
    "collapsed": false
   }
  },
  {
   "cell_type": "code",
   "execution_count": 49,
   "outputs": [
    {
     "data": {
      "text/plain": "                                            Occupancy  \\\n0   #biotech/biotech_ground_floor/ground_floor_fum...   \n1   #biotech/biotech_1st_floor/first_floor_fume_ho...   \n2   #biotech/biotech_1st_floor/first_floor_fume_ho...   \n3   #biotech/biotech_1st_floor/first_floor_fume_ho...   \n4   #biotech/biotech_1st_floor/first_floor_fume_ho...   \n..                                                ...   \n61  #biotech/biotech_4th_floor/fourth_floor_fume_h...   \n62  #biotech/biotech_4th_floor/fourth_floor_fume_h...   \n63  #biotech/biotech_4th_floor/fourth_floor_fume_h...   \n64  #biotech/biotech_4th_floor/fourth_floor_fume_h...   \n65  #biotech/biotech_4th_floor/fourth_floor_fume_h...   \n\n                                        Internal Temp  \n0   #biotech/biotech_ground_floor/ground_floor_fum...  \n1   #biotech/biotech_1st_floor/first_floor_fume_ho...  \n2   #biotech/biotech_1st_floor/first_floor_fume_ho...  \n3   #biotech/biotech_1st_floor/first_floor_fume_ho...  \n4   #biotech/biotech_1st_floor/first_floor_fume_ho...  \n..                                                ...  \n61  #biotech/biotech_4th_floor/fourth_floor_fume_h...  \n62  #biotech/biotech_4th_floor/fourth_floor_fume_h...  \n63  #biotech/biotech_4th_floor/fourth_floor_fume_h...  \n64  #biotech/biotech_4th_floor/fourth_floor_fume_h...  \n65  #biotech/biotech_4th_floor/fourth_floor_fume_h...  \n\n[66 rows x 2 columns]",
      "text/html": "<div>\n<style scoped>\n    .dataframe tbody tr th:only-of-type {\n        vertical-align: middle;\n    }\n\n    .dataframe tbody tr th {\n        vertical-align: top;\n    }\n\n    .dataframe thead th {\n        text-align: right;\n    }\n</style>\n<table border=\"1\" class=\"dataframe\">\n  <thead>\n    <tr style=\"text-align: right;\">\n      <th></th>\n      <th>Occupancy</th>\n      <th>Internal Temp</th>\n    </tr>\n  </thead>\n  <tbody>\n    <tr>\n      <th>0</th>\n      <td>#biotech/biotech_ground_floor/ground_floor_fum...</td>\n      <td>#biotech/biotech_ground_floor/ground_floor_fum...</td>\n    </tr>\n    <tr>\n      <th>1</th>\n      <td>#biotech/biotech_1st_floor/first_floor_fume_ho...</td>\n      <td>#biotech/biotech_1st_floor/first_floor_fume_ho...</td>\n    </tr>\n    <tr>\n      <th>2</th>\n      <td>#biotech/biotech_1st_floor/first_floor_fume_ho...</td>\n      <td>#biotech/biotech_1st_floor/first_floor_fume_ho...</td>\n    </tr>\n    <tr>\n      <th>3</th>\n      <td>#biotech/biotech_1st_floor/first_floor_fume_ho...</td>\n      <td>#biotech/biotech_1st_floor/first_floor_fume_ho...</td>\n    </tr>\n    <tr>\n      <th>4</th>\n      <td>#biotech/biotech_1st_floor/first_floor_fume_ho...</td>\n      <td>#biotech/biotech_1st_floor/first_floor_fume_ho...</td>\n    </tr>\n    <tr>\n      <th>...</th>\n      <td>...</td>\n      <td>...</td>\n    </tr>\n    <tr>\n      <th>61</th>\n      <td>#biotech/biotech_4th_floor/fourth_floor_fume_h...</td>\n      <td>#biotech/biotech_4th_floor/fourth_floor_fume_h...</td>\n    </tr>\n    <tr>\n      <th>62</th>\n      <td>#biotech/biotech_4th_floor/fourth_floor_fume_h...</td>\n      <td>#biotech/biotech_4th_floor/fourth_floor_fume_h...</td>\n    </tr>\n    <tr>\n      <th>63</th>\n      <td>#biotech/biotech_4th_floor/fourth_floor_fume_h...</td>\n      <td>#biotech/biotech_4th_floor/fourth_floor_fume_h...</td>\n    </tr>\n    <tr>\n      <th>64</th>\n      <td>#biotech/biotech_4th_floor/fourth_floor_fume_h...</td>\n      <td>#biotech/biotech_4th_floor/fourth_floor_fume_h...</td>\n    </tr>\n    <tr>\n      <th>65</th>\n      <td>#biotech/biotech_4th_floor/fourth_floor_fume_h...</td>\n      <td>#biotech/biotech_4th_floor/fourth_floor_fume_h...</td>\n    </tr>\n  </tbody>\n</table>\n<p>66 rows × 2 columns</p>\n</div>"
     },
     "execution_count": 49,
     "metadata": {},
     "output_type": "execute_result"
    }
   ],
   "source": [
    "#Notice how the dataframes are not equal sizes; this is because certain labs are missing hood and sash points\n",
    "#By looking at an excel file I found the following:\n",
    "#Lab 147, Lab 217, Lab 218, Lab 427 are all missing hood and sash points\n",
    "#We will remove these from the dataset\n",
    "\n",
    "dfs = csv_parser(pointnames)\n",
    "occ_temp = dfs[0]\n",
    "hood_sash = dfs[1]\n",
    "\n",
    "occ_temp = occ_temp.drop([3,9,11,58])\n",
    "occ_temp = occ_temp.reset_index()\n",
    "occ_temp = occ_temp.drop([\"index\"],axis=1)\n",
    "occ_temp"
   ],
   "metadata": {
    "collapsed": false
   }
  },
  {
   "cell_type": "code",
   "execution_count": 50,
   "outputs": [
    {
     "data": {
      "text/plain": "                                                 Hood  \\\n0   #biotech/biotech_ground_floor/ground_floor_fum...   \n1   #biotech/biotech_1st_floor/first_floor_fume_ho...   \n2   #biotech/biotech_1st_floor/first_floor_fume_ho...   \n3   #biotech/biotech_1st_floor/first_floor_fume_ho...   \n4   #biotech/biotech_1st_floor/first_floor_fume_ho...   \n..                                                ...   \n61  #biotech/biotech_4th_floor/fourth_floor_fume_h...   \n62  #biotech/biotech_4th_floor/fourth_floor_fume_h...   \n63  #biotech/biotech_4th_floor/fourth_floor_fume_h...   \n64  #biotech/biotech_4th_floor/fourth_floor_fume_h...   \n65  #biotech/biotech_4th_floor/fourth_floor_fume_h...   \n\n                                                 Sash  \\\n0   #biotech/biotech_ground_floor/ground_floor_fum...   \n1   #biotech/biotech_1st_floor/first_floor_fume_ho...   \n2   #biotech/biotech_1st_floor/first_floor_fume_ho...   \n3   #biotech/biotech_1st_floor/first_floor_fume_ho...   \n4   #biotech/biotech_1st_floor/first_floor_fume_ho...   \n..                                                ...   \n61  #biotech/biotech_4th_floor/fourth_floor_fume_h...   \n62  #biotech/biotech_4th_floor/fourth_floor_fume_h...   \n63  #biotech/biotech_4th_floor/fourth_floor_fume_h...   \n64  #biotech/biotech_4th_floor/fourth_floor_fume_h...   \n65  #biotech/biotech_4th_floor/fourth_floor_fume_h...   \n\n                                            Occupancy  \\\n0   #biotech/biotech_ground_floor/ground_floor_fum...   \n1   #biotech/biotech_1st_floor/first_floor_fume_ho...   \n2   #biotech/biotech_1st_floor/first_floor_fume_ho...   \n3   #biotech/biotech_1st_floor/first_floor_fume_ho...   \n4   #biotech/biotech_1st_floor/first_floor_fume_ho...   \n..                                                ...   \n61  #biotech/biotech_4th_floor/fourth_floor_fume_h...   \n62  #biotech/biotech_4th_floor/fourth_floor_fume_h...   \n63  #biotech/biotech_4th_floor/fourth_floor_fume_h...   \n64  #biotech/biotech_4th_floor/fourth_floor_fume_h...   \n65  #biotech/biotech_4th_floor/fourth_floor_fume_h...   \n\n                                        Internal Temp  \n0   #biotech/biotech_ground_floor/ground_floor_fum...  \n1   #biotech/biotech_1st_floor/first_floor_fume_ho...  \n2   #biotech/biotech_1st_floor/first_floor_fume_ho...  \n3   #biotech/biotech_1st_floor/first_floor_fume_ho...  \n4   #biotech/biotech_1st_floor/first_floor_fume_ho...  \n..                                                ...  \n61  #biotech/biotech_4th_floor/fourth_floor_fume_h...  \n62  #biotech/biotech_4th_floor/fourth_floor_fume_h...  \n63  #biotech/biotech_4th_floor/fourth_floor_fume_h...  \n64  #biotech/biotech_4th_floor/fourth_floor_fume_h...  \n65  #biotech/biotech_4th_floor/fourth_floor_fume_h...  \n\n[66 rows x 4 columns]",
      "text/html": "<div>\n<style scoped>\n    .dataframe tbody tr th:only-of-type {\n        vertical-align: middle;\n    }\n\n    .dataframe tbody tr th {\n        vertical-align: top;\n    }\n\n    .dataframe thead th {\n        text-align: right;\n    }\n</style>\n<table border=\"1\" class=\"dataframe\">\n  <thead>\n    <tr style=\"text-align: right;\">\n      <th></th>\n      <th>Hood</th>\n      <th>Sash</th>\n      <th>Occupancy</th>\n      <th>Internal Temp</th>\n    </tr>\n  </thead>\n  <tbody>\n    <tr>\n      <th>0</th>\n      <td>#biotech/biotech_ground_floor/ground_floor_fum...</td>\n      <td>#biotech/biotech_ground_floor/ground_floor_fum...</td>\n      <td>#biotech/biotech_ground_floor/ground_floor_fum...</td>\n      <td>#biotech/biotech_ground_floor/ground_floor_fum...</td>\n    </tr>\n    <tr>\n      <th>1</th>\n      <td>#biotech/biotech_1st_floor/first_floor_fume_ho...</td>\n      <td>#biotech/biotech_1st_floor/first_floor_fume_ho...</td>\n      <td>#biotech/biotech_1st_floor/first_floor_fume_ho...</td>\n      <td>#biotech/biotech_1st_floor/first_floor_fume_ho...</td>\n    </tr>\n    <tr>\n      <th>2</th>\n      <td>#biotech/biotech_1st_floor/first_floor_fume_ho...</td>\n      <td>#biotech/biotech_1st_floor/first_floor_fume_ho...</td>\n      <td>#biotech/biotech_1st_floor/first_floor_fume_ho...</td>\n      <td>#biotech/biotech_1st_floor/first_floor_fume_ho...</td>\n    </tr>\n    <tr>\n      <th>3</th>\n      <td>#biotech/biotech_1st_floor/first_floor_fume_ho...</td>\n      <td>#biotech/biotech_1st_floor/first_floor_fume_ho...</td>\n      <td>#biotech/biotech_1st_floor/first_floor_fume_ho...</td>\n      <td>#biotech/biotech_1st_floor/first_floor_fume_ho...</td>\n    </tr>\n    <tr>\n      <th>4</th>\n      <td>#biotech/biotech_1st_floor/first_floor_fume_ho...</td>\n      <td>#biotech/biotech_1st_floor/first_floor_fume_ho...</td>\n      <td>#biotech/biotech_1st_floor/first_floor_fume_ho...</td>\n      <td>#biotech/biotech_1st_floor/first_floor_fume_ho...</td>\n    </tr>\n    <tr>\n      <th>...</th>\n      <td>...</td>\n      <td>...</td>\n      <td>...</td>\n      <td>...</td>\n    </tr>\n    <tr>\n      <th>61</th>\n      <td>#biotech/biotech_4th_floor/fourth_floor_fume_h...</td>\n      <td>#biotech/biotech_4th_floor/fourth_floor_fume_h...</td>\n      <td>#biotech/biotech_4th_floor/fourth_floor_fume_h...</td>\n      <td>#biotech/biotech_4th_floor/fourth_floor_fume_h...</td>\n    </tr>\n    <tr>\n      <th>62</th>\n      <td>#biotech/biotech_4th_floor/fourth_floor_fume_h...</td>\n      <td>#biotech/biotech_4th_floor/fourth_floor_fume_h...</td>\n      <td>#biotech/biotech_4th_floor/fourth_floor_fume_h...</td>\n      <td>#biotech/biotech_4th_floor/fourth_floor_fume_h...</td>\n    </tr>\n    <tr>\n      <th>63</th>\n      <td>#biotech/biotech_4th_floor/fourth_floor_fume_h...</td>\n      <td>#biotech/biotech_4th_floor/fourth_floor_fume_h...</td>\n      <td>#biotech/biotech_4th_floor/fourth_floor_fume_h...</td>\n      <td>#biotech/biotech_4th_floor/fourth_floor_fume_h...</td>\n    </tr>\n    <tr>\n      <th>64</th>\n      <td>#biotech/biotech_4th_floor/fourth_floor_fume_h...</td>\n      <td>#biotech/biotech_4th_floor/fourth_floor_fume_h...</td>\n      <td>#biotech/biotech_4th_floor/fourth_floor_fume_h...</td>\n      <td>#biotech/biotech_4th_floor/fourth_floor_fume_h...</td>\n    </tr>\n    <tr>\n      <th>65</th>\n      <td>#biotech/biotech_4th_floor/fourth_floor_fume_h...</td>\n      <td>#biotech/biotech_4th_floor/fourth_floor_fume_h...</td>\n      <td>#biotech/biotech_4th_floor/fourth_floor_fume_h...</td>\n      <td>#biotech/biotech_4th_floor/fourth_floor_fume_h...</td>\n    </tr>\n  </tbody>\n</table>\n<p>66 rows × 4 columns</p>\n</div>"
     },
     "metadata": {},
     "output_type": "display_data"
    }
   ],
   "source": [
    "#Now we can just combine the dataframes together and we can begin working on a hierarchical structure\n",
    "\n",
    "combined = hood_sash.join(occ_temp)\n",
    "display(combined)"
   ],
   "metadata": {
    "collapsed": false
   }
  },
  {
   "cell_type": "code",
   "execution_count": 51,
   "outputs": [
    {
     "data": {
      "text/plain": "                                                 Hood  \\\n0   #biotech/biotech_ground_floor/ground_floor_fum...   \n1   #biotech/biotech_1st_floor/first_floor_fume_ho...   \n2   #biotech/biotech_1st_floor/first_floor_fume_ho...   \n3   #biotech/biotech_1st_floor/first_floor_fume_ho...   \n4   #biotech/biotech_1st_floor/first_floor_fume_ho...   \n..                                                ...   \n61  #biotech/biotech_4th_floor/fourth_floor_fume_h...   \n62  #biotech/biotech_4th_floor/fourth_floor_fume_h...   \n63  #biotech/biotech_4th_floor/fourth_floor_fume_h...   \n64  #biotech/biotech_4th_floor/fourth_floor_fume_h...   \n65  #biotech/biotech_4th_floor/fourth_floor_fume_h...   \n\n                                                 Sash  \\\n0   #biotech/biotech_ground_floor/ground_floor_fum...   \n1   #biotech/biotech_1st_floor/first_floor_fume_ho...   \n2   #biotech/biotech_1st_floor/first_floor_fume_ho...   \n3   #biotech/biotech_1st_floor/first_floor_fume_ho...   \n4   #biotech/biotech_1st_floor/first_floor_fume_ho...   \n..                                                ...   \n61  #biotech/biotech_4th_floor/fourth_floor_fume_h...   \n62  #biotech/biotech_4th_floor/fourth_floor_fume_h...   \n63  #biotech/biotech_4th_floor/fourth_floor_fume_h...   \n64  #biotech/biotech_4th_floor/fourth_floor_fume_h...   \n65  #biotech/biotech_4th_floor/fourth_floor_fume_h...   \n\n                                            Occupancy  \\\n0   #biotech/biotech_ground_floor/ground_floor_fum...   \n1   #biotech/biotech_1st_floor/first_floor_fume_ho...   \n2   #biotech/biotech_1st_floor/first_floor_fume_ho...   \n3   #biotech/biotech_1st_floor/first_floor_fume_ho...   \n4   #biotech/biotech_1st_floor/first_floor_fume_ho...   \n..                                                ...   \n61  #biotech/biotech_4th_floor/fourth_floor_fume_h...   \n62  #biotech/biotech_4th_floor/fourth_floor_fume_h...   \n63  #biotech/biotech_4th_floor/fourth_floor_fume_h...   \n64  #biotech/biotech_4th_floor/fourth_floor_fume_h...   \n65  #biotech/biotech_4th_floor/fourth_floor_fume_h...   \n\n                                        Internal Temp   Floor   Lab  \n0   #biotech/biotech_ground_floor/ground_floor_fum...  ground   g54  \n1   #biotech/biotech_1st_floor/first_floor_fume_ho...     1st   141  \n2   #biotech/biotech_1st_floor/first_floor_fume_ho...     1st   143  \n3   #biotech/biotech_1st_floor/first_floor_fume_ho...     1st  147b  \n4   #biotech/biotech_1st_floor/first_floor_fume_ho...     1st   153  \n..                                                ...     ...   ...  \n61  #biotech/biotech_4th_floor/fourth_floor_fume_h...     4th  445b  \n62  #biotech/biotech_4th_floor/fourth_floor_fume_h...     4th   453  \n63  #biotech/biotech_4th_floor/fourth_floor_fume_h...     4th  453b  \n64  #biotech/biotech_4th_floor/fourth_floor_fume_h...     4th   457  \n65  #biotech/biotech_4th_floor/fourth_floor_fume_h...     4th  457b  \n\n[66 rows x 6 columns]",
      "text/html": "<div>\n<style scoped>\n    .dataframe tbody tr th:only-of-type {\n        vertical-align: middle;\n    }\n\n    .dataframe tbody tr th {\n        vertical-align: top;\n    }\n\n    .dataframe thead th {\n        text-align: right;\n    }\n</style>\n<table border=\"1\" class=\"dataframe\">\n  <thead>\n    <tr style=\"text-align: right;\">\n      <th></th>\n      <th>Hood</th>\n      <th>Sash</th>\n      <th>Occupancy</th>\n      <th>Internal Temp</th>\n      <th>Floor</th>\n      <th>Lab</th>\n    </tr>\n  </thead>\n  <tbody>\n    <tr>\n      <th>0</th>\n      <td>#biotech/biotech_ground_floor/ground_floor_fum...</td>\n      <td>#biotech/biotech_ground_floor/ground_floor_fum...</td>\n      <td>#biotech/biotech_ground_floor/ground_floor_fum...</td>\n      <td>#biotech/biotech_ground_floor/ground_floor_fum...</td>\n      <td>ground</td>\n      <td>g54</td>\n    </tr>\n    <tr>\n      <th>1</th>\n      <td>#biotech/biotech_1st_floor/first_floor_fume_ho...</td>\n      <td>#biotech/biotech_1st_floor/first_floor_fume_ho...</td>\n      <td>#biotech/biotech_1st_floor/first_floor_fume_ho...</td>\n      <td>#biotech/biotech_1st_floor/first_floor_fume_ho...</td>\n      <td>1st</td>\n      <td>141</td>\n    </tr>\n    <tr>\n      <th>2</th>\n      <td>#biotech/biotech_1st_floor/first_floor_fume_ho...</td>\n      <td>#biotech/biotech_1st_floor/first_floor_fume_ho...</td>\n      <td>#biotech/biotech_1st_floor/first_floor_fume_ho...</td>\n      <td>#biotech/biotech_1st_floor/first_floor_fume_ho...</td>\n      <td>1st</td>\n      <td>143</td>\n    </tr>\n    <tr>\n      <th>3</th>\n      <td>#biotech/biotech_1st_floor/first_floor_fume_ho...</td>\n      <td>#biotech/biotech_1st_floor/first_floor_fume_ho...</td>\n      <td>#biotech/biotech_1st_floor/first_floor_fume_ho...</td>\n      <td>#biotech/biotech_1st_floor/first_floor_fume_ho...</td>\n      <td>1st</td>\n      <td>147b</td>\n    </tr>\n    <tr>\n      <th>4</th>\n      <td>#biotech/biotech_1st_floor/first_floor_fume_ho...</td>\n      <td>#biotech/biotech_1st_floor/first_floor_fume_ho...</td>\n      <td>#biotech/biotech_1st_floor/first_floor_fume_ho...</td>\n      <td>#biotech/biotech_1st_floor/first_floor_fume_ho...</td>\n      <td>1st</td>\n      <td>153</td>\n    </tr>\n    <tr>\n      <th>...</th>\n      <td>...</td>\n      <td>...</td>\n      <td>...</td>\n      <td>...</td>\n      <td>...</td>\n      <td>...</td>\n    </tr>\n    <tr>\n      <th>61</th>\n      <td>#biotech/biotech_4th_floor/fourth_floor_fume_h...</td>\n      <td>#biotech/biotech_4th_floor/fourth_floor_fume_h...</td>\n      <td>#biotech/biotech_4th_floor/fourth_floor_fume_h...</td>\n      <td>#biotech/biotech_4th_floor/fourth_floor_fume_h...</td>\n      <td>4th</td>\n      <td>445b</td>\n    </tr>\n    <tr>\n      <th>62</th>\n      <td>#biotech/biotech_4th_floor/fourth_floor_fume_h...</td>\n      <td>#biotech/biotech_4th_floor/fourth_floor_fume_h...</td>\n      <td>#biotech/biotech_4th_floor/fourth_floor_fume_h...</td>\n      <td>#biotech/biotech_4th_floor/fourth_floor_fume_h...</td>\n      <td>4th</td>\n      <td>453</td>\n    </tr>\n    <tr>\n      <th>63</th>\n      <td>#biotech/biotech_4th_floor/fourth_floor_fume_h...</td>\n      <td>#biotech/biotech_4th_floor/fourth_floor_fume_h...</td>\n      <td>#biotech/biotech_4th_floor/fourth_floor_fume_h...</td>\n      <td>#biotech/biotech_4th_floor/fourth_floor_fume_h...</td>\n      <td>4th</td>\n      <td>453b</td>\n    </tr>\n    <tr>\n      <th>64</th>\n      <td>#biotech/biotech_4th_floor/fourth_floor_fume_h...</td>\n      <td>#biotech/biotech_4th_floor/fourth_floor_fume_h...</td>\n      <td>#biotech/biotech_4th_floor/fourth_floor_fume_h...</td>\n      <td>#biotech/biotech_4th_floor/fourth_floor_fume_h...</td>\n      <td>4th</td>\n      <td>457</td>\n    </tr>\n    <tr>\n      <th>65</th>\n      <td>#biotech/biotech_4th_floor/fourth_floor_fume_h...</td>\n      <td>#biotech/biotech_4th_floor/fourth_floor_fume_h...</td>\n      <td>#biotech/biotech_4th_floor/fourth_floor_fume_h...</td>\n      <td>#biotech/biotech_4th_floor/fourth_floor_fume_h...</td>\n      <td>4th</td>\n      <td>457b</td>\n    </tr>\n  </tbody>\n</table>\n<p>66 rows × 6 columns</p>\n</div>"
     },
     "execution_count": 51,
     "metadata": {},
     "output_type": "execute_result"
    }
   ],
   "source": [
    "def get_floor(text):\n",
    "    blocks = text.split(\"/\")\n",
    "    floor_block = blocks[1]\n",
    "    floor = floor_block.split(\"_\")[1]\n",
    "    return floor\n",
    "\n",
    "combined['Floor'] = [get_floor(i) for i in combined[\"Hood\"]]\n",
    "#combined\n",
    "\n",
    "def get_lab(text):\n",
    "    blocks = text.split(\"/\")\n",
    "    lab_block = blocks[3]\n",
    "    lab = lab_block.split(\"_\")[1]\n",
    "    return lab\n",
    "\n",
    "combined[\"Lab\"] = [get_lab(i) for i in combined[\"Hood\"]]\n",
    "combined"
   ],
   "metadata": {
    "collapsed": false
   }
  },
  {
   "cell_type": "code",
   "execution_count": 52,
   "outputs": [
    {
     "data": {
      "text/plain": "     Lab   Floor        Server  \\\n0    g54  ground  biotech_main   \n1    141     1st  biotech_main   \n2    143     1st  biotech_main   \n3   147b     1st  biotech_main   \n4    153     1st  biotech_main   \n..   ...     ...           ...   \n61  445b     4th  biotech_main   \n62   453     4th  biotech_main   \n63  453b     4th  biotech_main   \n64   457     4th  biotech_main   \n65  457b     4th  biotech_main   \n\n                                                 Hood  \\\n0   #biotech/biotech_ground_floor/ground_floor_fum...   \n1   #biotech/biotech_1st_floor/first_floor_fume_ho...   \n2   #biotech/biotech_1st_floor/first_floor_fume_ho...   \n3   #biotech/biotech_1st_floor/first_floor_fume_ho...   \n4   #biotech/biotech_1st_floor/first_floor_fume_ho...   \n..                                                ...   \n61  #biotech/biotech_4th_floor/fourth_floor_fume_h...   \n62  #biotech/biotech_4th_floor/fourth_floor_fume_h...   \n63  #biotech/biotech_4th_floor/fourth_floor_fume_h...   \n64  #biotech/biotech_4th_floor/fourth_floor_fume_h...   \n65  #biotech/biotech_4th_floor/fourth_floor_fume_h...   \n\n                                                 Sash  \\\n0   #biotech/biotech_ground_floor/ground_floor_fum...   \n1   #biotech/biotech_1st_floor/first_floor_fume_ho...   \n2   #biotech/biotech_1st_floor/first_floor_fume_ho...   \n3   #biotech/biotech_1st_floor/first_floor_fume_ho...   \n4   #biotech/biotech_1st_floor/first_floor_fume_ho...   \n..                                                ...   \n61  #biotech/biotech_4th_floor/fourth_floor_fume_h...   \n62  #biotech/biotech_4th_floor/fourth_floor_fume_h...   \n63  #biotech/biotech_4th_floor/fourth_floor_fume_h...   \n64  #biotech/biotech_4th_floor/fourth_floor_fume_h...   \n65  #biotech/biotech_4th_floor/fourth_floor_fume_h...   \n\n                                            Occupancy  \\\n0   #biotech/biotech_ground_floor/ground_floor_fum...   \n1   #biotech/biotech_1st_floor/first_floor_fume_ho...   \n2   #biotech/biotech_1st_floor/first_floor_fume_ho...   \n3   #biotech/biotech_1st_floor/first_floor_fume_ho...   \n4   #biotech/biotech_1st_floor/first_floor_fume_ho...   \n..                                                ...   \n61  #biotech/biotech_4th_floor/fourth_floor_fume_h...   \n62  #biotech/biotech_4th_floor/fourth_floor_fume_h...   \n63  #biotech/biotech_4th_floor/fourth_floor_fume_h...   \n64  #biotech/biotech_4th_floor/fourth_floor_fume_h...   \n65  #biotech/biotech_4th_floor/fourth_floor_fume_h...   \n\n                                        Internal Temp  \\\n0   #biotech/biotech_ground_floor/ground_floor_fum...   \n1   #biotech/biotech_1st_floor/first_floor_fume_ho...   \n2   #biotech/biotech_1st_floor/first_floor_fume_ho...   \n3   #biotech/biotech_1st_floor/first_floor_fume_ho...   \n4   #biotech/biotech_1st_floor/first_floor_fume_ho...   \n..                                                ...   \n61  #biotech/biotech_4th_floor/fourth_floor_fume_h...   \n62  #biotech/biotech_4th_floor/fourth_floor_fume_h...   \n63  #biotech/biotech_4th_floor/fourth_floor_fume_h...   \n64  #biotech/biotech_4th_floor/fourth_floor_fume_h...   \n65  #biotech/biotech_4th_floor/fourth_floor_fume_h...   \n\n                                        External Temp  \n0   #biotech/ground_flr_mech/building_hydronic_hea...  \n1   #biotech/ground_flr_mech/building_hydronic_hea...  \n2   #biotech/ground_flr_mech/building_hydronic_hea...  \n3   #biotech/ground_flr_mech/building_hydronic_hea...  \n4   #biotech/ground_flr_mech/building_hydronic_hea...  \n..                                                ...  \n61  #biotech/ground_flr_mech/building_hydronic_hea...  \n62  #biotech/ground_flr_mech/building_hydronic_hea...  \n63  #biotech/ground_flr_mech/building_hydronic_hea...  \n64  #biotech/ground_flr_mech/building_hydronic_hea...  \n65  #biotech/ground_flr_mech/building_hydronic_hea...  \n\n[66 rows x 8 columns]",
      "text/html": "<div>\n<style scoped>\n    .dataframe tbody tr th:only-of-type {\n        vertical-align: middle;\n    }\n\n    .dataframe tbody tr th {\n        vertical-align: top;\n    }\n\n    .dataframe thead th {\n        text-align: right;\n    }\n</style>\n<table border=\"1\" class=\"dataframe\">\n  <thead>\n    <tr style=\"text-align: right;\">\n      <th></th>\n      <th>Lab</th>\n      <th>Floor</th>\n      <th>Server</th>\n      <th>Hood</th>\n      <th>Sash</th>\n      <th>Occupancy</th>\n      <th>Internal Temp</th>\n      <th>External Temp</th>\n    </tr>\n  </thead>\n  <tbody>\n    <tr>\n      <th>0</th>\n      <td>g54</td>\n      <td>ground</td>\n      <td>biotech_main</td>\n      <td>#biotech/biotech_ground_floor/ground_floor_fum...</td>\n      <td>#biotech/biotech_ground_floor/ground_floor_fum...</td>\n      <td>#biotech/biotech_ground_floor/ground_floor_fum...</td>\n      <td>#biotech/biotech_ground_floor/ground_floor_fum...</td>\n      <td>#biotech/ground_flr_mech/building_hydronic_hea...</td>\n    </tr>\n    <tr>\n      <th>1</th>\n      <td>141</td>\n      <td>1st</td>\n      <td>biotech_main</td>\n      <td>#biotech/biotech_1st_floor/first_floor_fume_ho...</td>\n      <td>#biotech/biotech_1st_floor/first_floor_fume_ho...</td>\n      <td>#biotech/biotech_1st_floor/first_floor_fume_ho...</td>\n      <td>#biotech/biotech_1st_floor/first_floor_fume_ho...</td>\n      <td>#biotech/ground_flr_mech/building_hydronic_hea...</td>\n    </tr>\n    <tr>\n      <th>2</th>\n      <td>143</td>\n      <td>1st</td>\n      <td>biotech_main</td>\n      <td>#biotech/biotech_1st_floor/first_floor_fume_ho...</td>\n      <td>#biotech/biotech_1st_floor/first_floor_fume_ho...</td>\n      <td>#biotech/biotech_1st_floor/first_floor_fume_ho...</td>\n      <td>#biotech/biotech_1st_floor/first_floor_fume_ho...</td>\n      <td>#biotech/ground_flr_mech/building_hydronic_hea...</td>\n    </tr>\n    <tr>\n      <th>3</th>\n      <td>147b</td>\n      <td>1st</td>\n      <td>biotech_main</td>\n      <td>#biotech/biotech_1st_floor/first_floor_fume_ho...</td>\n      <td>#biotech/biotech_1st_floor/first_floor_fume_ho...</td>\n      <td>#biotech/biotech_1st_floor/first_floor_fume_ho...</td>\n      <td>#biotech/biotech_1st_floor/first_floor_fume_ho...</td>\n      <td>#biotech/ground_flr_mech/building_hydronic_hea...</td>\n    </tr>\n    <tr>\n      <th>4</th>\n      <td>153</td>\n      <td>1st</td>\n      <td>biotech_main</td>\n      <td>#biotech/biotech_1st_floor/first_floor_fume_ho...</td>\n      <td>#biotech/biotech_1st_floor/first_floor_fume_ho...</td>\n      <td>#biotech/biotech_1st_floor/first_floor_fume_ho...</td>\n      <td>#biotech/biotech_1st_floor/first_floor_fume_ho...</td>\n      <td>#biotech/ground_flr_mech/building_hydronic_hea...</td>\n    </tr>\n    <tr>\n      <th>...</th>\n      <td>...</td>\n      <td>...</td>\n      <td>...</td>\n      <td>...</td>\n      <td>...</td>\n      <td>...</td>\n      <td>...</td>\n      <td>...</td>\n    </tr>\n    <tr>\n      <th>61</th>\n      <td>445b</td>\n      <td>4th</td>\n      <td>biotech_main</td>\n      <td>#biotech/biotech_4th_floor/fourth_floor_fume_h...</td>\n      <td>#biotech/biotech_4th_floor/fourth_floor_fume_h...</td>\n      <td>#biotech/biotech_4th_floor/fourth_floor_fume_h...</td>\n      <td>#biotech/biotech_4th_floor/fourth_floor_fume_h...</td>\n      <td>#biotech/ground_flr_mech/building_hydronic_hea...</td>\n    </tr>\n    <tr>\n      <th>62</th>\n      <td>453</td>\n      <td>4th</td>\n      <td>biotech_main</td>\n      <td>#biotech/biotech_4th_floor/fourth_floor_fume_h...</td>\n      <td>#biotech/biotech_4th_floor/fourth_floor_fume_h...</td>\n      <td>#biotech/biotech_4th_floor/fourth_floor_fume_h...</td>\n      <td>#biotech/biotech_4th_floor/fourth_floor_fume_h...</td>\n      <td>#biotech/ground_flr_mech/building_hydronic_hea...</td>\n    </tr>\n    <tr>\n      <th>63</th>\n      <td>453b</td>\n      <td>4th</td>\n      <td>biotech_main</td>\n      <td>#biotech/biotech_4th_floor/fourth_floor_fume_h...</td>\n      <td>#biotech/biotech_4th_floor/fourth_floor_fume_h...</td>\n      <td>#biotech/biotech_4th_floor/fourth_floor_fume_h...</td>\n      <td>#biotech/biotech_4th_floor/fourth_floor_fume_h...</td>\n      <td>#biotech/ground_flr_mech/building_hydronic_hea...</td>\n    </tr>\n    <tr>\n      <th>64</th>\n      <td>457</td>\n      <td>4th</td>\n      <td>biotech_main</td>\n      <td>#biotech/biotech_4th_floor/fourth_floor_fume_h...</td>\n      <td>#biotech/biotech_4th_floor/fourth_floor_fume_h...</td>\n      <td>#biotech/biotech_4th_floor/fourth_floor_fume_h...</td>\n      <td>#biotech/biotech_4th_floor/fourth_floor_fume_h...</td>\n      <td>#biotech/ground_flr_mech/building_hydronic_hea...</td>\n    </tr>\n    <tr>\n      <th>65</th>\n      <td>457b</td>\n      <td>4th</td>\n      <td>biotech_main</td>\n      <td>#biotech/biotech_4th_floor/fourth_floor_fume_h...</td>\n      <td>#biotech/biotech_4th_floor/fourth_floor_fume_h...</td>\n      <td>#biotech/biotech_4th_floor/fourth_floor_fume_h...</td>\n      <td>#biotech/biotech_4th_floor/fourth_floor_fume_h...</td>\n      <td>#biotech/ground_flr_mech/building_hydronic_hea...</td>\n    </tr>\n  </tbody>\n</table>\n<p>66 rows × 8 columns</p>\n</div>"
     },
     "execution_count": 52,
     "metadata": {},
     "output_type": "execute_result"
    }
   ],
   "source": [
    "#Rearranging the column orders :)\n",
    "\n",
    "\n",
    "combined[\"External Temp\"] = \"#biotech/ground_flr_mech/building_hydronic_heating_syatems/reheat_heat_exchanger/oat\"\n",
    "combined[\"Server\"] = \"biotech_main\"\n",
    "cols = [\"Lab\",\"Floor\",\"Server\", \"Hood\",\"Sash\",\"Occupancy\",\"Internal Temp\", \"External Temp\"]\n",
    "combined = combined[cols]\n",
    "#combined.to_csv('C:\\\\Users\\\\Rob\\\\Documents\\\\GitHub\\\\fume-hood-dashboard\\\\pointnames.csv')\n",
    "combined"
   ],
   "metadata": {
    "collapsed": false
   }
  },
  {
   "cell_type": "code",
   "execution_count": 53,
   "outputs": [
    {
     "name": "stderr",
     "output_type": "stream",
     "text": [
      "<ipython-input-43-1b326c0a8f08>:4: DeprecationWarning:\n",
      "\n",
      "The default dtype for empty Series will be 'object' instead of 'float64' in a future version. Specify a dtype explicitly to silence this warning.\n",
      "\n"
     ]
    },
    {
     "data": {
      "text/plain": "    Labs        Energy\n45   403  9.295059e+06\n13   233  9.003410e+06\n34   327  8.579809e+06\n42  360b  8.477475e+06\n11   227  8.427447e+06\n..   ...           ...\n19   257  6.002709e+06\n2    143  5.391770e+06\n0    g54  3.898575e+06\n41  345b  0.000000e+00\n56  433b  0.000000e+00\n\n[65 rows x 2 columns]",
      "text/html": "<div>\n<style scoped>\n    .dataframe tbody tr th:only-of-type {\n        vertical-align: middle;\n    }\n\n    .dataframe tbody tr th {\n        vertical-align: top;\n    }\n\n    .dataframe thead th {\n        text-align: right;\n    }\n</style>\n<table border=\"1\" class=\"dataframe\">\n  <thead>\n    <tr style=\"text-align: right;\">\n      <th></th>\n      <th>Labs</th>\n      <th>Energy</th>\n    </tr>\n  </thead>\n  <tbody>\n    <tr>\n      <th>45</th>\n      <td>403</td>\n      <td>9.295059e+06</td>\n    </tr>\n    <tr>\n      <th>13</th>\n      <td>233</td>\n      <td>9.003410e+06</td>\n    </tr>\n    <tr>\n      <th>34</th>\n      <td>327</td>\n      <td>8.579809e+06</td>\n    </tr>\n    <tr>\n      <th>42</th>\n      <td>360b</td>\n      <td>8.477475e+06</td>\n    </tr>\n    <tr>\n      <th>11</th>\n      <td>227</td>\n      <td>8.427447e+06</td>\n    </tr>\n    <tr>\n      <th>...</th>\n      <td>...</td>\n      <td>...</td>\n    </tr>\n    <tr>\n      <th>19</th>\n      <td>257</td>\n      <td>6.002709e+06</td>\n    </tr>\n    <tr>\n      <th>2</th>\n      <td>143</td>\n      <td>5.391770e+06</td>\n    </tr>\n    <tr>\n      <th>0</th>\n      <td>g54</td>\n      <td>3.898575e+06</td>\n    </tr>\n    <tr>\n      <th>41</th>\n      <td>345b</td>\n      <td>0.000000e+00</td>\n    </tr>\n    <tr>\n      <th>56</th>\n      <td>433b</td>\n      <td>0.000000e+00</td>\n    </tr>\n  </tbody>\n</table>\n<p>65 rows × 2 columns</p>\n</div>"
     },
     "metadata": {},
     "output_type": "display_data"
    }
   ],
   "source": [
    "def find_greatest_energy_usage(df,startdate,enddate):\n",
    "    energy_list = []\n",
    "    lab_list = []\n",
    "    for i in range(len(df[\"Hood\"])):\n",
    "        if i!= 42:\n",
    "            energy = total_energy(cfm_point=df[\"Hood\"][i],\n",
    "                                 sash_point=df[\"Sash\"][i],\n",
    "                                 occ_point=df[\"Occupancy\"][i],\n",
    "                                 internal_temp_point=df[\"Internal Temp\"][i],\n",
    "                                 external_temp_point=df[\"External Temp\"][i],\n",
    "                                 server = df[\"Server\"][i],\n",
    "                                 start= startdate,\n",
    "                                 end=enddate).sum()\n",
    "            energy_list.append(energy)\n",
    "            lab_list.append(df[\"Lab\"][i])\n",
    "    ndict = {\"Labs\":lab_list, \"Energy\":energy_list}\n",
    "    df = pd.DataFrame(ndict)\n",
    "    return df.sort_values(\"Energy\",ascending=False)\n",
    "\n",
    "ndf = find_greatest_energy_usage(combined,str(datetime(2022, 12,1)),str(datetime(2022, 12, 30)))\n",
    "display(ndf)\n",
    "\n"
   ],
   "metadata": {
    "collapsed": false
   }
  },
  {
   "cell_type": "code",
   "execution_count": 54,
   "outputs": [
    {
     "data": {
      "text/plain": "<Figure size 432x288 with 1 Axes>",
      "image/png": "[encoded data removed]"
     },
     "metadata": {
      "needs_background": "light"
     },
     "output_type": "display_data"
    }
   ],
   "source": [
    "ndf[\"Standardized\"] = ndf[\"Energy\"]/1000000\n",
    "plt.hist(ndf[\"Standardized\"])\n",
    "plt.title(\"Breakdown of Average Energy Usage of fume hoods in Biotech during December 2022\")\n",
    "plt.show()"
   ],
   "metadata": {
    "collapsed": false
   }
  },
  {
   "cell_type": "code",
   "execution_count": 55,
   "outputs": [
    {
     "data": {
      "text/plain": "2022-12-01 06:00:00    4431.19086\n2022-12-01 07:00:00    4538.87469\n2022-12-01 08:00:00    4643.03799\n2022-12-01 09:00:00    4687.11144\n2022-12-01 10:00:00    4738.23378\n                          ...    \n2023-01-01 01:00:00    2546.34948\n2023-01-01 02:00:00    2531.25000\n2023-01-01 03:00:00    2648.57985\n2023-01-01 04:00:00    2737.12500\n2023-01-01 05:00:00    2624.04063\nFreq: 60T, Name: BTU, Length: 744, dtype: float64"
     },
     "execution_count": 55,
     "metadata": {},
     "output_type": "execute_result"
    }
   ],
   "source": [
    "\"\"\"\n",
    "Goal Overall: Average Price/Day for a fume hood.\n",
    "\n",
    "1. We need to calculate an average BTUH/day for each fume hood, over the specified time interval.\n",
    "2. Look up a conversion factor from BTUH to electricity KWH. Average KWH/day\n",
    "3. Multiply by some conversion factor to get an estimate of price.\n",
    "4. If we want total price we can now just multiply by number of days that we specified.\n",
    "\n",
    "Note: Average price is better because now we can extrapolate into the future to esimate how much a fume hood would cost over several years.\n",
    "\"\"\"\n",
    "\n",
    "#Test on One Fume Hood\n",
    "\n",
    "#fumehood = combined.iloc[0].tolist()\n",
    "\n",
    "start = str(datetime(2022, 12,1))\n",
    "end = str(datetime(2022, 12,31))\n",
    "i = 0\n",
    "energy = total_energy(cfm_point=combined[\"Hood\"][i],\n",
    "                      sash_point=combined[\"Sash\"][i],\n",
    "                      occ_point=combined[\"Occupancy\"][i],\n",
    "                      internal_temp_point=combined[\"Internal Temp\"][i],\n",
    "                      external_temp_point=combined[\"External Temp\"][i],\n",
    "                      server = combined[\"Server\"][i],\n",
    "                      start= start,\n",
    "                      end=end)\n",
    "energy\n",
    "\n"
   ],
   "metadata": {
    "collapsed": false
   }
  },
  {
   "cell_type": "code",
   "execution_count": 56,
   "outputs": [
    {
     "data": {
      "application/vnd.plotly.v1+json": {
       "data": [
        {
         "alignmentgroup": "True",
         "hovertemplate": "Labs=%{x}<br>Energy=%{y}<extra></extra>",
         "legendgroup": "",
         "marker": {
          "color": "#636efa",
          "pattern": {
           "shape": ""
          }
         },
         "name": "",
         "offsetgroup": "",
         "orientation": "v",
         "showlegend": false,
         "textposition": "auto",
         "x": [
          "403",
          "233",
          "327",
          "360b",
          "227",
          "418",
          "303",
          "309b",
          "403b",
          "367b",
          "321b",
          "221",
          "441",
          "227b",
          "253b",
          "321",
          "333b",
          "141",
          "417",
          "233b",
          "241",
          "453b",
          "257b",
          "457b",
          "217b",
          "453",
          "267b",
          "409b",
          "318",
          "421b",
          "341",
          "333",
          "327b",
          "445",
          "441b",
          "303b",
          "260",
          "421",
          "417b",
          "409",
          "309",
          "427b",
          "341b",
          "445b",
          "317b",
          "253",
          "147b",
          "155",
          "457",
          "345",
          "153b",
          "267",
          "221b",
          "153",
          "317",
          "260b",
          "367",
          "433",
          "241b",
          "160",
          "257",
          "143",
          "g54",
          "345b",
          "433b"
         ],
         "xaxis": "x",
         "y": [
          9295059.396510001,
          9003410.39421,
          8579809.16622,
          8477474.857020002,
          8427447.11646,
          8335729.692450001,
          8295049.830330001,
          8135968.87296,
          8125693.8809400005,
          8082383.41584,
          8051437.221930001,
          7968553.63929,
          7931320.600950001,
          7872314.984280001,
          7834741.59636,
          7830482.49027,
          7819125.942510001,
          7707239.866800001,
          7679340.27864,
          7669114.87212,
          7659607.965840001,
          7626419.662770001,
          7605956.0876400005,
          7576341.272910001,
          7567544.767140001,
          7548012.88614,
          7520159.988,
          7477103.612610001,
          7461794.099340001,
          7408055.15748,
          7389466.0959600005,
          7387892.876160001,
          7376042.462490001,
          7363789.74639,
          7356207.9800700005,
          7267630.979430001,
          7236281.633490001,
          7197924.97233,
          7194559.22955,
          7182523.8048600005,
          7172186.56137,
          7172166.144780001,
          7149551.629500001,
          7139869.938990001,
          7137346.9447800005,
          7045954.409880001,
          7004518.9155,
          6990804.00738,
          6978936.84588,
          6949921.321260001,
          6884443.889370001,
          6873782.832180001,
          6840023.1497100005,
          6763589.40051,
          6670276.42932,
          6595423.437240001,
          6566241.17844,
          6505150.636770001,
          6503248.1394,
          6406148.84157,
          6002708.5149300005,
          5391770.35815,
          3898574.9514900004,
          0.0,
          0.0
         ],
         "yaxis": "y",
         "type": "bar"
        }
       ],
       "layout": {
        "template": {
         "data": {
          "histogram2dcontour": [
           {
            "type": "histogram2dcontour",
            "colorbar": {
             "outlinewidth": 0,
             "ticks": ""
            },
            "colorscale": [
             [
              0.0,
              "#0d0887"
             ],
             [
              0.1111111111111111,
              "#46039f"
             ],
             [
              0.2222222222222222,
              "#7201a8"
             ],
             [
              0.3333333333333333,
              "#9c179e"
             ],
             [
              0.4444444444444444,
              "#bd3786"
             ],
             [
              0.5555555555555556,
              "#d8576b"
             ],
             [
              0.6666666666666666,
              "#ed7953"
             ],
             [
              0.7777777777777778,
              "#fb9f3a"
             ],
             [
              0.8888888888888888,
              "#fdca26"
             ],
             [
              1.0,
              "#f0f921"
             ]
            ]
           }
          ],
          "choropleth": [
           {
            "type": "choropleth",
            "colorbar": {
             "outlinewidth": 0,
             "ticks": ""
            }
           }
          ],
          "histogram2d": [
           {
            "type": "histogram2d",
            "colorbar": {
             "outlinewidth": 0,
             "ticks": ""
            },
            "colorscale": [
             [
              0.0,
              "#0d0887"
             ],
             [
              0.1111111111111111,
              "#46039f"
             ],
             [
              0.2222222222222222,
              "#7201a8"
             ],
             [
              0.3333333333333333,
              "#9c179e"
             ],
             [
              0.4444444444444444,
              "#bd3786"
             ],
             [
              0.5555555555555556,
              "#d8576b"
             ],
             [
              0.6666666666666666,
              "#ed7953"
             ],
             [
              0.7777777777777778,
              "#fb9f3a"
             ],
             [
              0.8888888888888888,
              "#fdca26"
             ],
             [
              1.0,
              "#f0f921"
             ]
            ]
           }
          ],
          "heatmap": [
           {
            "type": "heatmap",
            "colorbar": {
             "outlinewidth": 0,
             "ticks": ""
            },
            "colorscale": [
             [
              0.0,
              "#0d0887"
             ],
             [
              0.1111111111111111,
              "#46039f"
             ],
             [
              0.2222222222222222,
              "#7201a8"
             ],
             [
              0.3333333333333333,
              "#9c179e"
             ],
             [
              0.4444444444444444,
              "#bd3786"
             ],
             [
              0.5555555555555556,
              "#d8576b"
             ],
             [
              0.6666666666666666,
              "#ed7953"
             ],
             [
              0.7777777777777778,
              "#fb9f3a"
             ],
             [
              0.8888888888888888,
              "#fdca26"
             ],
             [
              1.0,
              "#f0f921"
             ]
            ]
           }
          ],
          "heatmapgl": [
           {
            "type": "heatmapgl",
            "colorbar": {
             "outlinewidth": 0,
             "ticks": ""
            },
            "colorscale": [
             [
              0.0,
              "#0d0887"
             ],
             [
              0.1111111111111111,
              "#46039f"
             ],
             [
              0.2222222222222222,
              "#7201a8"
             ],
             [
              0.3333333333333333,
              "#9c179e"
             ],
             [
              0.4444444444444444,
              "#bd3786"
             ],
             [
              0.5555555555555556,
              "#d8576b"
             ],
             [
              0.6666666666666666,
              "#ed7953"
             ],
             [
              0.7777777777777778,
              "#fb9f3a"
             ],
             [
              0.8888888888888888,
              "#fdca26"
             ],
             [
              1.0,
              "#f0f921"
             ]
            ]
           }
          ],
          "contourcarpet": [
           {
            "type": "contourcarpet",
            "colorbar": {
             "outlinewidth": 0,
             "ticks": ""
            }
           }
          ],
          "contour": [
           {
            "type": "contour",
            "colorbar": {
             "outlinewidth": 0,
             "ticks": ""
            },
            "colorscale": [
             [
              0.0,
              "#0d0887"
             ],
             [
              0.1111111111111111,
              "#46039f"
             ],
             [
              0.2222222222222222,
              "#7201a8"
             ],
             [
              0.3333333333333333,
              "#9c179e"
             ],
             [
              0.4444444444444444,
              "#bd3786"
             ],
             [
              0.5555555555555556,
              "#d8576b"
             ],
             [
              0.6666666666666666,
              "#ed7953"
             ],
             [
              0.7777777777777778,
              "#fb9f3a"
             ],
             [
              0.8888888888888888,
              "#fdca26"
             ],
             [
              1.0,
              "#f0f921"
             ]
            ]
           }
          ],
          "surface": [
           {
            "type": "surface",
            "colorbar": {
             "outlinewidth": 0,
             "ticks": ""
            },
            "colorscale": [
             [
              0.0,
              "#0d0887"
             ],
             [
              0.1111111111111111,
              "#46039f"
             ],
             [
              0.2222222222222222,
              "#7201a8"
             ],
             [
              0.3333333333333333,
              "#9c179e"
             ],
             [
              0.4444444444444444,
              "#bd3786"
             ],
             [
              0.5555555555555556,
              "#d8576b"
             ],
             [
              0.6666666666666666,
              "#ed7953"
             ],
             [
              0.7777777777777778,
              "#fb9f3a"
             ],
             [
              0.8888888888888888,
              "#fdca26"
             ],
             [
              1.0,
              "#f0f921"
             ]
            ]
           }
          ],
          "mesh3d": [
           {
            "type": "mesh3d",
            "colorbar": {
             "outlinewidth": 0,
             "ticks": ""
            }
           }
          ],
          "scatter": [
           {
            "fillpattern": {
             "fillmode": "overlay",
             "size": 10,
             "solidity": 0.2
            },
            "type": "scatter"
           }
          ],
          "parcoords": [
           {
            "type": "parcoords",
            "line": {
             "colorbar": {
              "outlinewidth": 0,
              "ticks": ""
             }
            }
           }
          ],
          "scatterpolargl": [
           {
            "type": "scatterpolargl",
            "marker": {
             "colorbar": {
              "outlinewidth": 0,
              "ticks": ""
             }
            }
           }
          ],
          "bar": [
           {
            "error_x": {
             "color": "#2a3f5f"
            },
            "error_y": {
             "color": "#2a3f5f"
            },
            "marker": {
             "line": {
              "color": "#E5ECF6",
              "width": 0.5
             },
             "pattern": {
              "fillmode": "overlay",
              "size": 10,
              "solidity": 0.2
             }
            },
            "type": "bar"
           }
          ],
          "scattergeo": [
           {
            "type": "scattergeo",
            "marker": {
             "colorbar": {
              "outlinewidth": 0,
              "ticks": ""
             }
            }
           }
          ],
          "scatterpolar": [
           {
            "type": "scatterpolar",
            "marker": {
             "colorbar": {
              "outlinewidth": 0,
              "ticks": ""
             }
            }
           }
          ],
          "histogram": [
           {
            "marker": {
             "pattern": {
              "fillmode": "overlay",
              "size": 10,
              "solidity": 0.2
             }
            },
            "type": "histogram"
           }
          ],
          "scattergl": [
           {
            "type": "scattergl",
            "marker": {
             "colorbar": {
              "outlinewidth": 0,
              "ticks": ""
             }
            }
           }
          ],
          "scatter3d": [
           {
            "type": "scatter3d",
            "line": {
             "colorbar": {
              "outlinewidth": 0,
              "ticks": ""
             }
            },
            "marker": {
             "colorbar": {
              "outlinewidth": 0,
              "ticks": ""
             }
            }
           }
          ],
          "scattermapbox": [
           {
            "type": "scattermapbox",
            "marker": {
             "colorbar": {
              "outlinewidth": 0,
              "ticks": ""
             }
            }
           }
          ],
          "scatterternary": [
           {
            "type": "scatterternary",
            "marker": {
             "colorbar": {
              "outlinewidth": 0,
              "ticks": ""
             }
            }
           }
          ],
          "scattercarpet": [
           {
            "type": "scattercarpet",
            "marker": {
             "colorbar": {
              "outlinewidth": 0,
              "ticks": ""
             }
            }
           }
          ],
          "carpet": [
           {
            "aaxis": {
             "endlinecolor": "#2a3f5f",
             "gridcolor": "white",
             "linecolor": "white",
             "minorgridcolor": "white",
             "startlinecolor": "#2a3f5f"
            },
            "baxis": {
             "endlinecolor": "#2a3f5f",
             "gridcolor": "white",
             "linecolor": "white",
             "minorgridcolor": "white",
             "startlinecolor": "#2a3f5f"
            },
            "type": "carpet"
           }
          ],
          "table": [
           {
            "cells": {
             "fill": {
              "color": "#EBF0F8"
             },
             "line": {
              "color": "white"
             }
            },
            "header": {
             "fill": {
              "color": "#C8D4E3"
             },
             "line": {
              "color": "white"
             }
            },
            "type": "table"
           }
          ],
          "barpolar": [
           {
            "marker": {
             "line": {
              "color": "#E5ECF6",
              "width": 0.5
             },
             "pattern": {
              "fillmode": "overlay",
              "size": 10,
              "solidity": 0.2
             }
            },
            "type": "barpolar"
           }
          ],
          "pie": [
           {
            "automargin": true,
            "type": "pie"
           }
          ]
         },
         "layout": {
          "autotypenumbers": "strict",
          "colorway": [
           "#636efa",
           "#EF553B",
           "#00cc96",
           "#ab63fa",
           "#FFA15A",
           "#19d3f3",
           "#FF6692",
           "#B6E880",
           "#FF97FF",
           "#FECB52"
          ],
          "font": {
           "color": "#2a3f5f"
          },
          "hovermode": "closest",
          "hoverlabel": {
           "align": "left"
          },
          "paper_bgcolor": "white",
          "plot_bgcolor": "#E5ECF6",
          "polar": {
           "bgcolor": "#E5ECF6",
           "angularaxis": {
            "gridcolor": "white",
            "linecolor": "white",
            "ticks": ""
           },
           "radialaxis": {
            "gridcolor": "white",
            "linecolor": "white",
            "ticks": ""
           }
          },
          "ternary": {
           "bgcolor": "#E5ECF6",
           "aaxis": {
            "gridcolor": "white",
            "linecolor": "white",
            "ticks": ""
           },
           "baxis": {
            "gridcolor": "white",
            "linecolor": "white",
            "ticks": ""
           },
           "caxis": {
            "gridcolor": "white",
            "linecolor": "white",
            "ticks": ""
           }
          },
          "coloraxis": {
           "colorbar": {
            "outlinewidth": 0,
            "ticks": ""
           }
          },
          "colorscale": {
           "sequential": [
            [
             0.0,
             "#0d0887"
            ],
            [
             0.1111111111111111,
             "#46039f"
            ],
            [
             0.2222222222222222,
             "#7201a8"
            ],
            [
             0.3333333333333333,
             "#9c179e"
            ],
            [
             0.4444444444444444,
             "#bd3786"
            ],
            [
             0.5555555555555556,
             "#d8576b"
            ],
            [
             0.6666666666666666,
             "#ed7953"
            ],
            [
             0.7777777777777778,
             "#fb9f3a"
            ],
            [
             0.8888888888888888,
             "#fdca26"
            ],
            [
             1.0,
             "#f0f921"
            ]
           ],
           "sequentialminus": [
            [
             0.0,
             "#0d0887"
            ],
            [
             0.1111111111111111,
             "#46039f"
            ],
            [
             0.2222222222222222,
             "#7201a8"
            ],
            [
             0.3333333333333333,
             "#9c179e"
            ],
            [
             0.4444444444444444,
             "#bd3786"
            ],
            [
             0.5555555555555556,
             "#d8576b"
            ],
            [
             0.6666666666666666,
             "#ed7953"
            ],
            [
             0.7777777777777778,
             "#fb9f3a"
            ],
            [
             0.8888888888888888,
             "#fdca26"
            ],
            [
             1.0,
             "#f0f921"
            ]
           ],
           "diverging": [
            [
             0,
             "#8e0152"
            ],
            [
             0.1,
             "#c51b7d"
            ],
            [
             0.2,
             "#de77ae"
            ],
            [
             0.3,
             "#f1b6da"
            ],
            [
             0.4,
             "#fde0ef"
            ],
            [
             0.5,
             "#f7f7f7"
            ],
            [
             0.6,
             "#e6f5d0"
            ],
            [
             0.7,
             "#b8e186"
            ],
            [
             0.8,
             "#7fbc41"
            ],
            [
             0.9,
             "#4d9221"
            ],
            [
             1,
             "#276419"
            ]
           ]
          },
          "xaxis": {
           "gridcolor": "white",
           "linecolor": "white",
           "ticks": "",
           "title": {
            "standoff": 15
           },
           "zerolinecolor": "white",
           "automargin": true,
           "zerolinewidth": 2
          },
          "yaxis": {
           "gridcolor": "white",
           "linecolor": "white",
           "ticks": "",
           "title": {
            "standoff": 15
           },
           "zerolinecolor": "white",
           "automargin": true,
           "zerolinewidth": 2
          },
          "scene": {
           "xaxis": {
            "backgroundcolor": "#E5ECF6",
            "gridcolor": "white",
            "linecolor": "white",
            "showbackground": true,
            "ticks": "",
            "zerolinecolor": "white",
            "gridwidth": 2
           },
           "yaxis": {
            "backgroundcolor": "#E5ECF6",
            "gridcolor": "white",
            "linecolor": "white",
            "showbackground": true,
            "ticks": "",
            "zerolinecolor": "white",
            "gridwidth": 2
           },
           "zaxis": {
            "backgroundcolor": "#E5ECF6",
            "gridcolor": "white",
            "linecolor": "white",
            "showbackground": true,
            "ticks": "",
            "zerolinecolor": "white",
            "gridwidth": 2
           }
          },
          "shapedefaults": {
           "line": {
            "color": "#2a3f5f"
           }
          },
          "annotationdefaults": {
           "arrowcolor": "#2a3f5f",
           "arrowhead": 0,
           "arrowwidth": 1
          },
          "geo": {
           "bgcolor": "white",
           "landcolor": "#E5ECF6",
           "subunitcolor": "white",
           "showland": true,
           "showlakes": true,
           "lakecolor": "white"
          },
          "title": {
           "x": 0.05
          },
          "mapbox": {
           "style": "light"
          }
         }
        },
        "xaxis": {
         "anchor": "y",
         "domain": [
          0.0,
          1.0
         ],
         "title": {
          "text": "Labs"
         }
        },
        "yaxis": {
         "anchor": "x",
         "domain": [
          0.0,
          1.0
         ],
         "title": {
          "text": "Energy"
         }
        },
        "legend": {
         "tracegroupgap": 0
        },
        "title": {
         "text": "Energy Usage Across Labs"
        },
        "barmode": "relative"
       },
       "config": {
        "plotlyServerURL": "https://plot.ly"
       }
      },
      "text/html": "<div>                            <div id=\"17c8629f-ac16-488e-b46e-f63be15a1c5c\" class=\"plotly-graph-div\" style=\"height:525px; width:100%;\"></div>            <script type=\"text/javascript\">                require([\"plotly\"], function(Plotly) {                    window.PLOTLYENV=window.PLOTLYENV || {};                                    if (document.getElementById(\"17c8629f-ac16-488e-b46e-f63be15a1c5c\")) {                    Plotly.newPlot(                        \"17c8629f-ac16-488e-b46e-f63be15a1c5c\",                        [{\"alignmentgroup\":\"True\",\"hovertemplate\":\"Labs=%{x}<br>Energy=%{y}<extra></extra>\",\"legendgroup\":\"\",\"marker\":{\"color\":\"#636efa\",\"pattern\":{\"shape\":\"\"}},\"name\":\"\",\"offsetgroup\":\"\",\"orientation\":\"v\",\"showlegend\":false,\"textposition\":\"auto\",\"x\":[\"403\",\"233\",\"327\",\"360b\",\"227\",\"418\",\"303\",\"309b\",\"403b\",\"367b\",\"321b\",\"221\",\"441\",\"227b\",\"253b\",\"321\",\"333b\",\"141\",\"417\",\"233b\",\"241\",\"453b\",\"257b\",\"457b\",\"217b\",\"453\",\"267b\",\"409b\",\"318\",\"421b\",\"341\",\"333\",\"327b\",\"445\",\"441b\",\"303b\",\"260\",\"421\",\"417b\",\"409\",\"309\",\"427b\",\"341b\",\"445b\",\"317b\",\"253\",\"147b\",\"155\",\"457\",\"345\",\"153b\",\"267\",\"221b\",\"153\",\"317\",\"260b\",\"367\",\"433\",\"241b\",\"160\",\"257\",\"143\",\"g54\",\"345b\",\"433b\"],\"xaxis\":\"x\",\"y\":[9295059.396510001,9003410.39421,8579809.16622,8477474.857020002,8427447.11646,8335729.692450001,8295049.830330001,8135968.87296,8125693.8809400005,8082383.41584,8051437.221930001,7968553.63929,7931320.600950001,7872314.984280001,7834741.59636,7830482.49027,7819125.942510001,7707239.866800001,7679340.27864,7669114.87212,7659607.965840001,7626419.662770001,7605956.0876400005,7576341.272910001,7567544.767140001,7548012.88614,7520159.988,7477103.612610001,7461794.099340001,7408055.15748,7389466.0959600005,7387892.876160001,7376042.462490001,7363789.74639,7356207.9800700005,7267630.979430001,7236281.633490001,7197924.97233,7194559.22955,7182523.8048600005,7172186.56137,7172166.144780001,7149551.629500001,7139869.938990001,7137346.9447800005,7045954.409880001,7004518.9155,6990804.00738,6978936.84588,6949921.321260001,6884443.889370001,6873782.832180001,6840023.1497100005,6763589.40051,6670276.42932,6595423.437240001,6566241.17844,6505150.636770001,6503248.1394,6406148.84157,6002708.5149300005,5391770.35815,3898574.9514900004,0.0,0.0],\"yaxis\":\"y\",\"type\":\"bar\"}],                        {\"template\":{\"data\":{\"histogram2dcontour\":[{\"type\":\"histogram2dcontour\",\"colorbar\":{\"outlinewidth\":0,\"ticks\":\"\"},\"colorscale\":[[0.0,\"#0d0887\"],[0.1111111111111111,\"#46039f\"],[0.2222222222222222,\"#7201a8\"],[0.3333333333333333,\"#9c179e\"],[0.4444444444444444,\"#bd3786\"],[0.5555555555555556,\"#d8576b\"],[0.6666666666666666,\"#ed7953\"],[0.7777777777777778,\"#fb9f3a\"],[0.8888888888888888,\"#fdca26\"],[1.0,\"#f0f921\"]]}],\"choropleth\":[{\"type\":\"choropleth\",\"colorbar\":{\"outlinewidth\":0,\"ticks\":\"\"}}],\"histogram2d\":[{\"type\":\"histogram2d\",\"colorbar\":{\"outlinewidth\":0,\"ticks\":\"\"},\"colorscale\":[[0.0,\"#0d0887\"],[0.1111111111111111,\"#46039f\"],[0.2222222222222222,\"#7201a8\"],[0.3333333333333333,\"#9c179e\"],[0.4444444444444444,\"#bd3786\"],[0.5555555555555556,\"#d8576b\"],[0.6666666666666666,\"#ed7953\"],[0.7777777777777778,\"#fb9f3a\"],[0.8888888888888888,\"#fdca26\"],[1.0,\"#f0f921\"]]}],\"heatmap\":[{\"type\":\"heatmap\",\"colorbar\":{\"outlinewidth\":0,\"ticks\":\"\"},\"colorscale\":[[0.0,\"#0d0887\"],[0.1111111111111111,\"#46039f\"],[0.2222222222222222,\"#7201a8\"],[0.3333333333333333,\"#9c179e\"],[0.4444444444444444,\"#bd3786\"],[0.5555555555555556,\"#d8576b\"],[0.6666666666666666,\"#ed7953\"],[0.7777777777777778,\"#fb9f3a\"],[0.8888888888888888,\"#fdca26\"],[1.0,\"#f0f921\"]]}],\"heatmapgl\":[{\"type\":\"heatmapgl\",\"colorbar\":{\"outlinewidth\":0,\"ticks\":\"\"},\"colorscale\":[[0.0,\"#0d0887\"],[0.1111111111111111,\"#46039f\"],[0.2222222222222222,\"#7201a8\"],[0.3333333333333333,\"#9c179e\"],[0.4444444444444444,\"#bd3786\"],[0.5555555555555556,\"#d8576b\"],[0.6666666666666666,\"#ed7953\"],[0.7777777777777778,\"#fb9f3a\"],[0.8888888888888888,\"#fdca26\"],[1.0,\"#f0f921\"]]}],\"contourcarpet\":[{\"type\":\"contourcarpet\",\"colorbar\":{\"outlinewidth\":0,\"ticks\":\"\"}}],\"contour\":[{\"type\":\"contour\",\"colorbar\":{\"outlinewidth\":0,\"ticks\":\"\"},\"colorscale\":[[0.0,\"#0d0887\"],[0.1111111111111111,\"#46039f\"],[0.2222222222222222,\"#7201a8\"],[0.3333333333333333,\"#9c179e\"],[0.4444444444444444,\"#bd3786\"],[0.5555555555555556,\"#d8576b\"],[0.6666666666666666,\"#ed7953\"],[0.7777777777777778,\"#fb9f3a\"],[0.8888888888888888,\"#fdca26\"],[1.0,\"#f0f921\"]]}],\"surface\":[{\"type\":\"surface\",\"colorbar\":{\"outlinewidth\":0,\"ticks\":\"\"},\"colorscale\":[[0.0,\"#0d0887\"],[0.1111111111111111,\"#46039f\"],[0.2222222222222222,\"#7201a8\"],[0.3333333333333333,\"#9c179e\"],[0.4444444444444444,\"#bd3786\"],[0.5555555555555556,\"#d8576b\"],[0.6666666666666666,\"#ed7953\"],[0.7777777777777778,\"#fb9f3a\"],[0.8888888888888888,\"#fdca26\"],[1.0,\"#f0f921\"]]}],\"mesh3d\":[{\"type\":\"mesh3d\",\"colorbar\":{\"outlinewidth\":0,\"ticks\":\"\"}}],\"scatter\":[{\"fillpattern\":{\"fillmode\":\"overlay\",\"size\":10,\"solidity\":0.2},\"type\":\"scatter\"}],\"parcoords\":[{\"type\":\"parcoords\",\"line\":{\"colorbar\":{\"outlinewidth\":0,\"ticks\":\"\"}}}],\"scatterpolargl\":[{\"type\":\"scatterpolargl\",\"marker\":{\"colorbar\":{\"outlinewidth\":0,\"ticks\":\"\"}}}],\"bar\":[{\"error_x\":{\"color\":\"#2a3f5f\"},\"error_y\":{\"color\":\"#2a3f5f\"},\"marker\":{\"line\":{\"color\":\"#E5ECF6\",\"width\":0.5},\"pattern\":{\"fillmode\":\"overlay\",\"size\":10,\"solidity\":0.2}},\"type\":\"bar\"}],\"scattergeo\":[{\"type\":\"scattergeo\",\"marker\":{\"colorbar\":{\"outlinewidth\":0,\"ticks\":\"\"}}}],\"scatterpolar\":[{\"type\":\"scatterpolar\",\"marker\":{\"colorbar\":{\"outlinewidth\":0,\"ticks\":\"\"}}}],\"histogram\":[{\"marker\":{\"pattern\":{\"fillmode\":\"overlay\",\"size\":10,\"solidity\":0.2}},\"type\":\"histogram\"}],\"scattergl\":[{\"type\":\"scattergl\",\"marker\":{\"colorbar\":{\"outlinewidth\":0,\"ticks\":\"\"}}}],\"scatter3d\":[{\"type\":\"scatter3d\",\"line\":{\"colorbar\":{\"outlinewidth\":0,\"ticks\":\"\"}},\"marker\":{\"colorbar\":{\"outlinewidth\":0,\"ticks\":\"\"}}}],\"scattermapbox\":[{\"type\":\"scattermapbox\",\"marker\":{\"colorbar\":{\"outlinewidth\":0,\"ticks\":\"\"}}}],\"scatterternary\":[{\"type\":\"scatterternary\",\"marker\":{\"colorbar\":{\"outlinewidth\":0,\"ticks\":\"\"}}}],\"scattercarpet\":[{\"type\":\"scattercarpet\",\"marker\":{\"colorbar\":{\"outlinewidth\":0,\"ticks\":\"\"}}}],\"carpet\":[{\"aaxis\":{\"endlinecolor\":\"#2a3f5f\",\"gridcolor\":\"white\",\"linecolor\":\"white\",\"minorgridcolor\":\"white\",\"startlinecolor\":\"#2a3f5f\"},\"baxis\":{\"endlinecolor\":\"#2a3f5f\",\"gridcolor\":\"white\",\"linecolor\":\"white\",\"minorgridcolor\":\"white\",\"startlinecolor\":\"#2a3f5f\"},\"type\":\"carpet\"}],\"table\":[{\"cells\":{\"fill\":{\"color\":\"#EBF0F8\"},\"line\":{\"color\":\"white\"}},\"header\":{\"fill\":{\"color\":\"#C8D4E3\"},\"line\":{\"color\":\"white\"}},\"type\":\"table\"}],\"barpolar\":[{\"marker\":{\"line\":{\"color\":\"#E5ECF6\",\"width\":0.5},\"pattern\":{\"fillmode\":\"overlay\",\"size\":10,\"solidity\":0.2}},\"type\":\"barpolar\"}],\"pie\":[{\"automargin\":true,\"type\":\"pie\"}]},\"layout\":{\"autotypenumbers\":\"strict\",\"colorway\":[\"#636efa\",\"#EF553B\",\"#00cc96\",\"#ab63fa\",\"#FFA15A\",\"#19d3f3\",\"#FF6692\",\"#B6E880\",\"#FF97FF\",\"#FECB52\"],\"font\":{\"color\":\"#2a3f5f\"},\"hovermode\":\"closest\",\"hoverlabel\":{\"align\":\"left\"},\"paper_bgcolor\":\"white\",\"plot_bgcolor\":\"#E5ECF6\",\"polar\":{\"bgcolor\":\"#E5ECF6\",\"angularaxis\":{\"gridcolor\":\"white\",\"linecolor\":\"white\",\"ticks\":\"\"},\"radialaxis\":{\"gridcolor\":\"white\",\"linecolor\":\"white\",\"ticks\":\"\"}},\"ternary\":{\"bgcolor\":\"#E5ECF6\",\"aaxis\":{\"gridcolor\":\"white\",\"linecolor\":\"white\",\"ticks\":\"\"},\"baxis\":{\"gridcolor\":\"white\",\"linecolor\":\"white\",\"ticks\":\"\"},\"caxis\":{\"gridcolor\":\"white\",\"linecolor\":\"white\",\"ticks\":\"\"}},\"coloraxis\":{\"colorbar\":{\"outlinewidth\":0,\"ticks\":\"\"}},\"colorscale\":{\"sequential\":[[0.0,\"#0d0887\"],[0.1111111111111111,\"#46039f\"],[0.2222222222222222,\"#7201a8\"],[0.3333333333333333,\"#9c179e\"],[0.4444444444444444,\"#bd3786\"],[0.5555555555555556,\"#d8576b\"],[0.6666666666666666,\"#ed7953\"],[0.7777777777777778,\"#fb9f3a\"],[0.8888888888888888,\"#fdca26\"],[1.0,\"#f0f921\"]],\"sequentialminus\":[[0.0,\"#0d0887\"],[0.1111111111111111,\"#46039f\"],[0.2222222222222222,\"#7201a8\"],[0.3333333333333333,\"#9c179e\"],[0.4444444444444444,\"#bd3786\"],[0.5555555555555556,\"#d8576b\"],[0.6666666666666666,\"#ed7953\"],[0.7777777777777778,\"#fb9f3a\"],[0.8888888888888888,\"#fdca26\"],[1.0,\"#f0f921\"]],\"diverging\":[[0,\"#8e0152\"],[0.1,\"#c51b7d\"],[0.2,\"#de77ae\"],[0.3,\"#f1b6da\"],[0.4,\"#fde0ef\"],[0.5,\"#f7f7f7\"],[0.6,\"#e6f5d0\"],[0.7,\"#b8e186\"],[0.8,\"#7fbc41\"],[0.9,\"#4d9221\"],[1,\"#276419\"]]},\"xaxis\":{\"gridcolor\":\"white\",\"linecolor\":\"white\",\"ticks\":\"\",\"title\":{\"standoff\":15},\"zerolinecolor\":\"white\",\"automargin\":true,\"zerolinewidth\":2},\"yaxis\":{\"gridcolor\":\"white\",\"linecolor\":\"white\",\"ticks\":\"\",\"title\":{\"standoff\":15},\"zerolinecolor\":\"white\",\"automargin\":true,\"zerolinewidth\":2},\"scene\":{\"xaxis\":{\"backgroundcolor\":\"#E5ECF6\",\"gridcolor\":\"white\",\"linecolor\":\"white\",\"showbackground\":true,\"ticks\":\"\",\"zerolinecolor\":\"white\",\"gridwidth\":2},\"yaxis\":{\"backgroundcolor\":\"#E5ECF6\",\"gridcolor\":\"white\",\"linecolor\":\"white\",\"showbackground\":true,\"ticks\":\"\",\"zerolinecolor\":\"white\",\"gridwidth\":2},\"zaxis\":{\"backgroundcolor\":\"#E5ECF6\",\"gridcolor\":\"white\",\"linecolor\":\"white\",\"showbackground\":true,\"ticks\":\"\",\"zerolinecolor\":\"white\",\"gridwidth\":2}},\"shapedefaults\":{\"line\":{\"color\":\"#2a3f5f\"}},\"annotationdefaults\":{\"arrowcolor\":\"#2a3f5f\",\"arrowhead\":0,\"arrowwidth\":1},\"geo\":{\"bgcolor\":\"white\",\"landcolor\":\"#E5ECF6\",\"subunitcolor\":\"white\",\"showland\":true,\"showlakes\":true,\"lakecolor\":\"white\"},\"title\":{\"x\":0.05},\"mapbox\":{\"style\":\"light\"}}},\"xaxis\":{\"anchor\":\"y\",\"domain\":[0.0,1.0],\"title\":{\"text\":\"Labs\"}},\"yaxis\":{\"anchor\":\"x\",\"domain\":[0.0,1.0],\"title\":{\"text\":\"Energy\"}},\"legend\":{\"tracegroupgap\":0},\"title\":{\"text\":\"Energy Usage Across Labs\"},\"barmode\":\"relative\"},                        {\"responsive\": true}                    ).then(function(){\n                            \nvar gd = document.getElementById('17c8629f-ac16-488e-b46e-f63be15a1c5c');\nvar x = new MutationObserver(function (mutations, observer) {{\n        var display = window.getComputedStyle(gd).display;\n        if (!display || display === 'none') {{\n            console.log([gd, 'removed!']);\n            Plotly.purge(gd);\n            observer.disconnect();\n        }}\n}});\n\n// Listen for the removal of the full notebook cells\nvar notebookContainer = gd.closest('#notebook-container');\nif (notebookContainer) {{\n    x.observe(notebookContainer, {childList: true});\n}}\n\n// Listen for the clearing of the current output cell\nvar outputEl = gd.closest('.output');\nif (outputEl) {{\n    x.observe(outputEl, {childList: true});\n}}\n\n                        })                };                });            </script>        </div>"
     },
     "metadata": {},
     "output_type": "display_data"
    }
   ],
   "source": [
    "#Bar Graph distribution by lab type\n",
    "\n",
    "import plotly.express as px\n",
    "#fig = px.bar(random_x, y = random_y)\n",
    "\n",
    "names = ndf.iloc[0:]\n",
    "names\n",
    "\n",
    "fig = px.bar(names, x = \"Labs\", y = \"Energy\",title=\"Energy Usage Across Labs\")\n",
    "fig.show()"
   ],
   "metadata": {
    "collapsed": false
   }
  },
  {
   "cell_type": "code",
   "execution_count": 69,
   "outputs": [],
   "source": [
    "#fume_query(target,server, start,end)\n",
    "\n",
    "sash_points = combined[\"Sash\"]\n",
    "server = combined[\"Server\"]\n",
    "\n",
    "start = str(datetime(2022, 12,1))\n",
    "end = str(datetime(2022, 12,31))\n",
    "\n",
    "query_list = []\n",
    "for i in range(len(sash_points)):\n",
    "    query = fume_query(sash_points[i],server[i],start,end)\n",
    "    query_list.append(query)\n",
    "\n",
    "\n"
   ],
   "metadata": {
    "collapsed": false
   }
  },
  {
   "cell_type": "code",
   "execution_count": 68,
   "outputs": [
    {
     "data": {
      "text/plain": "    Labs  Average Inches\n47  403b        8.060417\n42   360        6.168750\n3   147b        5.316146\n24  267b        4.543750\n5   153b        4.500000\n..   ...             ...\n15   241        0.900000\n7    160        0.721354\n57  433b        0.000000\n41  345b        0.000000\n48   409       -2.600000\n\n[66 rows x 2 columns]",
      "text/html": "<div>\n<style scoped>\n    .dataframe tbody tr th:only-of-type {\n        vertical-align: middle;\n    }\n\n    .dataframe tbody tr th {\n        vertical-align: top;\n    }\n\n    .dataframe thead th {\n        text-align: right;\n    }\n</style>\n<table border=\"1\" class=\"dataframe\">\n  <thead>\n    <tr style=\"text-align: right;\">\n      <th></th>\n      <th>Labs</th>\n      <th>Average Inches</th>\n    </tr>\n  </thead>\n  <tbody>\n    <tr>\n      <th>47</th>\n      <td>403b</td>\n      <td>8.060417</td>\n    </tr>\n    <tr>\n      <th>42</th>\n      <td>360</td>\n      <td>6.168750</td>\n    </tr>\n    <tr>\n      <th>3</th>\n      <td>147b</td>\n      <td>5.316146</td>\n    </tr>\n    <tr>\n      <th>24</th>\n      <td>267b</td>\n      <td>4.543750</td>\n    </tr>\n    <tr>\n      <th>5</th>\n      <td>153b</td>\n      <td>4.500000</td>\n    </tr>\n    <tr>\n      <th>...</th>\n      <td>...</td>\n      <td>...</td>\n    </tr>\n    <tr>\n      <th>15</th>\n      <td>241</td>\n      <td>0.900000</td>\n    </tr>\n    <tr>\n      <th>7</th>\n      <td>160</td>\n      <td>0.721354</td>\n    </tr>\n    <tr>\n      <th>57</th>\n      <td>433b</td>\n      <td>0.000000</td>\n    </tr>\n    <tr>\n      <th>41</th>\n      <td>345b</td>\n      <td>0.000000</td>\n    </tr>\n    <tr>\n      <th>48</th>\n      <td>409</td>\n      <td>-2.600000</td>\n    </tr>\n  </tbody>\n</table>\n<p>66 rows × 2 columns</p>\n</div>"
     },
     "metadata": {},
     "output_type": "display_data"
    },
    {
     "data": {
      "application/vnd.plotly.v1+json": {
       "data": [
        {
         "alignmentgroup": "True",
         "hovertemplate": "Labs=%{x}<br>Average Inches=%{y}<extra></extra>",
         "legendgroup": "",
         "marker": {
          "color": "#636efa",
          "pattern": {
           "shape": ""
          }
         },
         "name": "",
         "offsetgroup": "",
         "orientation": "v",
         "showlegend": false,
         "textposition": "auto",
         "x": [
          "403b",
          "360",
          "147b",
          "267b",
          "153b",
          "253",
          "453",
          "267",
          "g54",
          "227b",
          "303",
          "143",
          "233",
          "327",
          "153",
          "260",
          "341b",
          "327b",
          "155",
          "227",
          "253b",
          "441",
          "453b",
          "367",
          "341",
          "309",
          "309b",
          "141",
          "260b",
          "321b",
          "233b",
          "403",
          "457b",
          "257",
          "360b",
          "333b",
          "303b",
          "433",
          "445b",
          "221",
          "321",
          "421b",
          "345",
          "427b",
          "241b",
          "367b",
          "441b",
          "417",
          "317",
          "457",
          "257b",
          "445",
          "221b",
          "217b",
          "417b",
          "317b",
          "333",
          "409b",
          "418",
          "421",
          "318",
          "241",
          "160",
          "433b",
          "345b",
          "409"
         ],
         "xaxis": "x",
         "y": [
          8.060416666666665,
          6.168749999999999,
          5.316145833333334,
          4.543749999999999,
          4.5,
          4.364397905759162,
          4.0578125,
          4.029166666666666,
          3.811458333333333,
          3.7999999999999994,
          3.5072916666666667,
          3.310937500000001,
          3.2999999999999994,
          3.109375,
          3.100000000000001,
          3.0,
          2.9890624999999993,
          2.899999999999999,
          2.8000000000000003,
          2.8000000000000003,
          2.6999999999999997,
          2.6692708333333335,
          2.4057291666666667,
          2.3932291666666674,
          2.2895833333333333,
          2.1437500000000003,
          2.1130208333333336,
          1.883333333333333,
          1.8322916666666667,
          1.824607329842932,
          1.8140625000000001,
          1.8000000000000005,
          1.7005208333333328,
          1.6999999999999995,
          1.690575916230367,
          1.6630208333333332,
          1.661111111111111,
          1.5267361111111108,
          1.4802083333333333,
          1.4000000000000001,
          1.3713541666666667,
          1.3651041666666666,
          1.315183246073299,
          1.3093750000000002,
          1.3000000000000003,
          1.1999999999999997,
          1.1999999999999997,
          1.1885416666666666,
          1.1859374999999999,
          1.1026041666666664,
          1.0999999999999999,
          1.0999999999999999,
          1.0999999999999996,
          1.0765625,
          1.0203125,
          0.9937172774869112,
          0.9869791666666666,
          0.9302083333333334,
          0.9031250000000002,
          0.9000000000000002,
          0.9000000000000002,
          0.9000000000000002,
          0.7213541666666665,
          0.0,
          0.0,
          -2.6000000000000005
         ],
         "yaxis": "y",
         "type": "bar"
        }
       ],
       "layout": {
        "template": {
         "data": {
          "histogram2dcontour": [
           {
            "type": "histogram2dcontour",
            "colorbar": {
             "outlinewidth": 0,
             "ticks": ""
            },
            "colorscale": [
             [
              0.0,
              "#0d0887"
             ],
             [
              0.1111111111111111,
              "#46039f"
             ],
             [
              0.2222222222222222,
              "#7201a8"
             ],
             [
              0.3333333333333333,
              "#9c179e"
             ],
             [
              0.4444444444444444,
              "#bd3786"
             ],
             [
              0.5555555555555556,
              "#d8576b"
             ],
             [
              0.6666666666666666,
              "#ed7953"
             ],
             [
              0.7777777777777778,
              "#fb9f3a"
             ],
             [
              0.8888888888888888,
              "#fdca26"
             ],
             [
              1.0,
              "#f0f921"
             ]
            ]
           }
          ],
          "choropleth": [
           {
            "type": "choropleth",
            "colorbar": {
             "outlinewidth": 0,
             "ticks": ""
            }
           }
          ],
          "histogram2d": [
           {
            "type": "histogram2d",
            "colorbar": {
             "outlinewidth": 0,
             "ticks": ""
            },
            "colorscale": [
             [
              0.0,
              "#0d0887"
             ],
             [
              0.1111111111111111,
              "#46039f"
             ],
             [
              0.2222222222222222,
              "#7201a8"
             ],
             [
              0.3333333333333333,
              "#9c179e"
             ],
             [
              0.4444444444444444,
              "#bd3786"
             ],
             [
              0.5555555555555556,
              "#d8576b"
             ],
             [
              0.6666666666666666,
              "#ed7953"
             ],
             [
              0.7777777777777778,
              "#fb9f3a"
             ],
             [
              0.8888888888888888,
              "#fdca26"
             ],
             [
              1.0,
              "#f0f921"
             ]
            ]
           }
          ],
          "heatmap": [
           {
            "type": "heatmap",
            "colorbar": {
             "outlinewidth": 0,
             "ticks": ""
            },
            "colorscale": [
             [
              0.0,
              "#0d0887"
             ],
             [
              0.1111111111111111,
              "#46039f"
             ],
             [
              0.2222222222222222,
              "#7201a8"
             ],
             [
              0.3333333333333333,
              "#9c179e"
             ],
             [
              0.4444444444444444,
              "#bd3786"
             ],
             [
              0.5555555555555556,
              "#d8576b"
             ],
             [
              0.6666666666666666,
              "#ed7953"
             ],
             [
              0.7777777777777778,
              "#fb9f3a"
             ],
             [
              0.8888888888888888,
              "#fdca26"
             ],
             [
              1.0,
              "#f0f921"
             ]
            ]
           }
          ],
          "heatmapgl": [
           {
            "type": "heatmapgl",
            "colorbar": {
             "outlinewidth": 0,
             "ticks": ""
            },
            "colorscale": [
             [
              0.0,
              "#0d0887"
             ],
             [
              0.1111111111111111,
              "#46039f"
             ],
             [
              0.2222222222222222,
              "#7201a8"
             ],
             [
              0.3333333333333333,
              "#9c179e"
             ],
             [
              0.4444444444444444,
              "#bd3786"
             ],
             [
              0.5555555555555556,
              "#d8576b"
             ],
             [
              0.6666666666666666,
              "#ed7953"
             ],
             [
              0.7777777777777778,
              "#fb9f3a"
             ],
             [
              0.8888888888888888,
              "#fdca26"
             ],
             [
              1.0,
              "#f0f921"
             ]
            ]
           }
          ],
          "contourcarpet": [
           {
            "type": "contourcarpet",
            "colorbar": {
             "outlinewidth": 0,
             "ticks": ""
            }
           }
          ],
          "contour": [
           {
            "type": "contour",
            "colorbar": {
             "outlinewidth": 0,
             "ticks": ""
            },
            "colorscale": [
             [
              0.0,
              "#0d0887"
             ],
             [
              0.1111111111111111,
              "#46039f"
             ],
             [
              0.2222222222222222,
              "#7201a8"
             ],
             [
              0.3333333333333333,
              "#9c179e"
             ],
             [
              0.4444444444444444,
              "#bd3786"
             ],
             [
              0.5555555555555556,
              "#d8576b"
             ],
             [
              0.6666666666666666,
              "#ed7953"
             ],
             [
              0.7777777777777778,
              "#fb9f3a"
             ],
             [
              0.8888888888888888,
              "#fdca26"
             ],
             [
              1.0,
              "#f0f921"
             ]
            ]
           }
          ],
          "surface": [
           {
            "type": "surface",
            "colorbar": {
             "outlinewidth": 0,
             "ticks": ""
            },
            "colorscale": [
             [
              0.0,
              "#0d0887"
             ],
             [
              0.1111111111111111,
              "#46039f"
             ],
             [
              0.2222222222222222,
              "#7201a8"
             ],
             [
              0.3333333333333333,
              "#9c179e"
             ],
             [
              0.4444444444444444,
              "#bd3786"
             ],
             [
              0.5555555555555556,
              "#d8576b"
             ],
             [
              0.6666666666666666,
              "#ed7953"
             ],
             [
              0.7777777777777778,
              "#fb9f3a"
             ],
             [
              0.8888888888888888,
              "#fdca26"
             ],
             [
              1.0,
              "#f0f921"
             ]
            ]
           }
          ],
          "mesh3d": [
           {
            "type": "mesh3d",
            "colorbar": {
             "outlinewidth": 0,
             "ticks": ""
            }
           }
          ],
          "scatter": [
           {
            "fillpattern": {
             "fillmode": "overlay",
             "size": 10,
             "solidity": 0.2
            },
            "type": "scatter"
           }
          ],
          "parcoords": [
           {
            "type": "parcoords",
            "line": {
             "colorbar": {
              "outlinewidth": 0,
              "ticks": ""
             }
            }
           }
          ],
          "scatterpolargl": [
           {
            "type": "scatterpolargl",
            "marker": {
             "colorbar": {
              "outlinewidth": 0,
              "ticks": ""
             }
            }
           }
          ],
          "bar": [
           {
            "error_x": {
             "color": "#2a3f5f"
            },
            "error_y": {
             "color": "#2a3f5f"
            },
            "marker": {
             "line": {
              "color": "#E5ECF6",
              "width": 0.5
             },
             "pattern": {
              "fillmode": "overlay",
              "size": 10,
              "solidity": 0.2
             }
            },
            "type": "bar"
           }
          ],
          "scattergeo": [
           {
            "type": "scattergeo",
            "marker": {
             "colorbar": {
              "outlinewidth": 0,
              "ticks": ""
             }
            }
           }
          ],
          "scatterpolar": [
           {
            "type": "scatterpolar",
            "marker": {
             "colorbar": {
              "outlinewidth": 0,
              "ticks": ""
             }
            }
           }
          ],
          "histogram": [
           {
            "marker": {
             "pattern": {
              "fillmode": "overlay",
              "size": 10,
              "solidity": 0.2
             }
            },
            "type": "histogram"
           }
          ],
          "scattergl": [
           {
            "type": "scattergl",
            "marker": {
             "colorbar": {
              "outlinewidth": 0,
              "ticks": ""
             }
            }
           }
          ],
          "scatter3d": [
           {
            "type": "scatter3d",
            "line": {
             "colorbar": {
              "outlinewidth": 0,
              "ticks": ""
             }
            },
            "marker": {
             "colorbar": {
              "outlinewidth": 0,
              "ticks": ""
             }
            }
           }
          ],
          "scattermapbox": [
           {
            "type": "scattermapbox",
            "marker": {
             "colorbar": {
              "outlinewidth": 0,
              "ticks": ""
             }
            }
           }
          ],
          "scatterternary": [
           {
            "type": "scatterternary",
            "marker": {
             "colorbar": {
              "outlinewidth": 0,
              "ticks": ""
             }
            }
           }
          ],
          "scattercarpet": [
           {
            "type": "scattercarpet",
            "marker": {
             "colorbar": {
              "outlinewidth": 0,
              "ticks": ""
             }
            }
           }
          ],
          "carpet": [
           {
            "aaxis": {
             "endlinecolor": "#2a3f5f",
             "gridcolor": "white",
             "linecolor": "white",
             "minorgridcolor": "white",
             "startlinecolor": "#2a3f5f"
            },
            "baxis": {
             "endlinecolor": "#2a3f5f",
             "gridcolor": "white",
             "linecolor": "white",
             "minorgridcolor": "white",
             "startlinecolor": "#2a3f5f"
            },
            "type": "carpet"
           }
          ],
          "table": [
           {
            "cells": {
             "fill": {
              "color": "#EBF0F8"
             },
             "line": {
              "color": "white"
             }
            },
            "header": {
             "fill": {
              "color": "#C8D4E3"
             },
             "line": {
              "color": "white"
             }
            },
            "type": "table"
           }
          ],
          "barpolar": [
           {
            "marker": {
             "line": {
              "color": "#E5ECF6",
              "width": 0.5
             },
             "pattern": {
              "fillmode": "overlay",
              "size": 10,
              "solidity": 0.2
             }
            },
            "type": "barpolar"
           }
          ],
          "pie": [
           {
            "automargin": true,
            "type": "pie"
           }
          ]
         },
         "layout": {
          "autotypenumbers": "strict",
          "colorway": [
           "#636efa",
           "#EF553B",
           "#00cc96",
           "#ab63fa",
           "#FFA15A",
           "#19d3f3",
           "#FF6692",
           "#B6E880",
           "#FF97FF",
           "#FECB52"
          ],
          "font": {
           "color": "#2a3f5f"
          },
          "hovermode": "closest",
          "hoverlabel": {
           "align": "left"
          },
          "paper_bgcolor": "white",
          "plot_bgcolor": "#E5ECF6",
          "polar": {
           "bgcolor": "#E5ECF6",
           "angularaxis": {
            "gridcolor": "white",
            "linecolor": "white",
            "ticks": ""
           },
           "radialaxis": {
            "gridcolor": "white",
            "linecolor": "white",
            "ticks": ""
           }
          },
          "ternary": {
           "bgcolor": "#E5ECF6",
           "aaxis": {
            "gridcolor": "white",
            "linecolor": "white",
            "ticks": ""
           },
           "baxis": {
            "gridcolor": "white",
            "linecolor": "white",
            "ticks": ""
           },
           "caxis": {
            "gridcolor": "white",
            "linecolor": "white",
            "ticks": ""
           }
          },
          "coloraxis": {
           "colorbar": {
            "outlinewidth": 0,
            "ticks": ""
           }
          },
          "colorscale": {
           "sequential": [
            [
             0.0,
             "#0d0887"
            ],
            [
             0.1111111111111111,
             "#46039f"
            ],
            [
             0.2222222222222222,
             "#7201a8"
            ],
            [
             0.3333333333333333,
             "#9c179e"
            ],
            [
             0.4444444444444444,
             "#bd3786"
            ],
            [
             0.5555555555555556,
             "#d8576b"
            ],
            [
             0.6666666666666666,
             "#ed7953"
            ],
            [
             0.7777777777777778,
             "#fb9f3a"
            ],
            [
             0.8888888888888888,
             "#fdca26"
            ],
            [
             1.0,
             "#f0f921"
            ]
           ],
           "sequentialminus": [
            [
             0.0,
             "#0d0887"
            ],
            [
             0.1111111111111111,
             "#46039f"
            ],
            [
             0.2222222222222222,
             "#7201a8"
            ],
            [
             0.3333333333333333,
             "#9c179e"
            ],
            [
             0.4444444444444444,
             "#bd3786"
            ],
            [
             0.5555555555555556,
             "#d8576b"
            ],
            [
             0.6666666666666666,
             "#ed7953"
            ],
            [
             0.7777777777777778,
             "#fb9f3a"
            ],
            [
             0.8888888888888888,
             "#fdca26"
            ],
            [
             1.0,
             "#f0f921"
            ]
           ],
           "diverging": [
            [
             0,
             "#8e0152"
            ],
            [
             0.1,
             "#c51b7d"
            ],
            [
             0.2,
             "#de77ae"
            ],
            [
             0.3,
             "#f1b6da"
            ],
            [
             0.4,
             "#fde0ef"
            ],
            [
             0.5,
             "#f7f7f7"
            ],
            [
             0.6,
             "#e6f5d0"
            ],
            [
             0.7,
             "#b8e186"
            ],
            [
             0.8,
             "#7fbc41"
            ],
            [
             0.9,
             "#4d9221"
            ],
            [
             1,
             "#276419"
            ]
           ]
          },
          "xaxis": {
           "gridcolor": "white",
           "linecolor": "white",
           "ticks": "",
           "title": {
            "standoff": 15
           },
           "zerolinecolor": "white",
           "automargin": true,
           "zerolinewidth": 2
          },
          "yaxis": {
           "gridcolor": "white",
           "linecolor": "white",
           "ticks": "",
           "title": {
            "standoff": 15
           },
           "zerolinecolor": "white",
           "automargin": true,
           "zerolinewidth": 2
          },
          "scene": {
           "xaxis": {
            "backgroundcolor": "#E5ECF6",
            "gridcolor": "white",
            "linecolor": "white",
            "showbackground": true,
            "ticks": "",
            "zerolinecolor": "white",
            "gridwidth": 2
           },
           "yaxis": {
            "backgroundcolor": "#E5ECF6",
            "gridcolor": "white",
            "linecolor": "white",
            "showbackground": true,
            "ticks": "",
            "zerolinecolor": "white",
            "gridwidth": 2
           },
           "zaxis": {
            "backgroundcolor": "#E5ECF6",
            "gridcolor": "white",
            "linecolor": "white",
            "showbackground": true,
            "ticks": "",
            "zerolinecolor": "white",
            "gridwidth": 2
           }
          },
          "shapedefaults": {
           "line": {
            "color": "#2a3f5f"
           }
          },
          "annotationdefaults": {
           "arrowcolor": "#2a3f5f",
           "arrowhead": 0,
           "arrowwidth": 1
          },
          "geo": {
           "bgcolor": "white",
           "landcolor": "#E5ECF6",
           "subunitcolor": "white",
           "showland": true,
           "showlakes": true,
           "lakecolor": "white"
          },
          "title": {
           "x": 0.05
          },
          "mapbox": {
           "style": "light"
          }
         }
        },
        "xaxis": {
         "anchor": "y",
         "domain": [
          0.0,
          1.0
         ],
         "title": {
          "text": "Labs"
         }
        },
        "yaxis": {
         "anchor": "x",
         "domain": [
          0.0,
          1.0
         ],
         "title": {
          "text": "Average Inches"
         }
        },
        "legend": {
         "tracegroupgap": 0
        },
        "margin": {
         "t": 60
        },
        "barmode": "relative"
       },
       "config": {
        "plotlyServerURL": "https://plot.ly"
       }
      },
      "text/html": "<div>                            <div id=\"dbc076c1-dab7-43f0-94b1-52c2413d129e\" class=\"plotly-graph-div\" style=\"height:525px; width:100%;\"></div>            <script type=\"text/javascript\">                require([\"plotly\"], function(Plotly) {                    window.PLOTLYENV=window.PLOTLYENV || {};                                    if (document.getElementById(\"dbc076c1-dab7-43f0-94b1-52c2413d129e\")) {                    Plotly.newPlot(                        \"dbc076c1-dab7-43f0-94b1-52c2413d129e\",                        [{\"alignmentgroup\":\"True\",\"hovertemplate\":\"Labs=%{x}<br>Average Inches=%{y}<extra></extra>\",\"legendgroup\":\"\",\"marker\":{\"color\":\"#636efa\",\"pattern\":{\"shape\":\"\"}},\"name\":\"\",\"offsetgroup\":\"\",\"orientation\":\"v\",\"showlegend\":false,\"textposition\":\"auto\",\"x\":[\"403b\",\"360\",\"147b\",\"267b\",\"153b\",\"253\",\"453\",\"267\",\"g54\",\"227b\",\"303\",\"143\",\"233\",\"327\",\"153\",\"260\",\"341b\",\"327b\",\"155\",\"227\",\"253b\",\"441\",\"453b\",\"367\",\"341\",\"309\",\"309b\",\"141\",\"260b\",\"321b\",\"233b\",\"403\",\"457b\",\"257\",\"360b\",\"333b\",\"303b\",\"433\",\"445b\",\"221\",\"321\",\"421b\",\"345\",\"427b\",\"241b\",\"367b\",\"441b\",\"417\",\"317\",\"457\",\"257b\",\"445\",\"221b\",\"217b\",\"417b\",\"317b\",\"333\",\"409b\",\"418\",\"421\",\"318\",\"241\",\"160\",\"433b\",\"345b\",\"409\"],\"xaxis\":\"x\",\"y\":[8.060416666666665,6.168749999999999,5.316145833333334,4.543749999999999,4.5,4.364397905759162,4.0578125,4.029166666666666,3.811458333333333,3.7999999999999994,3.5072916666666667,3.310937500000001,3.2999999999999994,3.109375,3.100000000000001,3.0,2.9890624999999993,2.899999999999999,2.8000000000000003,2.8000000000000003,2.6999999999999997,2.6692708333333335,2.4057291666666667,2.3932291666666674,2.2895833333333333,2.1437500000000003,2.1130208333333336,1.883333333333333,1.8322916666666667,1.824607329842932,1.8140625000000001,1.8000000000000005,1.7005208333333328,1.6999999999999995,1.690575916230367,1.6630208333333332,1.661111111111111,1.5267361111111108,1.4802083333333333,1.4000000000000001,1.3713541666666667,1.3651041666666666,1.315183246073299,1.3093750000000002,1.3000000000000003,1.1999999999999997,1.1999999999999997,1.1885416666666666,1.1859374999999999,1.1026041666666664,1.0999999999999999,1.0999999999999999,1.0999999999999996,1.0765625,1.0203125,0.9937172774869112,0.9869791666666666,0.9302083333333334,0.9031250000000002,0.9000000000000002,0.9000000000000002,0.9000000000000002,0.7213541666666665,0.0,0.0,-2.6000000000000005],\"yaxis\":\"y\",\"type\":\"bar\"}],                        {\"template\":{\"data\":{\"histogram2dcontour\":[{\"type\":\"histogram2dcontour\",\"colorbar\":{\"outlinewidth\":0,\"ticks\":\"\"},\"colorscale\":[[0.0,\"#0d0887\"],[0.1111111111111111,\"#46039f\"],[0.2222222222222222,\"#7201a8\"],[0.3333333333333333,\"#9c179e\"],[0.4444444444444444,\"#bd3786\"],[0.5555555555555556,\"#d8576b\"],[0.6666666666666666,\"#ed7953\"],[0.7777777777777778,\"#fb9f3a\"],[0.8888888888888888,\"#fdca26\"],[1.0,\"#f0f921\"]]}],\"choropleth\":[{\"type\":\"choropleth\",\"colorbar\":{\"outlinewidth\":0,\"ticks\":\"\"}}],\"histogram2d\":[{\"type\":\"histogram2d\",\"colorbar\":{\"outlinewidth\":0,\"ticks\":\"\"},\"colorscale\":[[0.0,\"#0d0887\"],[0.1111111111111111,\"#46039f\"],[0.2222222222222222,\"#7201a8\"],[0.3333333333333333,\"#9c179e\"],[0.4444444444444444,\"#bd3786\"],[0.5555555555555556,\"#d8576b\"],[0.6666666666666666,\"#ed7953\"],[0.7777777777777778,\"#fb9f3a\"],[0.8888888888888888,\"#fdca26\"],[1.0,\"#f0f921\"]]}],\"heatmap\":[{\"type\":\"heatmap\",\"colorbar\":{\"outlinewidth\":0,\"ticks\":\"\"},\"colorscale\":[[0.0,\"#0d0887\"],[0.1111111111111111,\"#46039f\"],[0.2222222222222222,\"#7201a8\"],[0.3333333333333333,\"#9c179e\"],[0.4444444444444444,\"#bd3786\"],[0.5555555555555556,\"#d8576b\"],[0.6666666666666666,\"#ed7953\"],[0.7777777777777778,\"#fb9f3a\"],[0.8888888888888888,\"#fdca26\"],[1.0,\"#f0f921\"]]}],\"heatmapgl\":[{\"type\":\"heatmapgl\",\"colorbar\":{\"outlinewidth\":0,\"ticks\":\"\"},\"colorscale\":[[0.0,\"#0d0887\"],[0.1111111111111111,\"#46039f\"],[0.2222222222222222,\"#7201a8\"],[0.3333333333333333,\"#9c179e\"],[0.4444444444444444,\"#bd3786\"],[0.5555555555555556,\"#d8576b\"],[0.6666666666666666,\"#ed7953\"],[0.7777777777777778,\"#fb9f3a\"],[0.8888888888888888,\"#fdca26\"],[1.0,\"#f0f921\"]]}],\"contourcarpet\":[{\"type\":\"contourcarpet\",\"colorbar\":{\"outlinewidth\":0,\"ticks\":\"\"}}],\"contour\":[{\"type\":\"contour\",\"colorbar\":{\"outlinewidth\":0,\"ticks\":\"\"},\"colorscale\":[[0.0,\"#0d0887\"],[0.1111111111111111,\"#46039f\"],[0.2222222222222222,\"#7201a8\"],[0.3333333333333333,\"#9c179e\"],[0.4444444444444444,\"#bd3786\"],[0.5555555555555556,\"#d8576b\"],[0.6666666666666666,\"#ed7953\"],[0.7777777777777778,\"#fb9f3a\"],[0.8888888888888888,\"#fdca26\"],[1.0,\"#f0f921\"]]}],\"surface\":[{\"type\":\"surface\",\"colorbar\":{\"outlinewidth\":0,\"ticks\":\"\"},\"colorscale\":[[0.0,\"#0d0887\"],[0.1111111111111111,\"#46039f\"],[0.2222222222222222,\"#7201a8\"],[0.3333333333333333,\"#9c179e\"],[0.4444444444444444,\"#bd3786\"],[0.5555555555555556,\"#d8576b\"],[0.6666666666666666,\"#ed7953\"],[0.7777777777777778,\"#fb9f3a\"],[0.8888888888888888,\"#fdca26\"],[1.0,\"#f0f921\"]]}],\"mesh3d\":[{\"type\":\"mesh3d\",\"colorbar\":{\"outlinewidth\":0,\"ticks\":\"\"}}],\"scatter\":[{\"fillpattern\":{\"fillmode\":\"overlay\",\"size\":10,\"solidity\":0.2},\"type\":\"scatter\"}],\"parcoords\":[{\"type\":\"parcoords\",\"line\":{\"colorbar\":{\"outlinewidth\":0,\"ticks\":\"\"}}}],\"scatterpolargl\":[{\"type\":\"scatterpolargl\",\"marker\":{\"colorbar\":{\"outlinewidth\":0,\"ticks\":\"\"}}}],\"bar\":[{\"error_x\":{\"color\":\"#2a3f5f\"},\"error_y\":{\"color\":\"#2a3f5f\"},\"marker\":{\"line\":{\"color\":\"#E5ECF6\",\"width\":0.5},\"pattern\":{\"fillmode\":\"overlay\",\"size\":10,\"solidity\":0.2}},\"type\":\"bar\"}],\"scattergeo\":[{\"type\":\"scattergeo\",\"marker\":{\"colorbar\":{\"outlinewidth\":0,\"ticks\":\"\"}}}],\"scatterpolar\":[{\"type\":\"scatterpolar\",\"marker\":{\"colorbar\":{\"outlinewidth\":0,\"ticks\":\"\"}}}],\"histogram\":[{\"marker\":{\"pattern\":{\"fillmode\":\"overlay\",\"size\":10,\"solidity\":0.2}},\"type\":\"histogram\"}],\"scattergl\":[{\"type\":\"scattergl\",\"marker\":{\"colorbar\":{\"outlinewidth\":0,\"ticks\":\"\"}}}],\"scatter3d\":[{\"type\":\"scatter3d\",\"line\":{\"colorbar\":{\"outlinewidth\":0,\"ticks\":\"\"}},\"marker\":{\"colorbar\":{\"outlinewidth\":0,\"ticks\":\"\"}}}],\"scattermapbox\":[{\"type\":\"scattermapbox\",\"marker\":{\"colorbar\":{\"outlinewidth\":0,\"ticks\":\"\"}}}],\"scatterternary\":[{\"type\":\"scatterternary\",\"marker\":{\"colorbar\":{\"outlinewidth\":0,\"ticks\":\"\"}}}],\"scattercarpet\":[{\"type\":\"scattercarpet\",\"marker\":{\"colorbar\":{\"outlinewidth\":0,\"ticks\":\"\"}}}],\"carpet\":[{\"aaxis\":{\"endlinecolor\":\"#2a3f5f\",\"gridcolor\":\"white\",\"linecolor\":\"white\",\"minorgridcolor\":\"white\",\"startlinecolor\":\"#2a3f5f\"},\"baxis\":{\"endlinecolor\":\"#2a3f5f\",\"gridcolor\":\"white\",\"linecolor\":\"white\",\"minorgridcolor\":\"white\",\"startlinecolor\":\"#2a3f5f\"},\"type\":\"carpet\"}],\"table\":[{\"cells\":{\"fill\":{\"color\":\"#EBF0F8\"},\"line\":{\"color\":\"white\"}},\"header\":{\"fill\":{\"color\":\"#C8D4E3\"},\"line\":{\"color\":\"white\"}},\"type\":\"table\"}],\"barpolar\":[{\"marker\":{\"line\":{\"color\":\"#E5ECF6\",\"width\":0.5},\"pattern\":{\"fillmode\":\"overlay\",\"size\":10,\"solidity\":0.2}},\"type\":\"barpolar\"}],\"pie\":[{\"automargin\":true,\"type\":\"pie\"}]},\"layout\":{\"autotypenumbers\":\"strict\",\"colorway\":[\"#636efa\",\"#EF553B\",\"#00cc96\",\"#ab63fa\",\"#FFA15A\",\"#19d3f3\",\"#FF6692\",\"#B6E880\",\"#FF97FF\",\"#FECB52\"],\"font\":{\"color\":\"#2a3f5f\"},\"hovermode\":\"closest\",\"hoverlabel\":{\"align\":\"left\"},\"paper_bgcolor\":\"white\",\"plot_bgcolor\":\"#E5ECF6\",\"polar\":{\"bgcolor\":\"#E5ECF6\",\"angularaxis\":{\"gridcolor\":\"white\",\"linecolor\":\"white\",\"ticks\":\"\"},\"radialaxis\":{\"gridcolor\":\"white\",\"linecolor\":\"white\",\"ticks\":\"\"}},\"ternary\":{\"bgcolor\":\"#E5ECF6\",\"aaxis\":{\"gridcolor\":\"white\",\"linecolor\":\"white\",\"ticks\":\"\"},\"baxis\":{\"gridcolor\":\"white\",\"linecolor\":\"white\",\"ticks\":\"\"},\"caxis\":{\"gridcolor\":\"white\",\"linecolor\":\"white\",\"ticks\":\"\"}},\"coloraxis\":{\"colorbar\":{\"outlinewidth\":0,\"ticks\":\"\"}},\"colorscale\":{\"sequential\":[[0.0,\"#0d0887\"],[0.1111111111111111,\"#46039f\"],[0.2222222222222222,\"#7201a8\"],[0.3333333333333333,\"#9c179e\"],[0.4444444444444444,\"#bd3786\"],[0.5555555555555556,\"#d8576b\"],[0.6666666666666666,\"#ed7953\"],[0.7777777777777778,\"#fb9f3a\"],[0.8888888888888888,\"#fdca26\"],[1.0,\"#f0f921\"]],\"sequentialminus\":[[0.0,\"#0d0887\"],[0.1111111111111111,\"#46039f\"],[0.2222222222222222,\"#7201a8\"],[0.3333333333333333,\"#9c179e\"],[0.4444444444444444,\"#bd3786\"],[0.5555555555555556,\"#d8576b\"],[0.6666666666666666,\"#ed7953\"],[0.7777777777777778,\"#fb9f3a\"],[0.8888888888888888,\"#fdca26\"],[1.0,\"#f0f921\"]],\"diverging\":[[0,\"#8e0152\"],[0.1,\"#c51b7d\"],[0.2,\"#de77ae\"],[0.3,\"#f1b6da\"],[0.4,\"#fde0ef\"],[0.5,\"#f7f7f7\"],[0.6,\"#e6f5d0\"],[0.7,\"#b8e186\"],[0.8,\"#7fbc41\"],[0.9,\"#4d9221\"],[1,\"#276419\"]]},\"xaxis\":{\"gridcolor\":\"white\",\"linecolor\":\"white\",\"ticks\":\"\",\"title\":{\"standoff\":15},\"zerolinecolor\":\"white\",\"automargin\":true,\"zerolinewidth\":2},\"yaxis\":{\"gridcolor\":\"white\",\"linecolor\":\"white\",\"ticks\":\"\",\"title\":{\"standoff\":15},\"zerolinecolor\":\"white\",\"automargin\":true,\"zerolinewidth\":2},\"scene\":{\"xaxis\":{\"backgroundcolor\":\"#E5ECF6\",\"gridcolor\":\"white\",\"linecolor\":\"white\",\"showbackground\":true,\"ticks\":\"\",\"zerolinecolor\":\"white\",\"gridwidth\":2},\"yaxis\":{\"backgroundcolor\":\"#E5ECF6\",\"gridcolor\":\"white\",\"linecolor\":\"white\",\"showbackground\":true,\"ticks\":\"\",\"zerolinecolor\":\"white\",\"gridwidth\":2},\"zaxis\":{\"backgroundcolor\":\"#E5ECF6\",\"gridcolor\":\"white\",\"linecolor\":\"white\",\"showbackground\":true,\"ticks\":\"\",\"zerolinecolor\":\"white\",\"gridwidth\":2}},\"shapedefaults\":{\"line\":{\"color\":\"#2a3f5f\"}},\"annotationdefaults\":{\"arrowcolor\":\"#2a3f5f\",\"arrowhead\":0,\"arrowwidth\":1},\"geo\":{\"bgcolor\":\"white\",\"landcolor\":\"#E5ECF6\",\"subunitcolor\":\"white\",\"showland\":true,\"showlakes\":true,\"lakecolor\":\"white\"},\"title\":{\"x\":0.05},\"mapbox\":{\"style\":\"light\"}}},\"xaxis\":{\"anchor\":\"y\",\"domain\":[0.0,1.0],\"title\":{\"text\":\"Labs\"}},\"yaxis\":{\"anchor\":\"x\",\"domain\":[0.0,1.0],\"title\":{\"text\":\"Average Inches\"}},\"legend\":{\"tracegroupgap\":0},\"margin\":{\"t\":60},\"barmode\":\"relative\"},                        {\"responsive\": true}                    ).then(function(){\n                            \nvar gd = document.getElementById('dbc076c1-dab7-43f0-94b1-52c2413d129e');\nvar x = new MutationObserver(function (mutations, observer) {{\n        var display = window.getComputedStyle(gd).display;\n        if (!display || display === 'none') {{\n            console.log([gd, 'removed!']);\n            Plotly.purge(gd);\n            observer.disconnect();\n        }}\n}});\n\n// Listen for the removal of the full notebook cells\nvar notebookContainer = gd.closest('#notebook-container');\nif (notebookContainer) {{\n    x.observe(notebookContainer, {childList: true});\n}}\n\n// Listen for the clearing of the current output cell\nvar outputEl = gd.closest('.output');\nif (outputEl) {{\n    x.observe(outputEl, {childList: true});\n}}\n\n                        })                };                });            </script>        </div>"
     },
     "metadata": {},
     "output_type": "display_data"
    }
   ],
   "source": [
    "array_list = [i for i in query_list]\n",
    "average_list = [np.mean(array_list[i][\"value\"]) for i in range(len(array_list))]\n",
    "average_list\n",
    "\n",
    "labs = combined[\"Lab\"]\n",
    "data = {\"Labs\":labs, \"Average Inches\":average_list}\n",
    "inchesdf = pd.DataFrame(data)\n",
    "inchesdf = inchesdf.sort_values(by = \"Average Inches\", ascending =False)\n",
    "\n",
    "display(inchesdf)\n",
    "\n",
    "fig = px.bar(inchesdf, x = \"Labs\", y = \"Average Inches\")\n",
    "fig.show()\n"
   ],
   "metadata": {
    "collapsed": false
   }
  },
  {
   "cell_type": "code",
   "execution_count": 69,
   "outputs": [],
   "source": [],
   "metadata": {
    "collapsed": false
   }
  },
  {
   "cell_type": "code",
   "execution_count": null,
   "outputs": [],
   "source": [],
   "metadata": {
    "collapsed": false
   }
  }
 ],
 "metadata": {
  "kernelspec": {
   "display_name": "Python 3",
   "language": "python",
   "name": "python3"
  },
  "language_info": {
   "codemirror_mode": {
    "name": "ipython",
    "version": 2
   },
   "file_extension": ".py",
   "mimetype": "text/x-python",
   "name": "python",
   "nbconvert_exporter": "python",
   "pygments_lexer": "ipython2",
   "version": "2.7.6"
  }
 },
 "nbformat": 4,
 "nbformat_minor": 0
}
