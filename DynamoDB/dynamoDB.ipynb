{
 "cells": [
  {
   "cell_type": "code",
   "execution_count": 1,
   "metadata": {},
   "outputs": [],
   "source": [
    "import boto3\n",
    "import os\n",
    "from dotenv import load_dotenv"
   ]
  },
  {
   "cell_type": "code",
   "execution_count": 2,
   "metadata": {},
   "outputs": [
    {
     "data": {
      "text/plain": [
       "True"
      ]
     },
     "execution_count": 2,
     "metadata": {},
     "output_type": "execute_result"
    }
   ],
   "source": [
    "# Load the environment variables from the .env file\n",
    "load_dotenv()"
   ]
  },
  {
   "cell_type": "code",
   "execution_count": 18,
   "metadata": {},
   "outputs": [
    {
     "name": "stdout",
     "output_type": "stream",
     "text": [
      "None\n",
      "None\n",
      "get_item response:\n"
     ]
    },
    {
     "data": {
      "text/plain": [
       "{'id': {'S': 'hoods'},\n",
       " 'map': {'M': {'Biotech.Floor_3.Lab_317.Hood_1': {'M': {'flow_sensor': {'S': '#path_to_this_sensor'},\n",
       "     'floor': {'S': '3'},\n",
       "     'lab': {'S': '317'},\n",
       "     'hood': {'S': '1'},\n",
       "     'building': {'S': 'Biotech'}}},\n",
       "   'Biotech.Floor_4.Lab_433.Hood_1': {'M': {'flow_sensor': {'S': '#path_to_this_sensor'},\n",
       "     'floor': {'S': '4'},\n",
       "     'lab': {'S': '433'},\n",
       "     'hood': {'S': '1'},\n",
       "     'building': {'S': 'Biotech'}}}}}}"
      ]
     },
     "metadata": {},
     "output_type": "display_data"
    },
    {
     "ename": "ClientError",
     "evalue": "An error occurred (ValidationException) when calling the GetItem operation: The provided key element does not match the schema",
     "output_type": "error",
     "traceback": [
      "\u001b[0;31m---------------------------------------------------------------------------\u001b[0m",
      "\u001b[0;31mClientError\u001b[0m                               Traceback (most recent call last)",
      "\u001b[1;32m/Users/reidfleishman/Documents/GitHub/fume-hood-dashboard/DynamoDB/dynamoDB.ipynb Cell 3\u001b[0m line \u001b[0;36m6\n\u001b[1;32m     <a href='vscode-notebook-cell:/Users/reidfleishman/Documents/GitHub/fume-hood-dashboard/DynamoDB/dynamoDB.ipynb#W2sZmlsZQ%3D%3D?line=57'>58</a>\u001b[0m display(response[\u001b[39m\"\u001b[39m\u001b[39mItem\u001b[39m\u001b[39m\"\u001b[39m])\n\u001b[1;32m     <a href='vscode-notebook-cell:/Users/reidfleishman/Documents/GitHub/fume-hood-dashboard/DynamoDB/dynamoDB.ipynb#W2sZmlsZQ%3D%3D?line=59'>60</a>\u001b[0m \u001b[39m# Print what was just added\u001b[39;00m\n\u001b[0;32m---> <a href='vscode-notebook-cell:/Users/reidfleishman/Documents/GitHub/fume-hood-dashboard/DynamoDB/dynamoDB.ipynb#W2sZmlsZQ%3D%3D?line=60'>61</a>\u001b[0m response \u001b[39m=\u001b[39m dynamodb_client\u001b[39m.\u001b[39mget_item(\n\u001b[1;32m     <a href='vscode-notebook-cell:/Users/reidfleishman/Documents/GitHub/fume-hood-dashboard/DynamoDB/dynamoDB.ipynb#W2sZmlsZQ%3D%3D?line=61'>62</a>\u001b[0m     TableName\u001b[39m=\u001b[39mTABLE_NAME, Key\u001b[39m=\u001b[39m{\u001b[39m\"\u001b[39m\u001b[39mmap\u001b[39m\u001b[39m\"\u001b[39m: {\u001b[39m\"\u001b[39m\u001b[39mS\u001b[39m\u001b[39m\"\u001b[39m: \u001b[39m\"\u001b[39m\u001b[39mBiotech.Floor_4.Lab_433.Hood_1\u001b[39m\u001b[39m\"\u001b[39m}}\n\u001b[1;32m     <a href='vscode-notebook-cell:/Users/reidfleishman/Documents/GitHub/fume-hood-dashboard/DynamoDB/dynamoDB.ipynb#W2sZmlsZQ%3D%3D?line=62'>63</a>\u001b[0m )\n\u001b[1;32m     <a href='vscode-notebook-cell:/Users/reidfleishman/Documents/GitHub/fume-hood-dashboard/DynamoDB/dynamoDB.ipynb#W2sZmlsZQ%3D%3D?line=63'>64</a>\u001b[0m \u001b[39mprint\u001b[39m(\u001b[39m\"\u001b[39m\u001b[39mget_item response:\u001b[39m\u001b[39m\"\u001b[39m)\n\u001b[1;32m     <a href='vscode-notebook-cell:/Users/reidfleishman/Documents/GitHub/fume-hood-dashboard/DynamoDB/dynamoDB.ipynb#W2sZmlsZQ%3D%3D?line=64'>65</a>\u001b[0m display(response[\u001b[39m\"\u001b[39m\u001b[39mItem\u001b[39m\u001b[39m\"\u001b[39m])\n",
      "File \u001b[0;32m~/anaconda3/lib/python3.11/site-packages/botocore/client.py:530\u001b[0m, in \u001b[0;36mClientCreator._create_api_method.<locals>._api_call\u001b[0;34m(self, *args, **kwargs)\u001b[0m\n\u001b[1;32m    526\u001b[0m     \u001b[39mraise\u001b[39;00m \u001b[39mTypeError\u001b[39;00m(\n\u001b[1;32m    527\u001b[0m         \u001b[39mf\u001b[39m\u001b[39m\"\u001b[39m\u001b[39m{\u001b[39;00mpy_operation_name\u001b[39m}\u001b[39;00m\u001b[39m() only accepts keyword arguments.\u001b[39m\u001b[39m\"\u001b[39m\n\u001b[1;32m    528\u001b[0m     )\n\u001b[1;32m    529\u001b[0m \u001b[39m# The \"self\" in this scope is referring to the BaseClient.\u001b[39;00m\n\u001b[0;32m--> 530\u001b[0m \u001b[39mreturn\u001b[39;00m \u001b[39mself\u001b[39m\u001b[39m.\u001b[39m_make_api_call(operation_name, kwargs)\n",
      "File \u001b[0;32m~/anaconda3/lib/python3.11/site-packages/botocore/client.py:960\u001b[0m, in \u001b[0;36mBaseClient._make_api_call\u001b[0;34m(self, operation_name, api_params)\u001b[0m\n\u001b[1;32m    958\u001b[0m     error_code \u001b[39m=\u001b[39m parsed_response\u001b[39m.\u001b[39mget(\u001b[39m\"\u001b[39m\u001b[39mError\u001b[39m\u001b[39m\"\u001b[39m, {})\u001b[39m.\u001b[39mget(\u001b[39m\"\u001b[39m\u001b[39mCode\u001b[39m\u001b[39m\"\u001b[39m)\n\u001b[1;32m    959\u001b[0m     error_class \u001b[39m=\u001b[39m \u001b[39mself\u001b[39m\u001b[39m.\u001b[39mexceptions\u001b[39m.\u001b[39mfrom_code(error_code)\n\u001b[0;32m--> 960\u001b[0m     \u001b[39mraise\u001b[39;00m error_class(parsed_response, operation_name)\n\u001b[1;32m    961\u001b[0m \u001b[39melse\u001b[39;00m:\n\u001b[1;32m    962\u001b[0m     \u001b[39mreturn\u001b[39;00m parsed_response\n",
      "\u001b[0;31mClientError\u001b[0m: An error occurred (ValidationException) when calling the GetItem operation: The provided key element does not match the schema"
     ]
    }
   ],
   "source": [
    "# Creating the DynamoDB Client\n",
    "# make sure to set the AWS_ACCESS_KEY_ID and\n",
    "# AWS_SECRET_ACCESS_KEY environment variables\n",
    "# OR pass credentials when creating the client:\n",
    "dynamodb_client = boto3.client('dynamodb', region_name=\"us-east-1\")\n",
    "\n",
    "TABLE_NAME = \"fumehoods\"\n",
    "\n",
    "dyn_resource = boto3.resource(\"dynamodb\", region_name=\"us-east-1\")\n",
    "TABLE_NAME = \"fumehoods\"\n",
    "table = dyn_resource.Table(TABLE_NAME)\n",
    "\n",
    "hoods = {\n",
    "    \"id\": \"hoods\",\n",
    "    \"map\": {\n",
    "        \"Biotech.Floor_3.Lab_317.Hood_1\": {\n",
    "            \"building\": \"Biotech\",\n",
    "            \"floor\": \"3\",\n",
    "            \"lab\": \"317\",\n",
    "            \"hood\": \"1\",\n",
    "            \"flow_sensor\": \"#path_to_this_sensor\",\n",
    "        },\n",
    "        \"Biotech.Floor_4.Lab_433.Hood_1\": {\n",
    "            \"building\": \"Biotech\",\n",
    "            \"floor\": \"4\",\n",
    "            \"lab\": \"433\",\n",
    "            \"hood\": \"1\",\n",
    "            \"flow_sensor\": \"#path_to_this_sensor\",\n",
    "        },\n",
    "    },\n",
    "}\n",
    "\n",
    "buildings = {\n",
    "    \"id\": \"buildings\",\n",
    "    \"map\": {\n",
    "        \"Biotech\": {\"external_temp_sensor\": \"#path_to...\"},\n",
    "        \"Weill\": {\"external_temp_sensor\": \"#path_to...\"},\n",
    "    },\n",
    "}\n",
    "\n",
    "# Put the above data into the table\n",
    "with table.batch_writer() as writer:\n",
    "    response = writer.put_item(Item=hoods)\n",
    "    print(response)\n",
    "    response = writer.put_item(Item=buildings)\n",
    "    print(response)\n",
    "\n",
    "# # Put the above data into the table\n",
    "# response = dynamodb_client.put_item(TableName=TABLE_NAME, Item=hoods)\n",
    "# print(\"put_item response:\")\n",
    "# display(response)\n",
    "\n",
    "# Print what was just added\n",
    "response = dynamodb_client.get_item(\n",
    "    TableName=TABLE_NAME, Key={\"id\": {\"S\": \"hoods\"}}\n",
    ")\n",
    "print(\"get_item response:\")\n",
    "display(response[\"Item\"])"
   ]
  },
  {
   "cell_type": "code",
   "execution_count": 4,
   "metadata": {},
   "outputs": [
    {
     "name": "stdout",
     "output_type": "stream",
     "text": [
      "[{'AttributeName': 'id', 'KeyType': 'HASH'}]\n"
     ]
    }
   ],
   "source": [
    "dynamodb = boto3.resource('dynamodb', region_name=\"us-east-1\")\n",
    "\n",
    "table = dynamodb.Table('fumehoods')\n",
    "\n",
    "print(table.key_schema)"
   ]
  },
  {
   "cell_type": "code",
   "execution_count": 5,
   "metadata": {},
   "outputs": [
    {
     "data": {
      "text/plain": [
       "[{'id': 'Biotech.Floor_4.Lab_433.Hood_1'},\n",
       " {'id': 'BiotechnologyBuilding/lab_433/hood'},\n",
       " {'id': 'buildings'},\n",
       " {'id': 'cat'},\n",
       " {'id': 'Biotech.Floor_3.Lab_317.Hood_1'},\n",
       " {'id': 'maggie'},\n",
       " {'id': 'Biotech.Floor_4.Lab_433.Hood_2'},\n",
       " {'id': 'hoods'},\n",
       " {'id': 'Biotech.Floor_4.Lab_441.Hood_1'}]"
      ]
     },
     "execution_count": 5,
     "metadata": {},
     "output_type": "execute_result"
    }
   ],
   "source": [
    "dynamodb = boto3.resource('dynamodb', region_name=\"us-east-1\")\n",
    "\n",
    "table = dynamodb.Table('fumehoods')\n",
    "\n",
    "response = table.scan(ProjectionExpression=\"id\")\n",
    "data = response['Items']\n",
    "\n",
    "# Uncomment for large queries\n",
    "# while 'LastEvaluatedKey' in response:\n",
    "#     response = table.scan(ExclusiveStartKey=response['LastEvaluatedKey'])\n",
    "#     data.extend(response['Items'])\n",
    "\n",
    "data"
   ]
  },
  {
   "cell_type": "code",
   "execution_count": null,
   "metadata": {},
   "outputs": [],
   "source": []
  }
 ],
 "metadata": {
  "kernelspec": {
   "display_name": "base",
   "language": "python",
   "name": "python3"
  },
  "language_info": {
   "codemirror_mode": {
    "name": "ipython",
    "version": 3
   },
   "file_extension": ".py",
   "mimetype": "text/x-python",
   "name": "python",
   "nbconvert_exporter": "python",
   "pygments_lexer": "ipython3",
   "version": "3.11.4"
  },
  "orig_nbformat": 4
 },
 "nbformat": 4,
 "nbformat_minor": 2
}
