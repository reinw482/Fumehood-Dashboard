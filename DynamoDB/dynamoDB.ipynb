{
 "cells": [
  {
   "cell_type": "markdown",
   "metadata": {},
   "source": [
    "### dynamoDB\n",
    "This notebook adds data to the dynamoDB database"
   ]
  },
  {
   "cell_type": "code",
   "execution_count": 1,
   "metadata": {},
   "outputs": [],
   "source": [
    "import boto3\n",
    "import os\n",
    "import json\n",
    "from dotenv import load_dotenv"
   ]
  },
  {
   "cell_type": "code",
   "execution_count": 2,
   "metadata": {},
   "outputs": [
    {
     "data": {
      "text/plain": [
       "True"
      ]
     },
     "execution_count": 2,
     "metadata": {},
     "output_type": "execute_result"
    }
   ],
   "source": [
    "# Load the environment variables from the .env file\n",
    "load_dotenv()"
   ]
  },
  {
   "cell_type": "code",
   "execution_count": 7,
   "metadata": {},
   "outputs": [
    {
     "name": "stdout",
     "output_type": "stream",
     "text": [
      "None\n",
      "None\n",
      "None\n",
      "None\n",
      "Hoods:\n"
     ]
    },
    {
     "data": {
      "text/plain": [
       "{'id': {'S': 'hoods'},\n",
       " 'map': {'M': {'Biotech.Floor_3.Lab_317.Hood_1': {'M': {'flow_sensor': {'S': '#path_to_this_sensor'},\n",
       "     'floor': {'S': '3'},\n",
       "     'lab': {'S': '317'},\n",
       "     'hood': {'S': '1'},\n",
       "     'building': {'S': 'Biotech'}}},\n",
       "   'Biotech.Floor_4.Lab_433.Hood_1': {'M': {'flow_sensor': {'S': '#path_to_this_sensor'},\n",
       "     'floor': {'S': '4'},\n",
       "     'lab': {'S': '433'},\n",
       "     'hood': {'S': '1'},\n",
       "     'building': {'S': 'Biotech'}}}}}}"
      ]
     },
     "metadata": {},
     "output_type": "display_data"
    },
    {
     "name": "stdout",
     "output_type": "stream",
     "text": [
      "Buildings:\n"
     ]
    },
    {
     "data": {
      "text/plain": [
       "{'id': {'S': 'buildings'},\n",
       " 'map': {'M': {'Biotech': {'M': {'external_temp_sensor': {'S': '#path_to...'}}},\n",
       "   'Weill': {'M': {'external_temp_sensor': {'S': '#path_to...'}}}}}}"
      ]
     },
     "metadata": {},
     "output_type": "display_data"
    },
    {
     "name": "stdout",
     "output_type": "stream",
     "text": [
      "Labs:\n"
     ]
    },
    {
     "data": {
      "text/plain": [
       "{'id': {'S': 'labs'},\n",
       " 'map': {'M': {'Biotech.Floor_3.Lab_317': {'M': {'occ_sensor': {'S': '#path_to_this_sensor'},\n",
       "     'internal_temp_sensor': {'S': '#path_to_this_sensor'},\n",
       "     'floor': {'S': '3'},\n",
       "     'lab': {'S': '317'},\n",
       "     'building': {'S': 'Biotech'}}}}}}"
      ]
     },
     "metadata": {},
     "output_type": "display_data"
    },
    {
     "name": "stdout",
     "output_type": "stream",
     "text": [
      "Occupants:\n"
     ]
    },
    {
     "data": {
      "text/plain": [
       "{'id': {'S': 'occupants'},\n",
       " 'map': {'M': {'rf377@cornell.edu': {'M': {'name': {'S': 'Reid Fleishman'},\n",
       "     'lab': {'S': 'Biotech.Floor_3.Lab_317'}}}}}}"
      ]
     },
     "metadata": {},
     "output_type": "display_data"
    }
   ],
   "source": [
    "# Creating the DynamoDB Client\n",
    "# make sure to set the AWS_ACCESS_KEY_ID and\n",
    "# AWS_SECRET_ACCESS_KEY environment variables\n",
    "# OR pass credentials when creating the client:\n",
    "dynamodb_client = boto3.client('dynamodb', region_name=\"us-east-1\")\n",
    "\n",
    "TABLE_NAME = \"fumehoods\"\n",
    "\n",
    "dyn_resource = boto3.resource(\"dynamodb\", region_name=\"us-east-1\")\n",
    "TABLE_NAME = \"fumehoods\"\n",
    "table = dyn_resource.Table(TABLE_NAME)\n",
    "\n",
    "hoods = {\n",
    "    \"id\": \"hoods\",\n",
    "    \"map\": {\n",
    "        \"Biotech.Floor_3.Lab_317.Hood_1\": {\n",
    "            \"building\": \"Biotech\",\n",
    "            \"floor\": \"3\",\n",
    "            \"lab\": \"317\",\n",
    "            \"hood\": \"1\",\n",
    "            \"flow_sensor\": \"#path_to_this_sensor\",\n",
    "        },\n",
    "        \"Biotech.Floor_4.Lab_433.Hood_1\": {\n",
    "            \"building\": \"Biotech\",\n",
    "            \"floor\": \"4\",\n",
    "            \"lab\": \"433\",\n",
    "            \"hood\": \"1\",\n",
    "            \"flow_sensor\": \"#path_to_this_sensor\",\n",
    "        },\n",
    "    },\n",
    "}\n",
    "\n",
    "buildings = {\n",
    "    \"id\": \"buildings\",\n",
    "    \"map\": {\n",
    "        \"Biotech\": {\"external_temp_sensor\": \"#path_to...\"},\n",
    "        \"Weill\": {\"external_temp_sensor\": \"#path_to...\"},\n",
    "    },\n",
    "}\n",
    "\n",
    "labs = {\n",
    "    \"id\": \"labs\",\n",
    "    \"map\": {\n",
    "        \"Biotech.Floor_3.Lab_317\": {\n",
    "            \"building\": \"Biotech\",\n",
    "            \"floor\": \"3\",\n",
    "            \"lab\": \"317\",\n",
    "            \"occ_sensor\": \"#path_to_this_sensor\",\n",
    "            \"internal_temp_sensor\": \"#path_to_this_sensor\",\n",
    "        },\n",
    "    },\n",
    "}\n",
    "\n",
    "occupants = {\n",
    "    \"id\": \"occupants\",\n",
    "    \"map\": {\n",
    "        \"rf377@cornell.edu\": {\n",
    "            \"name\": \"Reid Fleishman\",\n",
    "            \"lab\": \"Biotech.Floor_3.Lab_317\",\n",
    "        },\n",
    "    },\n",
    "}\n",
    "\n",
    "# Put the above data into the table\n",
    "with table.batch_writer() as writer:\n",
    "    response = writer.put_item(Item=hoods)\n",
    "    print(response)\n",
    "    response = writer.put_item(Item=buildings)\n",
    "    print(response)\n",
    "    response = writer.put_item(Item=labs)\n",
    "    print(response)\n",
    "    response = writer.put_item(Item=occupants)\n",
    "    print(response)\n",
    "\n",
    "# Print what was just added\n",
    "response = dynamodb_client.get_item(\n",
    "    TableName=TABLE_NAME, Key={\"id\": {\"S\": \"hoods\"}}\n",
    ")\n",
    "print(\"Hoods:\")\n",
    "display(response[\"Item\"])\n",
    "\n",
    "response = dynamodb_client.get_item(\n",
    "    TableName=TABLE_NAME, Key={\"id\": {\"S\": \"buildings\"}}\n",
    ")\n",
    "print(\"Buildings:\")\n",
    "display(response[\"Item\"])\n",
    "\n",
    "response = dynamodb_client.get_item(\n",
    "    TableName=TABLE_NAME, Key={\"id\": {\"S\": \"labs\"}}\n",
    ")\n",
    "print(\"Labs:\")\n",
    "display(response[\"Item\"])\n",
    "\n",
    "response = dynamodb_client.get_item(\n",
    "    TableName=TABLE_NAME, Key={\"id\": {\"S\": \"occupants\"}}\n",
    ")\n",
    "print(\"Occupants:\")\n",
    "display(response[\"Item\"])"
   ]
  },
  {
   "cell_type": "code",
   "execution_count": 10,
   "metadata": {},
   "outputs": [
    {
     "data": {
      "text/plain": [
       "[{'id': 'Biotech.Floor_4.Lab_433.Hood_1'},\n",
       " {'id': 'BiotechnologyBuilding/lab_433/hood'},\n",
       " {'id': 'buildings'},\n",
       " {'id': 'cat'},\n",
       " {'id': 'Biotech.Floor_3.Lab_317.Hood_1'},\n",
       " {'id': 'occupants'},\n",
       " {'id': 'maggie'},\n",
       " {'id': 'Biotech.Floor_4.Lab_433.Hood_2'},\n",
       " {'id': 'hoods'},\n",
       " {'id': 'labs'},\n",
       " {'id': 'Biotech.Floor_4.Lab_441.Hood_1'}]"
      ]
     },
     "execution_count": 10,
     "metadata": {},
     "output_type": "execute_result"
    }
   ],
   "source": [
    "dynamodb = boto3.resource('dynamodb', region_name=\"us-east-1\")\n",
    "\n",
    "table = dynamodb.Table('fumehoods')\n",
    "\n",
    "response = table.scan(ProjectionExpression=\"id\")\n",
    "data = response['Items']\n",
    "\n",
    "# Uncomment for large queries\n",
    "# while 'LastEvaluatedKey' in response:\n",
    "#     response = table.scan(ExclusiveStartKey=response['LastEvaluatedKey'])\n",
    "#     data.extend(response['Items'])\n",
    "\n",
    "data"
   ]
  }
 ],
 "metadata": {
  "kernelspec": {
   "display_name": "base",
   "language": "python",
   "name": "python3"
  },
  "language_info": {
   "codemirror_mode": {
    "name": "ipython",
    "version": 3
   },
   "file_extension": ".py",
   "mimetype": "text/x-python",
   "name": "python",
   "nbconvert_exporter": "python",
   "pygments_lexer": "ipython3",
   "version": "3.11.4"
  },
  "orig_nbformat": 4
 },
 "nbformat": 4,
 "nbformat_minor": 2
}
