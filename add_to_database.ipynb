{
 "cells": [
  {
   "cell_type": "code",
   "execution_count": 1,
   "metadata": {},
   "outputs": [],
   "source": [
    "import random\n",
    "import time\n",
    "import requests\n",
    "import pandas as pd\n",
    "import numpy as np"
   ]
  },
  {
   "cell_type": "code",
   "execution_count": 11,
   "metadata": {},
   "outputs": [
    {
     "name": "stdout",
     "output_type": "stream",
     "text": [
      "received status_code:200 msg:Insert\n",
      "    rows:12 duplicates:0 \n",
      "    for point:Biotech.GroundFloor.Lab_g54.Hood_1.energy.occ with id:11233324 in 0.182 seconds.\n",
      "received status_code:200 msg:Insert\n",
      "    rows:12 duplicates:6 \n",
      "    for point:Biotech.GroundFloor.Lab_g54.Hood_1.energy.unocc with id:11233325 in 0.142 seconds.\n",
      "received status_code:200 msg:Insert\n",
      "    rows:12 duplicates:0 \n",
      "    for point:Biotech.GroundFloor.Lab_g54.Hood_1.sashOpenTime.occ with id:11233326 in 0.120 seconds.\n"
     ]
    }
   ],
   "source": [
    "def compute_value(_hood, timestamp):\n",
    "    \"\"\"This would be replaced by a real algorithm that computed values \n",
    "    based on which hood, the environment, etc...\"\"\"\n",
    "    return [random.random(), timestamp]\n",
    "\n",
    "# the x-api-key is the secret authentication to allow posting updates\n",
    "headers = {\"x-api-key\": \"LfSpEZ3woOuljzb2EAg0\"}\n",
    "# the endpoint URL for trend updates\n",
    "TREND_API_URL = \"https://7zhs2wplt9.execute-api.us-east-1.amazonaws.com/dev/trend\"\n",
    "# time in seconds that the request will timeout if no response is received.\n",
    "# the API will only run for 6 seconds, so if it can't process\n",
    "# the data posted in that amount of time it will fail.\n",
    "API_TIMEOUT = 6\n",
    "\n",
    "# timestamps\n",
    "now = int(time.time())\n",
    "last_hour = now - now % 3600\n",
    "start_time = last_hour - (3600 * 6)\n",
    "\n",
    "# a list of points\n",
    "points = [\n",
    "    \"Biotech.GroundFloor.Lab_g54.Hood_1.energy.occ\",\n",
    "    \"Biotech.GroundFloor.Lab_g54.Hood_1.energy.unocc\",\n",
    "    \"Biotech.GroundFloor.Lab_g54.Hood_1.sashOpenTime.occ\",\n",
    "]\n",
    "\n",
    "# insert some data and log the results\n",
    "for point in points:\n",
    "    data = [compute_value(point, ts) for ts in range(start_time, last_hour, 3600)]\n",
    "    json_obj = {\"object_name\": point, \"data\": data }\n",
    "    # e.g.\n",
    "    # { \"object_name\": \"Biotech.GroundFloor.Lab_g54.Hood_1.energy.occ\",\n",
    "    # \"data\": [[0, 1681462800], [0, 1681466400], [0, 1681470000], [4.430475, 1681473600]],\n",
    "    # }\n",
    "    req_start = time.time()\n",
    "    response = requests.post(TREND_API_URL, json=json_obj, headers=headers, timeout=API_TIMEOUT)\n",
    "    req_end = time.time()\n",
    "    r = response.json()\n",
    "    print(f\"\"\"received status_code:{response.status_code} msg:{r.get('message', None)}\n",
    "    rows:{r.get('affectedRows', None)} duplicates:{r.get('duplicates', None)} \n",
    "    for point:{point} with id:{r.get('obj_id', None)} in {req_end-req_start:.3f} seconds.\"\"\")"
   ]
  },
  {
   "cell_type": "code",
   "execution_count": 14,
   "metadata": {},
   "outputs": [
    {
     "name": "stdout",
     "output_type": "stream",
     "text": [
      "<Response [200]>\n"
     ]
    },
    {
     "data": {
      "text/plain": [
       "array([(0.33125, '2023-04-26T07:00:00.000'),\n",
       "       (0.91567, '2023-04-26T08:00:00.000'),\n",
       "       (0.09101, '2023-04-26T09:00:00.000'),\n",
       "       (0.85203, '2023-04-26T10:00:00.000'),\n",
       "       (0.29085, '2023-04-26T11:00:00.000'),\n",
       "       (0.95329, '2023-04-26T12:00:00.000')],\n",
       "      dtype=[('value', '<f8'), ('ts', '<M8[ms]')])"
      ]
     },
     "metadata": {},
     "output_type": "display_data"
    },
    {
     "name": "stdout",
     "output_type": "stream",
     "text": [
      "<Response [200]>\n"
     ]
    },
    {
     "data": {
      "text/plain": [
       "array([(0.33125, '2023-04-26T07:00:00.000'),\n",
       "       (0.91567, '2023-04-26T08:00:00.000'),\n",
       "       (0.09101, '2023-04-26T09:00:00.000'),\n",
       "       (0.85203, '2023-04-26T10:00:00.000'),\n",
       "       (0.29085, '2023-04-26T11:00:00.000'),\n",
       "       (0.95329, '2023-04-26T12:00:00.000')],\n",
       "      dtype=[('value', '<f8'), ('ts', '<M8[ms]')])"
      ]
     },
     "metadata": {},
     "output_type": "display_data"
    }
   ],
   "source": [
    "def create_tuple(response):\n",
    "    response_data = response.json()\n",
    "    response_datum = response_data[0]\n",
    "    response_target = response_datum['target']\n",
    "    response_datapoints = response_datum['datapoints']\n",
    "    tuple_array = [tuple(x) for x in response_datapoints]\n",
    "    npa = np.array(tuple_array, dtype=[\n",
    "        ('value', np.double), ('ts', 'datetime64[ms]')])\n",
    "    return npa\n",
    "\n",
    "def synthetic_query(target, start, end):\n",
    "    url = \"https://portal.emcs.cornell.edu/api/datasources/proxy/5/query\"\n",
    "    data = {\n",
    "        \"range\": {\n",
    "          \"from\": \"2023-04-25T00:00:00.000\",\n",
    "          \"to\": \"2023-04-27T00:00:00.000\",\n",
    "        },\n",
    "        \"targets\": [\n",
    "          {\n",
    "            \"target\": \"Biotech.GroundFloor.Lab_g54.Hood_1.energy.occ\"\n",
    "          }\n",
    "        ],\n",
    "\n",
    "      }\n",
    "    request = requests.post(url, json=data)\n",
    "    print(request)\n",
    "    # print(request.json())\n",
    "    return create_tuple(request)\n",
    "\n",
    "display(synthetic_query(target=\"Biotech.GroundFloor.Lab_g54.Hood_1.energy.occ\", start=\"2023-04-25T00:00:00.000\", end=\"2023-04-27T00:00:00.000\"))\n",
    "display(synthetic_query(target=\"Biotech.GroundFloor.Lab_g54.Hood_1.energy.unocc\", start=\"2023-04-25T00:00:00.000\", end=\"2023-04-27T00:00:00.000\"))"
   ]
  },
  {
   "cell_type": "code",
   "execution_count": null,
   "metadata": {},
   "outputs": [],
   "source": []
  }
 ],
 "metadata": {
  "kernelspec": {
   "display_name": "base",
   "language": "python",
   "name": "python3"
  },
  "language_info": {
   "codemirror_mode": {
    "name": "ipython",
    "version": 3
   },
   "file_extension": ".py",
   "mimetype": "text/x-python",
   "name": "python",
   "nbconvert_exporter": "python",
   "pygments_lexer": "ipython3",
   "version": "3.9.12"
  },
  "orig_nbformat": 4
 },
 "nbformat": 4,
 "nbformat_minor": 2
}
