{
 "cells": [
  {
   "cell_type": "code",
   "execution_count": 7,
   "metadata": {
    "collapsed": true
   },
   "outputs": [],
   "source": [
    "from querymodule import fume_query, query_to_list, total_energy, total_time_sash_open\n",
    "import pandas as pd\n",
    "import numpy as np\n",
    "from datetime import datetime\n",
    "from dateutil import tz\n",
    "import requests\n",
    "import json\n",
    "import matplotlib.pyplot as plt\n",
    "import math\n",
    "import scipy.stats as st\n",
    "\n",
    "from dateutil import parser\n",
    "import matplotlib.dates as mdates\n",
    "\n",
    "points = pd.read_csv(\"pointnames.csv\")"
   ]
  },
  {
   "cell_type": "code",
   "execution_count": 8,
   "outputs": [
    {
     "name": "stdout",
     "output_type": "stream",
     "text": [
      "<Response [200]>\n",
      "<Response [200]>\n",
      "<Response [200]>\n",
      "<Response [200]>\n",
      "<Response [200]>\n",
      "<Response [200]>\n",
      "<Response [200]>\n",
      "<Response [200]>\n",
      "<Response [200]>\n",
      "<Response [200]>\n",
      "<Response [200]>\n",
      "<Response [200]>\n",
      "<Response [200]>\n",
      "<Response [200]>\n",
      "<Response [200]>\n",
      "<Response [200]>\n",
      "<Response [200]>\n",
      "<Response [200]>\n",
      "<Response [200]>\n",
      "<Response [200]>\n",
      "<Response [200]>\n",
      "<Response [200]>\n",
      "<Response [200]>\n",
      "<Response [200]>\n",
      "<Response [200]>\n",
      "<Response [200]>\n",
      "<Response [200]>\n",
      "<Response [200]>\n",
      "<Response [200]>\n",
      "<Response [200]>\n",
      "<Response [200]>\n",
      "<Response [200]>\n",
      "<Response [200]>\n",
      "<Response [200]>\n",
      "<Response [200]>\n",
      "<Response [200]>\n",
      "<Response [200]>\n",
      "<Response [200]>\n",
      "<Response [200]>\n",
      "<Response [200]>\n",
      "<Response [200]>\n",
      "<Response [200]>\n",
      "<Response [200]>\n",
      "<Response [200]>\n",
      "<Response [200]>\n",
      "<Response [200]>\n",
      "<Response [200]>\n",
      "<Response [200]>\n",
      "<Response [200]>\n",
      "<Response [200]>\n",
      "<Response [200]>\n",
      "<Response [200]>\n",
      "<Response [200]>\n",
      "<Response [200]>\n",
      "<Response [200]>\n",
      "<Response [200]>\n",
      "<Response [200]>\n",
      "<Response [200]>\n",
      "<Response [200]>\n",
      "<Response [200]>\n",
      "<Response [200]>\n",
      "<Response [200]>\n",
      "<Response [200]>\n",
      "<Response [200]>\n",
      "<Response [200]>\n",
      "<Response [200]>\n",
      "[0.03092436974789916, 0.34689075630252103, 0.2398250924991591, 0.3032952252858104, 0.0003363605785401951, 0.7097208207198117, 0.0013449899125756557, 0.27596638655462186, 0.7287394957983193, 0.2049731182795699, 0.932996632996633, 0.12869623655913978, 0.21082716879623403, 0.8179676985195155, 0.3537323470073974, 0.7001680672268907, 0.19468728984532616, 0.055163134880592, 0.6915322580645161, 0.22379032258064516, 0.20430107526881722, 0.07224462365591398, 0.4477310924369748, 0.3592069892473118, 0.2664650537634409, 0.010081774392293043, 0.43430043687689035, 0.22957983193277312, 0.24747814391392065, 0.41431451612903225, 0.5349697377269671, 0.9963025210084033, 0.6479488903833222, 0.19502353732347008, 0.23823924731182797, 0.2241263440860215, 0.3605510752688172, 0.006720430107526882, 0.23260504201680673, 0.11391129032258064, 0.04572965702757229, 1.0, 0.24599529517195026, 0.7279757901815737, 0.01546738399462004, 0.22453781512605042, 0.7236974789915966, 0.26948924731182794, 0.22554621848739495, 0.5231854838709677, 0.21116341627437793, 0.9865501008742434, 0.6075991930060525, 0.8880672268907563, 0.8578151260504202, 0.2447058823529412, 0.20934139784946237, 1.0, 0.24941176470588236, 0.92, 0.9670698924731183, 0.05040322580645161, 0.03293010752688172, 0.0010080645161290322, 0.27361344537815124, 0.0228494623655914]\n"
     ]
    }
   ],
   "source": [
    "def has_been_closed(sash_point,server,start,end):\n",
    "    query = fume_query(sash_point,server,start,end)\n",
    "    inches = [i[0] for i in query]\n",
    "    ratio = inches.count(min(inches))/len(inches)\n",
    "    return(ratio)\n",
    "\n",
    "sash_point = points[\"Sash\"][0]\n",
    "server  = points[\"Server\"][0]\n",
    "time_start = str(datetime(2022, 12,1))\n",
    "time_end = str(datetime(2022, 12,31))\n",
    "\n",
    "\n",
    "sash_points = points[\"Sash\"]\n",
    "ratio_list = [has_been_closed(sash_points[i], server,time_start,time_end) for i in range(len(sash_points))]\n",
    "print(ratio_list)"
   ],
   "metadata": {
    "collapsed": false
   }
  },
  {
   "cell_type": "code",
   "execution_count": null,
   "outputs": [],
   "source": [],
   "metadata": {
    "collapsed": false
   }
  }
 ],
 "metadata": {
  "kernelspec": {
   "display_name": "Python 3",
   "language": "python",
   "name": "python3"
  },
  "language_info": {
   "codemirror_mode": {
    "name": "ipython",
    "version": 2
   },
   "file_extension": ".py",
   "mimetype": "text/x-python",
   "name": "python",
   "nbconvert_exporter": "python",
   "pygments_lexer": "ipython2",
   "version": "2.7.6"
  }
 },
 "nbformat": 4,
 "nbformat_minor": 0
}
