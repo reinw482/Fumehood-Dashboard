{
 "cells": [
  {
   "cell_type": "code",
   "execution_count": 1,
   "metadata": {
    "collapsed": true
   },
   "outputs": [],
   "source": [
    "from querymodule import fume_query, query_to_list, total_energy, total_time_sash_open\n",
    "import pandas as pd\n",
    "import numpy as np\n",
    "from datetime import datetime\n",
    "import plotly.express as px\n",
    "from dateutil import tz\n",
    "import requests\n",
    "import json\n",
    "import matplotlib.pyplot as plt\n",
    "import math\n",
    "import scipy.stats as st\n",
    "\n",
    "from dateutil import parser\n",
    "import matplotlib.dates as mdates\n",
    "\n",
    "points = pd.read_csv(\"pointnames.csv\")"
   ]
  },
  {
   "cell_type": "code",
   "execution_count": 9,
   "outputs": [],
   "source": [
    "\"\"\"\n",
    "Coversion factors:\n",
    "From-Unit\tTo-Unit\tfactor\n",
    "=========   =======     ========\n",
    "Ton-Hour    $           0.198\n",
    "kWh         $           0.094\n",
    "Klbs        $           29.9\n",
    "BTU         $           2.65E-05\n",
    "Ton-Hour    lbCO2       0.275\n",
    "kWh         lbCO2       0.439\n",
    "Klbs        lbCO2       45\n",
    "BTU         lbCO2       3.99E-05\n",
    "\"\"\"\n",
    "\n",
    "sashpoints = points[\"Sash\"]\n",
    "hoodpoints = points[\"Hood\"]\n",
    "occpoints = points[\"Occupancy\"]\n",
    "internaltemp = points[\"Internal Temp\"]\n",
    "externaltemp = points[\"External Temp\"]\n",
    "\n",
    "server  = points[\"Server\"][0]\n",
    "time_start = str(datetime(2022, 1,1))\n",
    "time_end = str(datetime(2022, 12,31))\n",
    "sash_points = points[\"Sash\"]"
   ],
   "metadata": {
    "collapsed": false
   }
  },
  {
   "cell_type": "code",
   "execution_count": 10,
   "outputs": [],
   "source": [
    "#total_energy(cfm_point, sash_point, occ_point, internal_temp_point, external_temp_point, server, start, end, is_occupied)\n",
    "\n",
    "energy_list = [total_energy(hoodpoints[i], sashpoints[i],occpoints[i],internaltemp[i],externaltemp[i],server,time_start,time_end,True) for i in range(len(sashpoints))]"
   ],
   "metadata": {
    "collapsed": false
   }
  },
  {
   "cell_type": "code",
   "execution_count": 11,
   "outputs": [
    {
     "data": {
      "text/plain": "    Name           BTU        Cost         CO2\n0    g54  6.713141e+06  177.898229  267.854315\n1    141  1.348969e+07  357.476843  538.238718\n2    143  1.401541e+07  371.408322  559.214794\n3   147b  1.352986e+07  358.541214  539.841299\n4    153  1.072199e+07  284.132804  427.807505\n..   ...           ...         ...         ...\n61  445b  2.238213e+07  593.126518  893.047097\n62   453  1.575869e+07  417.605304  628.771760\n63  453b  1.695292e+07  449.252303  676.421392\n64   457  2.057153e+07  545.145512  820.803998\n65  457b  1.970485e+07  522.178400  786.223327\n\n[66 rows x 4 columns]",
      "text/html": "<div>\n<style scoped>\n    .dataframe tbody tr th:only-of-type {\n        vertical-align: middle;\n    }\n\n    .dataframe tbody tr th {\n        vertical-align: top;\n    }\n\n    .dataframe thead th {\n        text-align: right;\n    }\n</style>\n<table border=\"1\" class=\"dataframe\">\n  <thead>\n    <tr style=\"text-align: right;\">\n      <th></th>\n      <th>Name</th>\n      <th>BTU</th>\n      <th>Cost</th>\n      <th>CO2</th>\n    </tr>\n  </thead>\n  <tbody>\n    <tr>\n      <th>0</th>\n      <td>g54</td>\n      <td>6.713141e+06</td>\n      <td>177.898229</td>\n      <td>267.854315</td>\n    </tr>\n    <tr>\n      <th>1</th>\n      <td>141</td>\n      <td>1.348969e+07</td>\n      <td>357.476843</td>\n      <td>538.238718</td>\n    </tr>\n    <tr>\n      <th>2</th>\n      <td>143</td>\n      <td>1.401541e+07</td>\n      <td>371.408322</td>\n      <td>559.214794</td>\n    </tr>\n    <tr>\n      <th>3</th>\n      <td>147b</td>\n      <td>1.352986e+07</td>\n      <td>358.541214</td>\n      <td>539.841299</td>\n    </tr>\n    <tr>\n      <th>4</th>\n      <td>153</td>\n      <td>1.072199e+07</td>\n      <td>284.132804</td>\n      <td>427.807505</td>\n    </tr>\n    <tr>\n      <th>...</th>\n      <td>...</td>\n      <td>...</td>\n      <td>...</td>\n      <td>...</td>\n    </tr>\n    <tr>\n      <th>61</th>\n      <td>445b</td>\n      <td>2.238213e+07</td>\n      <td>593.126518</td>\n      <td>893.047097</td>\n    </tr>\n    <tr>\n      <th>62</th>\n      <td>453</td>\n      <td>1.575869e+07</td>\n      <td>417.605304</td>\n      <td>628.771760</td>\n    </tr>\n    <tr>\n      <th>63</th>\n      <td>453b</td>\n      <td>1.695292e+07</td>\n      <td>449.252303</td>\n      <td>676.421392</td>\n    </tr>\n    <tr>\n      <th>64</th>\n      <td>457</td>\n      <td>2.057153e+07</td>\n      <td>545.145512</td>\n      <td>820.803998</td>\n    </tr>\n    <tr>\n      <th>65</th>\n      <td>457b</td>\n      <td>1.970485e+07</td>\n      <td>522.178400</td>\n      <td>786.223327</td>\n    </tr>\n  </tbody>\n</table>\n<p>66 rows × 4 columns</p>\n</div>"
     },
     "execution_count": 11,
     "metadata": {},
     "output_type": "execute_result"
    }
   ],
   "source": [
    "mean_btu = [np.sum(i) for i in energy_list]\n",
    "data = {\"Name\": points[\"Lab\"], \"BTU\":mean_btu}\n",
    "ndf = pd.DataFrame(data)\n",
    "ndf[\"Cost\"] = ndf[\"BTU\"]*0.0000265\n",
    "ndf[\"CO2\"] = ndf[\"BTU\"]* 0.0000399\n",
    "ndf"
   ],
   "metadata": {
    "collapsed": false
   }
  },
  {
   "cell_type": "code",
   "execution_count": 12,
   "outputs": [
    {
     "data": {
      "text/plain": "27867.169582410857"
     },
     "execution_count": 12,
     "metadata": {},
     "output_type": "execute_result"
    }
   ],
   "source": [
    "total_cost = np.sum(ndf[\"Cost\"])\n",
    "total_cost"
   ],
   "metadata": {
    "collapsed": false
   }
  },
  {
   "cell_type": "code",
   "execution_count": 13,
   "outputs": [
    {
     "data": {
      "text/plain": "41958.49306936578"
     },
     "execution_count": 13,
     "metadata": {},
     "output_type": "execute_result"
    }
   ],
   "source": [
    "total_co2 = np.sum(ndf[\"CO2\"])\n",
    "total_co2"
   ],
   "metadata": {
    "collapsed": false
   }
  },
  {
   "cell_type": "code",
   "execution_count": null,
   "outputs": [],
   "source": [],
   "metadata": {
    "collapsed": false
   }
  }
 ],
 "metadata": {
  "kernelspec": {
   "display_name": "Python 3",
   "language": "python",
   "name": "python3"
  },
  "language_info": {
   "codemirror_mode": {
    "name": "ipython",
    "version": 2
   },
   "file_extension": ".py",
   "mimetype": "text/x-python",
   "name": "python",
   "nbconvert_exporter": "python",
   "pygments_lexer": "ipython2",
   "version": "2.7.6"
  }
 },
 "nbformat": 4,
 "nbformat_minor": 0
}
