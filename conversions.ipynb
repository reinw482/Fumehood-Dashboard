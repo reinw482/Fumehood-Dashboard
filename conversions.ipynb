{
 "cells": [
  {
   "cell_type": "code",
   "execution_count": 21,
   "metadata": {
    "collapsed": true
   },
   "outputs": [],
   "source": [
    "from querymodule import fume_query, query_to_list, total_energy, total_time_sash_open\n",
    "import pandas as pd\n",
    "import numpy as np\n",
    "from datetime import datetime\n",
    "import plotly.express as px\n",
    "from dateutil import tz\n",
    "import requests\n",
    "import json\n",
    "import matplotlib.pyplot as plt\n",
    "import math\n",
    "import scipy.stats as st\n",
    "\n",
    "from dateutil import parser\n",
    "import matplotlib.dates as mdates\n",
    "\n",
    "points = pd.read_csv(\"pointnames.csv\")"
   ]
  },
  {
   "cell_type": "code",
   "execution_count": 39,
   "outputs": [],
   "source": [
    "\"\"\"\n",
    "Coversion factors:\n",
    "From-Unit\tTo-Unit\tfactor\n",
    "=========   =======     ========\n",
    "Ton-Hour    $           0.198\n",
    "kWh         $           0.094\n",
    "Klbs        $           29.9\n",
    "BTU         $           2.65E-05\n",
    "Ton-Hour    lbCO2       0.275\n",
    "kWh         lbCO2       0.439\n",
    "Klbs        lbCO2       45\n",
    "BTU         lbCO2       3.99E-05\n",
    "\"\"\"\n",
    "\n",
    "sashpoints = points[\"Sash\"]\n",
    "hoodpoints = points[\"Hood\"]\n",
    "occpoints = points[\"Occupancy\"]\n",
    "internaltemp = points[\"Internal Temp\"]\n",
    "externaltemp = points[\"External Temp\"]\n",
    "\n",
    "server  = points[\"Server\"][0]\n",
    "time_start = str(datetime(2022, 1,1))\n",
    "time_end = str(datetime(2022, 12,31))\n",
    "sash_points = points[\"Sash\"]"
   ],
   "metadata": {
    "collapsed": false
   }
  },
  {
   "cell_type": "code",
   "execution_count": null,
   "outputs": [],
   "source": [
    "#total_energy(cfm_point, sash_point, occ_point, internal_temp_point, external_temp_point, server, start, end, is_occupied)\n",
    "\n",
    "energy_list = [total_energy(hoodpoints[i], sashpoints[i],occpoints[i],internaltemp[i],externaltemp[i],server,time_start,time_end,True) for i in range(len(sashpoints))]"
   ],
   "metadata": {
    "collapsed": false,
    "pycharm": {
     "is_executing": true
    }
   }
  },
  {
   "cell_type": "code",
   "execution_count": null,
   "outputs": [],
   "source": [
    "mean_btu = [np.sum(i) for i in energy_list]\n",
    "data = {\"Name\": points[\"Lab\"], \"BTU\":mean_btu}\n",
    "ndf = pd.DataFrame(data)\n",
    "ndf[\"Cost\"] = ndf[\"BTU\"]*0.0000265\n",
    "ndf[\"CO2\"] = ndf[\"BTU\"]* 0.0000399\n",
    "ndf"
   ],
   "metadata": {
    "collapsed": false,
    "pycharm": {
     "is_executing": true
    }
   }
  },
  {
   "cell_type": "code",
   "execution_count": null,
   "outputs": [],
   "source": [
    "total_cost = np.sum(ndf[\"Cost\"])\n",
    "total_cost"
   ],
   "metadata": {
    "collapsed": false,
    "pycharm": {
     "is_executing": true
    }
   }
  },
  {
   "cell_type": "code",
   "execution_count": null,
   "outputs": [],
   "source": [],
   "metadata": {
    "collapsed": false
   }
  }
 ],
 "metadata": {
  "kernelspec": {
   "display_name": "Python 3",
   "language": "python",
   "name": "python3"
  },
  "language_info": {
   "codemirror_mode": {
    "name": "ipython",
    "version": 2
   },
   "file_extension": ".py",
   "mimetype": "text/x-python",
   "name": "python",
   "nbconvert_exporter": "python",
   "pygments_lexer": "ipython2",
   "version": "2.7.6"
  }
 },
 "nbformat": 4,
 "nbformat_minor": 0
}
