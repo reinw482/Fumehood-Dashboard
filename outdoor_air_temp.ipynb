{
 "cells": [
  {
   "cell_type": "code",
   "execution_count": 2,
   "metadata": {},
   "outputs": [],
   "source": [
    "import pandas as pd\n",
    "import numpy as np\n",
    "# import datetime\n",
    "from datetime import datetime, timezone\n",
    "import requests\n",
    "import json\n",
    "import matplotlib.pyplot as plt\n",
    "import math\n",
    "import scipy.stats as st\n",
    "\n",
    "from dateutil import parser\n",
    "import matplotlib.dates as mdates"
   ]
  },
  {
   "cell_type": "code",
   "execution_count": 3,
   "metadata": {},
   "outputs": [],
   "source": [
    "def create_tuple(response):\n",
    "    response_data = response.json()\n",
    "    response_datum = response_data[0]\n",
    "    response_target = response_datum['target']\n",
    "    response_datapoints = response_datum['datapoints']\n",
    "    tuple_array = [tuple(x) for x in response_datapoints]\n",
    "    npa = np.array(tuple_array, dtype=[\n",
    "        ('value', np.double), ('ts', 'datetime64[ms]')])\n",
    "    return npa"
   ]
  },
  {
   "cell_type": "code",
   "execution_count": 4,
   "metadata": {},
   "outputs": [],
   "source": [
    "def current_date():\n",
    "    return str(datetime.now())"
   ]
  },
  {
   "cell_type": "code",
   "execution_count": 13,
   "metadata": {},
   "outputs": [
    {
     "name": "stdout",
     "output_type": "stream",
     "text": [
      "<Response [200]>\n"
     ]
    },
    {
     "data": {
      "text/plain": [
       "array([(40.5, '2021-12-25T05:00:00.000'),\n",
       "       (40.5, '2021-12-25T05:15:00.000'),\n",
       "       (40.5, '2021-12-25T05:30:00.000'), ...,\n",
       "       (35.5, '2023-03-10T21:30:00.000'),\n",
       "       (35.5, '2023-03-10T21:45:00.000'),\n",
       "       (35.5, '2023-03-10T22:00:00.000')],\n",
       "      dtype=[('value', '<f8'), ('ts', '<M8[ms]')])"
      ]
     },
     "execution_count": 13,
     "metadata": {},
     "output_type": "execute_result"
    }
   ],
   "source": [
    "\"\"\"\n",
    "Returns an array of tuples where tuple[0] is the metric, and tuple[1] is the time \n",
    "of measurement\n",
    "\n",
    "Target: a WebCTRL point name in the form of a string \n",
    "Example: \"#biotech/biotech_4th_floor/fourth_floor_fume_hood_lab_spaces/lab_433_control/zone/zone_temp/trend_log\"\n",
    "\n",
    "Server: a string representing the WebCTRL server our point exists in\n",
    "Example: \"biotech_main\"\n",
    "\n",
    "Start: the start time we wish to be querying data about (in string format)\n",
    "Example: \"2021-12-31T11:00Z\"\n",
    "\n",
    "End: The end time we wish to be querying data about\n",
    "Example: \"2022-12-31T11:00Z\"\n",
    "\"\"\"\n",
    "def fume_query(target,server, start,end):\n",
    "  url = \"https://ypsu0n34jc.execute-api.us-east-1.amazonaws.com/dev/query\"\n",
    "  data = {\n",
    "      \"range\": {\n",
    "        \"from\": start,\n",
    "        \"to\": end,\n",
    "      },\n",
    "      \"targets\": [\n",
    "        {\n",
    "          \"payload\": {\n",
    "            \"schema\": server,\n",
    "          },\n",
    "          \"target\": target\n",
    "        }\n",
    "      ],\n",
    "\n",
    "    }\n",
    "  request = requests.post(url, json=data)\n",
    "  print(request)\n",
    "  return create_tuple(request)\n",
    "fume_query(target=\"#biotech/ground_flr_mech/building_hydronic_heating_syatems/reheat_heat_exchanger/oat\", server=\"biotech_main\", start=\"2021-12-25T00:00:00.000\", end=current_date())"
   ]
  },
  {
   "cell_type": "code",
   "execution_count": 14,
   "metadata": {},
   "outputs": [
    {
     "name": "stdout",
     "output_type": "stream",
     "text": [
      "<Response [200]>\n",
      "\n",
      "OAT List:  2021-11-17 05:00:00    35.2\n",
      "2021-11-17 05:15:00    35.3\n",
      "2021-11-17 05:30:00    35.5\n",
      "2021-11-17 05:45:00    35.6\n",
      "2021-11-17 06:00:00    35.3\n",
      "                       ... \n",
      "2021-11-18 03:45:00    50.5\n",
      "2021-11-18 04:00:00    50.3\n",
      "2021-11-18 04:15:00    50.3\n",
      "2021-11-18 04:30:00    50.5\n",
      "2021-11-18 04:45:00    50.6\n",
      "Length: 96, dtype: float64\n"
     ]
    },
    {
     "data": {
      "text/html": [
       "<div>\n",
       "<style scoped>\n",
       "    .dataframe tbody tr th:only-of-type {\n",
       "        vertical-align: middle;\n",
       "    }\n",
       "\n",
       "    .dataframe tbody tr th {\n",
       "        vertical-align: top;\n",
       "    }\n",
       "\n",
       "    .dataframe thead th {\n",
       "        text-align: right;\n",
       "    }\n",
       "</style>\n",
       "<table border=\"1\" class=\"dataframe\">\n",
       "  <thead>\n",
       "    <tr style=\"text-align: right;\">\n",
       "      <th></th>\n",
       "      <th>OAT</th>\n",
       "    </tr>\n",
       "  </thead>\n",
       "  <tbody>\n",
       "    <tr>\n",
       "      <th>2021-11-17 05:00:00</th>\n",
       "      <td>35.2</td>\n",
       "    </tr>\n",
       "    <tr>\n",
       "      <th>2021-11-17 05:15:00</th>\n",
       "      <td>35.3</td>\n",
       "    </tr>\n",
       "    <tr>\n",
       "      <th>2021-11-17 05:30:00</th>\n",
       "      <td>35.5</td>\n",
       "    </tr>\n",
       "    <tr>\n",
       "      <th>2021-11-17 05:45:00</th>\n",
       "      <td>35.6</td>\n",
       "    </tr>\n",
       "    <tr>\n",
       "      <th>2021-11-17 06:00:00</th>\n",
       "      <td>35.3</td>\n",
       "    </tr>\n",
       "    <tr>\n",
       "      <th>...</th>\n",
       "      <td>...</td>\n",
       "    </tr>\n",
       "    <tr>\n",
       "      <th>2021-11-18 03:45:00</th>\n",
       "      <td>50.5</td>\n",
       "    </tr>\n",
       "    <tr>\n",
       "      <th>2021-11-18 04:00:00</th>\n",
       "      <td>50.3</td>\n",
       "    </tr>\n",
       "    <tr>\n",
       "      <th>2021-11-18 04:15:00</th>\n",
       "      <td>50.3</td>\n",
       "    </tr>\n",
       "    <tr>\n",
       "      <th>2021-11-18 04:30:00</th>\n",
       "      <td>50.5</td>\n",
       "    </tr>\n",
       "    <tr>\n",
       "      <th>2021-11-18 04:45:00</th>\n",
       "      <td>50.6</td>\n",
       "    </tr>\n",
       "  </tbody>\n",
       "</table>\n",
       "<p>96 rows × 1 columns</p>\n",
       "</div>"
      ],
      "text/plain": [
       "                      OAT\n",
       "2021-11-17 05:00:00  35.2\n",
       "2021-11-17 05:15:00  35.3\n",
       "2021-11-17 05:30:00  35.5\n",
       "2021-11-17 05:45:00  35.6\n",
       "2021-11-17 06:00:00  35.3\n",
       "...                   ...\n",
       "2021-11-18 03:45:00  50.5\n",
       "2021-11-18 04:00:00  50.3\n",
       "2021-11-18 04:15:00  50.3\n",
       "2021-11-18 04:30:00  50.5\n",
       "2021-11-18 04:45:00  50.6\n",
       "\n",
       "[96 rows x 1 columns]"
      ]
     },
     "metadata": {},
     "output_type": "display_data"
    },
    {
     "data": {
      "text/plain": [
       "2021-11-17 05:05:00    35.2\n",
       "2021-11-17 05:10:00     0.0\n",
       "2021-11-17 05:15:00     0.0\n",
       "2021-11-17 05:20:00    35.3\n",
       "2021-11-17 05:25:00     0.0\n",
       "                       ... \n",
       "2021-11-18 04:30:00     0.0\n",
       "2021-11-18 04:35:00    50.5\n",
       "2021-11-18 04:40:00     0.0\n",
       "2021-11-18 04:45:00     0.0\n",
       "2021-11-18 04:50:00    50.6\n",
       "Freq: 5T, Name: OAT, Length: 286, dtype: float64"
      ]
     },
     "execution_count": 14,
     "metadata": {},
     "output_type": "execute_result"
    }
   ],
   "source": [
    "def get_oat(oat_point, server, start, end):\n",
    "  oat_master = fume_query(oat_point, server, start, end)\n",
    "\n",
    "  oat_list = pd.Series(data=[i[0] for i in oat_master], index=[i[1] for i in oat_master])\n",
    "  oat_list.to_csv(\"test.csv\")\n",
    "  oat_list = oat_list[~oat_list.index.duplicated()]\n",
    "  print(\"\\nOAT List: \", oat_list)\n",
    "\n",
    "  df = pd.concat([oat_list], axis=1)\n",
    "  df.columns = [\"OAT\"]\n",
    "  df = df.dropna()\n",
    "  display(df)\n",
    "  df.to_csv(\"test2.csv\")\n",
    "\n",
    "  df = df.groupby(pd.Grouper(freq='5Min', label='right')).sum()\n",
    "  return df[\"OAT\"]\n",
    "\n",
    "get_oat(oat_point=\"#biotech/ground_flr_mech/building_hydronic_heating_syatems/reheat_heat_exchanger/oat\", server=\"biotech_main\", start = str(datetime(2021, 11, 17, 1)), end = str(datetime(2021, 11, 17, 2)))\n",
    "\n",
    "# get_oat(oat_point=\"#biotech_oa_conditions/temperature\", server=\"biotech_main\", start = str(datetime(2021, 11, 17, 1)), end = str(datetime(2021, 11, 17, 2)))\n"
   ]
  },
  {
   "cell_type": "code",
   "execution_count": null,
   "metadata": {},
   "outputs": [],
   "source": []
  }
 ],
 "metadata": {
  "kernelspec": {
   "display_name": "Python 3.10.6 64-bit",
   "language": "python",
   "name": "python3"
  },
  "language_info": {
   "codemirror_mode": {
    "name": "ipython",
    "version": 3
   },
   "file_extension": ".py",
   "mimetype": "text/x-python",
   "name": "python",
   "nbconvert_exporter": "python",
   "pygments_lexer": "ipython3",
   "version": "3.10.6"
  },
  "orig_nbformat": 4,
  "vscode": {
   "interpreter": {
    "hash": "aee8b7b246df8f9039afb4144a1f6fd8d2ca17a180786b69acc140d282b71a49"
   }
  }
 },
 "nbformat": 4,
 "nbformat_minor": 2
}
